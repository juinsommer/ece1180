{
 "cells": [
  {
   "cell_type": "code",
   "execution_count": 1,
   "id": "98ab8a62",
   "metadata": {},
   "outputs": [
    {
     "data": {
      "text/html": [
       "<div id=\"glowscript\" class=\"glowscript\"></div>"
      ],
      "text/plain": [
       "<IPython.core.display.HTML object>"
      ]
     },
     "metadata": {},
     "output_type": "display_data"
    },
    {
     "data": {
      "application/javascript": [
       "if (typeof Jupyter !== \"undefined\") { window.__context = { glowscript_container: $(\"#glowscript\").removeAttr(\"id\")};}else{ element.textContent = ' ';}"
      ],
      "text/plain": [
       "<IPython.core.display.Javascript object>"
      ]
     },
     "metadata": {},
     "output_type": "display_data"
    }
   ],
   "source": [
    "from vpython import*\n",
    "import matplotlib.pyplot as plt\n",
    "import matplotlib.animation as animation\n",
    "import numpy as np\n",
    "import time"
   ]
  },
  {
   "cell_type": "markdown",
   "id": "1537e5e2",
   "metadata": {},
   "source": [
    "# Random generator uniformity confirmation"
   ]
  },
  {
   "cell_type": "code",
   "execution_count": 2,
   "id": "1e476f21",
   "metadata": {
    "scrolled": true
   },
   "outputs": [
    {
     "data": {
      "image/png": "[encoded data removed]",
      "text/plain": [
       "<Figure size 432x288 with 1 Axes>"
      ]
     },
     "metadata": {
      "needs_background": "light"
     },
     "output_type": "display_data"
    }
   ],
   "source": [
    "x = 10000\n",
    "numList = []\n",
    "a = np.random.randint(10000, size=10000)\n",
    "\n",
    "[numList.append(i) for i in range(x)]\n",
    " \n",
    "plt.hist(a, bins = 100)\n",
    "\n",
    "plt.show()"
   ]
  },
  {
   "cell_type": "markdown",
   "id": "da583a86",
   "metadata": {},
   "source": [
    "# 1a.) Random Walker"
   ]
  },
  {
   "cell_type": "code",
   "execution_count": 2,
   "id": "4221a5a8",
   "metadata": {
    "scrolled": false
   },
   "outputs": [
    {
     "data": {
      "text/html": [
       "<div id=\"glowscript\" class=\"glowscript\"></div>"
      ],
      "text/plain": [
       "<IPython.core.display.HTML object>"
      ]
     },
     "metadata": {},
     "output_type": "display_data"
    },
    {
     "data": {
      "application/javascript": [
       "if (typeof Jupyter !== \"undefined\") { window.__context = { glowscript_container: $(\"#glowscript\").removeAttr(\"id\")};}else{ element.textContent = ' ';}"
      ],
      "text/plain": [
       "<IPython.core.display.Javascript object>"
      ]
     },
     "metadata": {},
     "output_type": "display_data"
    }
   ],
   "source": [
    "scene1 = canvas()"
   ]
  },
  {
   "cell_type": "code",
   "execution_count": 2,
   "id": "39f58119",
   "metadata": {},
   "outputs": [
    {
     "data": {
      "application/javascript": [
       "if (typeof Jupyter !== \"undefined\") {require.undef(\"nbextensions/vpython_libraries/glow.min\");}else{element.textContent = ' ';}"
      ],
      "text/plain": [
       "<IPython.core.display.Javascript object>"
      ]
     },
     "metadata": {},
     "output_type": "display_data"
    },
    {
     "data": {
      "application/javascript": [
       "if (typeof Jupyter !== \"undefined\") {require.undef(\"nbextensions/vpython_libraries/glowcomm\");}else{element.textContent = ' ';}"
      ],
      "text/plain": [
       "<IPython.core.display.Javascript object>"
      ]
     },
     "metadata": {},
     "output_type": "display_data"
    },
    {
     "data": {
      "application/javascript": [
       "if (typeof Jupyter !== \"undefined\") {require.undef(\"nbextensions/vpython_libraries/jquery-ui.custom.min\");}else{element.textContent = ' ';}"
      ],
      "text/plain": [
       "<IPython.core.display.Javascript object>"
      ]
     },
     "metadata": {},
     "output_type": "display_data"
    },
    {
     "data": {
      "application/javascript": [
       "if (typeof Jupyter !== \"undefined\") {require([\"nbextensions/vpython_libraries/glow.min\"], function(){console.log(\"GLOW LOADED\");});}else{element.textContent = ' ';}"
      ],
      "text/plain": [
       "<IPython.core.display.Javascript object>"
      ]
     },
     "metadata": {},
     "output_type": "display_data"
    },
    {
     "data": {
      "application/javascript": [
       "if (typeof Jupyter !== \"undefined\") {require([\"nbextensions/vpython_libraries/glowcomm\"], function(){console.log(\"GLOWCOMM LOADED\");});}else{element.textContent = ' ';}"
      ],
      "text/plain": [
       "<IPython.core.display.Javascript object>"
      ]
     },
     "metadata": {},
     "output_type": "display_data"
    },
    {
     "data": {
      "application/javascript": [
       "if (typeof Jupyter !== \"undefined\") {require([\"nbextensions/vpython_libraries/jquery-ui.custom.min\"], function(){console.log(\"JQUERY LOADED\");});}else{element.textContent = ' ';}"
      ],
      "text/plain": [
       "<IPython.core.display.Javascript object>"
      ]
     },
     "metadata": {},
     "output_type": "display_data"
    }
   ],
   "source": [
    "N = 10000 # number of samples \n",
    "t = 0\n",
    "dt = 100./N\n",
    "walker = sphere(pos=vector(0,0,0), make_trail=True)\n",
    "\n",
    "# function to move walker based on random values from [-1, 1]\n",
    "def walk(thing):\n",
    "    \n",
    "    positions = np.array([1, -1]) # set bounds of random values\n",
    "    direction = np.random.choice(positions, size=2) # returns an integer array of 2 values\n",
    "    \n",
    "    # walker's position is updated as a sum of its previous position and newly generated position\n",
    "    thing.pos += vector(direction[0], direction[1], 0) \n",
    "    \n",
    "    \n",
    "    return thing.pos"
   ]
  },
  {
   "cell_type": "code",
   "execution_count": 5,
   "id": "a2e8d2b8",
   "metadata": {},
   "outputs": [],
   "source": [
    "while(t <= N/1000):\n",
    "    rate(20)\n",
    "    walk(walker)\n",
    "    t += dt"
   ]
  },
  {
   "cell_type": "markdown",
   "id": "0ddaa38b",
   "metadata": {},
   "source": [
    "# Expected distance"
   ]
  },
  {
   "cell_type": "code",
   "execution_count": 4,
   "id": "b301ce52",
   "metadata": {},
   "outputs": [
    {
     "name": "stdout",
     "output_type": "stream",
     "text": [
      "Average Distance:  124.89632126346774\n",
      "Expected Disctance:  100.0\n"
     ]
    }
   ],
   "source": [
    "# no visualization\n",
    "iterations = 20 # number of interations to run \n",
    "deltaX = [] # list to store each iteration's last position\n",
    "dist = 0\n",
    "\n",
    "# function to run multiple iterations of walk\n",
    "def testRun(arr):\n",
    "    walker_temp = sphere(visible=False, pos=vector(0,0,0))\n",
    "    for j in range(N):\n",
    "        x = walk(walker_temp)\n",
    "        \n",
    "    arr.append(x)\n",
    "\n",
    "[testRun(deltaX) for i in range(iterations)]\n",
    "\n",
    "# add the magnitude of each vector \n",
    "for x in deltaX:\n",
    "    dist += mag(x)\n",
    "    \n",
    "avgDist = dist/iterations\n",
    "\n",
    "print(\"Average Distance: \", avgDist)\n",
    "print(\"Expected Disctance: \", sqrt(N))"
   ]
  },
  {
   "cell_type": "markdown",
   "id": "3d30b769",
   "metadata": {},
   "source": [
    "# 1D Cellular Automaton"
   ]
  },
  {
   "cell_type": "code",
   "execution_count": 2,
   "id": "8bb12e5b",
   "metadata": {},
   "outputs": [],
   "source": [
    "binary = np.array([[4], [2], [1]])\n",
    "\n",
    "def step(x, rule):\n",
    "    x_right = np.roll(x, 1)  \n",
    "    x_left = np.roll(x, -1)\n",
    "    y = np.vstack((x_right, x, x_left)).astype(np.int8) \n",
    "    z = np.sum(binary * y, axis=0).astype(np.int8)\n",
    "\n",
    "    return rule[7 - z]"
   ]
  },
  {
   "cell_type": "code",
   "execution_count": 3,
   "id": "4982dcd2",
   "metadata": {},
   "outputs": [],
   "source": [
    "def cellular_automaton(rule_number, size, steps):\n",
    "    \n",
    "    rule_binary_str = np.binary_repr(rule_number, width=8)\n",
    "    rule_binary = np.array([int(ch) for ch in rule_binary_str], dtype=np.int8)\n",
    "\n",
    "    x = np.zeros((steps, size), dtype=np.int8)\n",
    "    x[0, size // 2] = 1\n",
    "\n",
    "    for i in range(steps - 1):\n",
    "        x[i + 1, :] = step(x[i, :], rule_binary)\n",
    "        \n",
    "    return x"
   ]
  },
  {
   "cell_type": "code",
   "execution_count": 3,
   "id": "e64bf3e4",
   "metadata": {
    "scrolled": false
   },
   "outputs": [
    {
     "data": {
      "text/html": [
       "<div id=\"glowscript\" class=\"glowscript\"></div>"
      ],
      "text/plain": [
       "<IPython.core.display.HTML object>"
      ]
     },
     "metadata": {},
     "output_type": "display_data"
    },
    {
     "data": {
      "application/javascript": [
       "if (typeof Jupyter !== \"undefined\") { window.__context = { glowscript_container: $(\"#glowscript\").removeAttr(\"id\")};}else{ element.textContent = ' ';}"
      ],
      "text/plain": [
       "<IPython.core.display.Javascript object>"
      ]
     },
     "metadata": {},
     "output_type": "display_data"
    }
   ],
   "source": [
    "scene2 = canvas()"
   ]
  },
  {
   "cell_type": "code",
   "execution_count": 65,
   "id": "5cf65e21",
   "metadata": {
    "scrolled": true
   },
   "outputs": [
    {
     "ename": "KeyboardInterrupt",
     "evalue": "",
     "output_type": "error",
     "traceback": [
      "\u001b[0;31m---------------------------------------------------------------------------\u001b[0m",
      "\u001b[0;31mKeyboardInterrupt\u001b[0m                         Traceback (most recent call last)",
      "\u001b[0;32m<ipython-input-65-a45077fde86d>\u001b[0m in \u001b[0;36m<module>\u001b[0;34m\u001b[0m\n\u001b[1;32m      6\u001b[0m \u001b[0;34m\u001b[0m\u001b[0m\n\u001b[1;32m      7\u001b[0m \u001b[0;32mfor\u001b[0m \u001b[0mi\u001b[0m \u001b[0;32min\u001b[0m \u001b[0mrange\u001b[0m\u001b[0;34m(\u001b[0m\u001b[0msteps\u001b[0m\u001b[0;34m)\u001b[0m\u001b[0;34m:\u001b[0m\u001b[0;34m\u001b[0m\u001b[0;34m\u001b[0m\u001b[0m\n\u001b[0;32m----> 8\u001b[0;31m     \u001b[0mrate\u001b[0m\u001b[0;34m(\u001b[0m\u001b[0;36m1\u001b[0m\u001b[0;34m)\u001b[0m\u001b[0;34m\u001b[0m\u001b[0;34m\u001b[0m\u001b[0m\n\u001b[0m\u001b[1;32m      9\u001b[0m     \u001b[0;32mfor\u001b[0m \u001b[0mj\u001b[0m \u001b[0;32min\u001b[0m \u001b[0mrange\u001b[0m\u001b[0;34m(\u001b[0m\u001b[0msize\u001b[0m\u001b[0;34m)\u001b[0m\u001b[0;34m:\u001b[0m\u001b[0;34m\u001b[0m\u001b[0;34m\u001b[0m\u001b[0m\n\u001b[1;32m     10\u001b[0m \u001b[0;31m#\u001b[0m\u001b[0;34m\u001b[0m\u001b[0;34m\u001b[0m\u001b[0;34m\u001b[0m\u001b[0m\n",
      "\u001b[0;32m~/anaconda3/envs/ece1180/lib/python3.7/site-packages/vpython/rate_control.py\u001b[0m in \u001b[0;36m__call__\u001b[0;34m(self, N)\u001b[0m\n\u001b[1;32m    264\u001b[0m         \u001b[0mself\u001b[0m\u001b[0;34m.\u001b[0m\u001b[0mrval\u001b[0m \u001b[0;34m=\u001b[0m \u001b[0mN\u001b[0m\u001b[0;34m\u001b[0m\u001b[0;34m\u001b[0m\u001b[0m\n\u001b[1;32m    265\u001b[0m         \u001b[0;32mif\u001b[0m \u001b[0mself\u001b[0m\u001b[0;34m.\u001b[0m\u001b[0mrval\u001b[0m \u001b[0;34m<\u001b[0m \u001b[0;36m1\u001b[0m\u001b[0;34m:\u001b[0m \u001b[0;32mraise\u001b[0m \u001b[0mValueError\u001b[0m\u001b[0;34m(\u001b[0m\u001b[0;34m\"rate value must be greater than or equal to 1\"\u001b[0m\u001b[0;34m)\u001b[0m\u001b[0;34m\u001b[0m\u001b[0;34m\u001b[0m\u001b[0m\n\u001b[0;32m--> 266\u001b[0;31m         \u001b[0msuper\u001b[0m\u001b[0;34m(\u001b[0m\u001b[0m_RateKeeper2\u001b[0m\u001b[0;34m,\u001b[0m \u001b[0mself\u001b[0m\u001b[0;34m)\u001b[0m\u001b[0;34m.\u001b[0m\u001b[0m__call__\u001b[0m\u001b[0;34m(\u001b[0m\u001b[0mself\u001b[0m\u001b[0;34m.\u001b[0m\u001b[0mrval\u001b[0m\u001b[0;34m)\u001b[0m \u001b[0;31m## calls __call__ in rate_control.py\u001b[0m\u001b[0;34m\u001b[0m\u001b[0;34m\u001b[0m\u001b[0m\n\u001b[0m\u001b[1;32m    267\u001b[0m \u001b[0;34m\u001b[0m\u001b[0m\n\u001b[1;32m    268\u001b[0m \u001b[0;34m\u001b[0m\u001b[0m\n",
      "\u001b[0;32m~/anaconda3/envs/ece1180/lib/python3.7/site-packages/vpython/rate_control.py\u001b[0m in \u001b[0;36m__call__\u001b[0;34m(self, maxRate)\u001b[0m\n\u001b[1;32m    212\u001b[0m                 \u001b[0;32mif\u001b[0m \u001b[0mself\u001b[0m\u001b[0;34m.\u001b[0m\u001b[0mwhenToRender\u001b[0m\u001b[0;34m[\u001b[0m\u001b[0mself\u001b[0m\u001b[0;34m.\u001b[0m\u001b[0mrenderIndex\u001b[0m\u001b[0;34m]\u001b[0m \u001b[0;34m==\u001b[0m \u001b[0mself\u001b[0m\u001b[0;34m.\u001b[0m\u001b[0mrateCount\u001b[0m\u001b[0;34m:\u001b[0m\u001b[0;34m\u001b[0m\u001b[0;34m\u001b[0m\u001b[0m\n\u001b[1;32m    213\u001b[0m                     \u001b[0msleeps\u001b[0m \u001b[0;34m+=\u001b[0m \u001b[0;36m1\u001b[0m\u001b[0;34m\u001b[0m\u001b[0;34m\u001b[0m\u001b[0m\n\u001b[0;32m--> 214\u001b[0;31m                     \u001b[0m_sleep\u001b[0m\u001b[0;34m(\u001b[0m\u001b[0mself\u001b[0m\u001b[0;34m.\u001b[0m\u001b[0minteractionPeriod\u001b[0m\u001b[0;34m)\u001b[0m\u001b[0;34m\u001b[0m\u001b[0;34m\u001b[0m\u001b[0m\n\u001b[0m\u001b[1;32m    215\u001b[0m                 \u001b[0;32melse\u001b[0m\u001b[0;34m:\u001b[0m\u001b[0;34m\u001b[0m\u001b[0;34m\u001b[0m\u001b[0m\n\u001b[1;32m    216\u001b[0m                     \u001b[0;32mbreak\u001b[0m\u001b[0;34m\u001b[0m\u001b[0;34m\u001b[0m\u001b[0m\n",
      "\u001b[0;32m~/anaconda3/envs/ece1180/lib/python3.7/site-packages/vpython/rate_control.py\u001b[0m in \u001b[0;36m_sleep\u001b[0;34m(dt)\u001b[0m\n\u001b[1;32m     60\u001b[0m         \u001b[0mdtsleep\u001b[0m \u001b[0;34m=\u001b[0m \u001b[0mnticks\u001b[0m\u001b[0;34m*\u001b[0m\u001b[0m_tick\u001b[0m\u001b[0;34m\u001b[0m\u001b[0;34m\u001b[0m\u001b[0m\n\u001b[1;32m     61\u001b[0m         \u001b[0mt\u001b[0m \u001b[0;34m=\u001b[0m \u001b[0m_clock\u001b[0m\u001b[0;34m(\u001b[0m\u001b[0;34m)\u001b[0m\u001b[0;34m\u001b[0m\u001b[0;34m\u001b[0m\u001b[0m\n\u001b[0;32m---> 62\u001b[0;31m         \u001b[0mtime\u001b[0m\u001b[0;34m.\u001b[0m\u001b[0msleep\u001b[0m\u001b[0;34m(\u001b[0m\u001b[0mdtsleep\u001b[0m\u001b[0;34m)\u001b[0m\u001b[0;34m\u001b[0m\u001b[0;34m\u001b[0m\u001b[0m\n\u001b[0m\u001b[1;32m     63\u001b[0m         \u001b[0mt\u001b[0m \u001b[0;34m=\u001b[0m \u001b[0m_clock\u001b[0m\u001b[0;34m(\u001b[0m\u001b[0;34m)\u001b[0m\u001b[0;34m-\u001b[0m\u001b[0mt\u001b[0m\u001b[0;34m\u001b[0m\u001b[0;34m\u001b[0m\u001b[0m\n\u001b[1;32m     64\u001b[0m         \u001b[0mdt\u001b[0m \u001b[0;34m-=\u001b[0m \u001b[0mt\u001b[0m\u001b[0;34m\u001b[0m\u001b[0;34m\u001b[0m\u001b[0m\n",
      "\u001b[0;31mKeyboardInterrupt\u001b[0m: "
     ]
    }
   ],
   "source": [
    "rule = 126\n",
    "size = 50  \n",
    "steps = 75\n",
    "\n",
    "x = cellular_automaton(rule, size, steps)\n",
    "\n",
    "for i in range(steps):\n",
    "    rate(1)\n",
    "    for j in range(size):\n",
    "        if x[i, j] == 1:\n",
    "            box(pos=vector(i,j,0), color=color.yellow)"
   ]
  },
  {
   "cell_type": "markdown",
   "id": "bdd1c966",
   "metadata": {},
   "source": [
    "# Conway's game of life"
   ]
  },
  {
   "cell_type": "code",
   "execution_count": 42,
   "id": "1fc590d3",
   "metadata": {
    "scrolled": false
   },
   "outputs": [
    {
     "data": {
      "text/html": [
       "<div id=\"glowscript\" class=\"glowscript\"></div>"
      ],
      "text/plain": [
       "<IPython.core.display.HTML object>"
      ]
     },
     "metadata": {},
     "output_type": "display_data"
    },
    {
     "data": {
      "application/javascript": [
       "if (typeof Jupyter !== \"undefined\") { window.__context = { glowscript_container: $(\"#glowscript\").removeAttr(\"id\")};}else{ element.textContent = ' ';}"
      ],
      "text/plain": [
       "<IPython.core.display.Javascript object>"
      ]
     },
     "metadata": {},
     "output_type": "display_data"
    }
   ],
   "source": [
    "scene3 = canvas()"
   ]
  },
  {
   "cell_type": "code",
   "execution_count": 43,
   "id": "48c34670",
   "metadata": {},
   "outputs": [],
   "source": [
    "x, y = (15,15)\n",
    "cells = np.zeros((x,y), dtype=object)\n",
    "cells_bin = np.zeros((x,y), dtype=int)\n",
    "\n",
    "# create board\n",
    "def makeBoard(cells):\n",
    "    for i in range(x):\n",
    "        for j in range(y):\n",
    "            cells[i,j] = sphere(pos=vector(i, j, 0), is_alive=False, is_dead=True, color=color.blue, radius=.5)\n",
    "    \n",
    "# function that determines if cell lives or dies   \n",
    "def life_or_death(cell, cells, cells_bin):\n",
    "    live_neighbors = 0\n",
    "    row = int(cell.pos.x)\n",
    "    col = int(cell.pos.y)\n",
    "    \n",
    "    neighbors = [[row - 1, col - 1], [row - 1, col], [row - 1, col + 1],\n",
    "              [row, col - 1], [row, col + 1], [row + 1, col - 1], [row + 1, col], [row + 1, col + 1]]\n",
    "    \n",
    "    # count number of live neighbors\n",
    "    for i in neighbors:\n",
    "        r,c = i\n",
    "        rowT = int(r)\n",
    "        colT = int(c)\n",
    "        if rowT < x and rowT >= 0 and colT < y and colT >= 0:\n",
    "            if cells[rowT, colT].is_alive:\n",
    "                live_neighbors += 1\n",
    "    \n",
    "    # define each rule\n",
    "    if cell.is_alive and live_neighbors < 2:\n",
    "        cells_bin[row, col] = 0\n",
    "    if cell.is_dead and live_neighbors == 3:\n",
    "        cells_bin[row, col] = 1\n",
    "    if cell.is_alive and (live_neighbors == 2 or live_neighbors == 3):\n",
    "        return\n",
    "    if cell.is_alive and live_neighbors > 3:\n",
    "        cells_bin[row, col] = 0\n",
    "    else:\n",
    "        return\n",
    "\n",
    "# change cell color and flags\n",
    "def cell_flip(cell, cell_bin):\n",
    "    \n",
    "    if cell_bin == 1:\n",
    "        cell.is_alive = True\n",
    "        cell.is_dead = False\n",
    "        cell.color=color.yellow\n",
    "        \n",
    "    elif cell_bin == 0:\n",
    "        cell.is_alive = False\n",
    "        cell.is_dead = True\n",
    "        cell.color=color.blue\n",
    "    \n",
    "    else:\n",
    "        return\n",
    "        \n",
    "def runGame(cells):\n",
    "    \n",
    "    [[life_or_death(cells[i,j], cells, cells_bin) for j in range(y)] for i in range(x)]\n",
    "            \n",
    "    # update whole board once rules were checked for every cell        \n",
    "    [[cell_flip(cells[i,j], cells_bin[i,j]) for j in range(y)] for i in range(x)]\n",
    "            \n",
    "            \n",
    "def make_oscillator(cells):\n",
    "    for i in range(3):\n",
    "        cells_bin[i+3,5]=1\n",
    "        cell_flip(cells[i+3, 5], cells_bin[i+3,5])"
   ]
  },
  {
   "cell_type": "code",
   "execution_count": 44,
   "id": "061f8998",
   "metadata": {},
   "outputs": [],
   "source": [
    "t = 0\n",
    "dt = .5\n",
    "makeBoard(cells)\n",
    "# set up blinker\n",
    "make_oscillator(cells)\n",
    "    "
   ]
  },
  {
   "cell_type": "code",
   "execution_count": 45,
   "id": "c629d7ed",
   "metadata": {},
   "outputs": [
    {
     "name": "stdout",
     "output_type": "stream",
     "text": [
      "Done\n"
     ]
    }
   ],
   "source": [
    "while(t < 25):\n",
    "    rate(5)\n",
    "    runGame(cells)     \n",
    "    t += dt\n",
    "\n",
    "print(\"Done\")"
   ]
  },
  {
   "cell_type": "code",
   "execution_count": null,
   "id": "f0f10e08",
   "metadata": {},
   "outputs": [],
   "source": []
  }
 ],
 "metadata": {
  "kernelspec": {
   "display_name": "Python 3",
   "language": "python",
   "name": "python3"
  },
  "language_info": {
   "codemirror_mode": {
    "name": "ipython",
    "version": 3
   },
   "file_extension": ".py",
   "mimetype": "text/x-python",
   "name": "python",
   "nbconvert_exporter": "python",
   "pygments_lexer": "ipython3",
   "version": "3.7.11"
  }
 },
 "nbformat": 4,
 "nbformat_minor": 5
}
