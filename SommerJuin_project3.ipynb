{
 "cells": [
  {
   "cell_type": "code",
   "execution_count": 1,
   "id": "50f58464",
   "metadata": {},
   "outputs": [
    {
     "data": {
      "text/html": [
       "<div id=\"glowscript\" class=\"glowscript\"></div>"
      ],
      "text/plain": [
       "<IPython.core.display.HTML object>"
      ]
     },
     "metadata": {},
     "output_type": "display_data"
    },
    {
     "data": {
      "application/javascript": [
       "if (typeof Jupyter !== \"undefined\") { window.__context = { glowscript_container: $(\"#glowscript\").removeAttr(\"id\")};}else{ element.textContent = ' ';}"
      ],
      "text/plain": [
       "<IPython.core.display.Javascript object>"
      ]
     },
     "metadata": {},
     "output_type": "display_data"
    }
   ],
   "source": [
    "from vpython import*\n",
    "import math\n",
    "import matplotlib.pyplot as plt\n",
    "import numpy as np"
   ]
  },
  {
   "cell_type": "code",
   "execution_count": 2,
   "id": "cbcc6e82",
   "metadata": {
    "scrolled": true
   },
   "outputs": [
    {
     "data": {
      "text/html": [
       "<div id=\"glowscript\" class=\"glowscript\"></div>"
      ],
      "text/plain": [
       "<IPython.core.display.HTML object>"
      ]
     },
     "metadata": {},
     "output_type": "display_data"
    },
    {
     "data": {
      "application/javascript": [
       "if (typeof Jupyter !== \"undefined\") { window.__context = { glowscript_container: $(\"#glowscript\").removeAttr(\"id\")};}else{ element.textContent = ' ';}"
      ],
      "text/plain": [
       "<IPython.core.display.Javascript object>"
      ]
     },
     "metadata": {},
     "output_type": "display_data"
    }
   ],
   "source": [
    "scene1=canvas()"
   ]
  },
  {
   "cell_type": "code",
   "execution_count": 3,
   "id": "5d008c5a",
   "metadata": {},
   "outputs": [],
   "source": [
    "N = 3\n",
    "k = 1\n",
    "m = 1\n",
    "t = 0\n",
    "\n",
    "spacing = 1\n",
    "atom_radius = 0.3*spacing\n",
    "scene1.center = 0.5*(N-1)*vector(1,1,1)\n",
    "dt = 0.01*(2*pi*sqrt(m/k))\n",
    "\n",
    "time = []\n",
    "totalE = []\n",
    "kineticEnergy = []\n",
    "potentialEnergy = []"
   ]
  },
  {
   "cell_type": "code",
   "execution_count": 4,
   "id": "a4e4198b",
   "metadata": {},
   "outputs": [],
   "source": [
    "def springForce(spring):\n",
    "    spring.axis = spring.end.pos - spring.start.pos\n",
    "    L = mag(spring.axis)\n",
    "    \n",
    "    PE = .5*k*mag2(spring.axis)\n",
    "    KE = .5*m*(L/dt)**2\n",
    "    \n",
    "    spring.axis = spring.axis.norm()\n",
    "    Fdt = spring.axis * (k*dt * (1-spacing/L))\n",
    "    \n",
    "    spring.start.momentum = spring.start.momentum + Fdt\n",
    "    spring.end.momentum = spring.end.momentum - Fdt\n",
    "    \n",
    "    return PE + KE\n",
    "    \n",
    "def atomPos(atom):\n",
    "    if atom.visible:\n",
    "        atom.pos = atom.pos + (atom.momentum/m)*dt"
   ]
  },
  {
   "cell_type": "code",
   "execution_count": 5,
   "id": "2f25c581",
   "metadata": {},
   "outputs": [
    {
     "data": {
      "application/javascript": [
       "if (typeof Jupyter !== \"undefined\") {require.undef(\"nbextensions/vpython_libraries/glow.min\");}else{element.textContent = ' ';}"
      ],
      "text/plain": [
       "<IPython.core.display.Javascript object>"
      ]
     },
     "metadata": {},
     "output_type": "display_data"
    },
    {
     "data": {
      "application/javascript": [
       "if (typeof Jupyter !== \"undefined\") {require.undef(\"nbextensions/vpython_libraries/glowcomm\");}else{element.textContent = ' ';}"
      ],
      "text/plain": [
       "<IPython.core.display.Javascript object>"
      ]
     },
     "metadata": {},
     "output_type": "display_data"
    },
    {
     "data": {
      "application/javascript": [
       "if (typeof Jupyter !== \"undefined\") {require.undef(\"nbextensions/vpython_libraries/jquery-ui.custom.min\");}else{element.textContent = ' ';}"
      ],
      "text/plain": [
       "<IPython.core.display.Javascript object>"
      ]
     },
     "metadata": {},
     "output_type": "display_data"
    },
    {
     "data": {
      "application/javascript": [
       "if (typeof Jupyter !== \"undefined\") {require([\"nbextensions/vpython_libraries/glow.min\"], function(){console.log(\"GLOW LOADED\");});}else{element.textContent = ' ';}"
      ],
      "text/plain": [
       "<IPython.core.display.Javascript object>"
      ]
     },
     "metadata": {},
     "output_type": "display_data"
    },
    {
     "data": {
      "application/javascript": [
       "if (typeof Jupyter !== \"undefined\") {require([\"nbextensions/vpython_libraries/glowcomm\"], function(){console.log(\"GLOWCOMM LOADED\");});}else{element.textContent = ' ';}"
      ],
      "text/plain": [
       "<IPython.core.display.Javascript object>"
      ]
     },
     "metadata": {},
     "output_type": "display_data"
    },
    {
     "data": {
      "application/javascript": [
       "if (typeof Jupyter !== \"undefined\") {require([\"nbextensions/vpython_libraries/jquery-ui.custom.min\"], function(){console.log(\"JQUERY LOADED\");});}else{element.textContent = ' ';}"
      ],
      "text/plain": [
       "<IPython.core.display.Javascript object>"
      ]
     },
     "metadata": {},
     "output_type": "display_data"
    }
   ],
   "source": [
    "class Lattice:\n",
    "        \n",
    "    def __init__(self, momentumRange ):\n",
    "        self.atoms = []\n",
    "        self.springs = []\n",
    "        \n",
    "        for z in range(-1,N+1,1):\n",
    "            for y in range(-1,N+1,1):\n",
    "                for x in range(-1,N+1,1):\n",
    "                    atom = sphere()\n",
    "                    atom.pos = vector(x,y,z)*spacing\n",
    "                    atom.radius = atom_radius\n",
    "                    \n",
    "                    if (0 <= x < N and 0 <= y < N and 0 <= z < N):\n",
    "                        atom.momentum = momentumRange*vec.random()\n",
    "                        \n",
    "                    else:\n",
    "                        atom.visible = False\n",
    "                        atom.momentum = vector(0,0,0)\n",
    "                        \n",
    "                    atom.index = len(self.atoms)\n",
    "                    self.atoms.append(atom)\n",
    "    \n",
    "        for atom in self.atoms:\n",
    "            if atom.visible:\n",
    "                if atom.pos.x == 0:\n",
    "                    self.make_spring(self.atoms[atom.index-1], atom)\n",
    "                    self.make_spring(atom, self.atoms[atom.index+1])\n",
    "                elif atom.pos.x == N-1:\n",
    "                    self.make_spring(atom, self.atoms[atom.index+1])\n",
    "                else:\n",
    "                    self.make_spring(atom, self.atoms[atom.index+1])\n",
    "\n",
    "                if atom.pos.y == 0:\n",
    "                    self.make_spring(self.atoms[atom.index-(N+2)], atom)\n",
    "                    self.make_spring(atom, self.atoms[atom.index+(N+2)])\n",
    "                elif atom.pos.y == N-1:\n",
    "                    self.make_spring(atom, self.atoms[atom.index+(N+2)])\n",
    "                else:\n",
    "                    self.make_spring(atom, self.atoms[atom.index+(N+2)])\n",
    "                    \n",
    "                if atom.pos.z == 0:\n",
    "                    self.make_spring(self.atoms[atom.index-(N+2)**2], atom)\n",
    "                    self.make_spring(atom, self.atoms[atom.index+(N+2)**2])\n",
    "                elif atom.pos.z == N-1:\n",
    "                    self.make_spring(atom, self.atoms[atom.index+(N+2)**2])\n",
    "                else:\n",
    "                    self.make_spring(atom, self.atoms[atom.index+(N+2)**2])\n",
    "                    \n",
    "    def make_spring(self, start, end):\n",
    "            spring = cylinder()\n",
    "            spring.visible = False\n",
    "            spring.pos = start.pos\n",
    "            spring.axis = end.pos-start.pos\n",
    "            spring.start = start\n",
    "            spring.end = end\n",
    "            self.springs.append(spring)\n",
    "\n",
    "                     \n",
    "l = Lattice(0.1*spacing*sqrt(k/m))"
   ]
  },
  {
   "cell_type": "code",
   "execution_count": 6,
   "id": "99c71b1b",
   "metadata": {},
   "outputs": [],
   "source": [
    "while t < 50:\n",
    "    rate(100)\n",
    "    energy = 0\n",
    "    \n",
    "    [atomPos(atom) for atom in l.atoms]\n",
    "    \n",
    "    for spring in l.springs:\n",
    "        energy += springForce(spring)\n",
    "    \n",
    "    t += dt\n",
    "    totalE.append(energy)\n",
    "    time.append(t)"
   ]
  },
  {
   "cell_type": "code",
   "execution_count": 7,
   "id": "980b75b1",
   "metadata": {},
   "outputs": [
    {
     "data": {
      "text/plain": [
       "[<matplotlib.lines.Line2D at 0x7f52e66909d0>]"
      ]
     },
     "execution_count": 7,
     "metadata": {},
     "output_type": "execute_result"
    },
    {
     "data": {
      "image/png": "[encoded data removed]",
      "text/plain": [
       "<Figure size 432x288 with 1 Axes>"
      ]
     },
     "metadata": {
      "needs_background": "light"
     },
     "output_type": "display_data"
    }
   ],
   "source": [
    "plt.plot(time, totalE)"
   ]
  },
  {
   "cell_type": "code",
   "execution_count": null,
   "id": "3b786bd1",
   "metadata": {},
   "outputs": [],
   "source": []
  }
 ],
 "metadata": {
  "kernelspec": {
   "display_name": "Python 3",
   "language": "python",
   "name": "python3"
  },
  "language_info": {
   "codemirror_mode": {
    "name": "ipython",
    "version": 3
   },
   "file_extension": ".py",
   "mimetype": "text/x-python",
   "name": "python",
   "nbconvert_exporter": "python",
   "pygments_lexer": "ipython3",
   "version": "3.7.11"
  }
 },
 "nbformat": 4,
 "nbformat_minor": 5
}
