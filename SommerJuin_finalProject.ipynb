{
 "cells": [
  {
   "cell_type": "code",
   "execution_count": 1,
   "id": "1f122cb8",
   "metadata": {},
   "outputs": [
    {
     "data": {
      "text/html": [
       "<div id=\"glowscript\" class=\"glowscript\"></div>"
      ],
      "text/plain": [
       "<IPython.core.display.HTML object>"
      ]
     },
     "metadata": {},
     "output_type": "display_data"
    },
    {
     "data": {
      "application/javascript": [
       "if (typeof Jupyter !== \"undefined\") { window.__context = { glowscript_container: $(\"#glowscript\").removeAttr(\"id\")};}else{ element.textContent = ' ';}"
      ],
      "text/plain": [
       "<IPython.core.display.Javascript object>"
      ]
     },
     "metadata": {},
     "output_type": "display_data"
    }
   ],
   "source": [
    "from vpython import*\n",
    "import numpy as np\n",
    "import random"
   ]
  },
  {
   "cell_type": "code",
   "execution_count": 5,
   "id": "82f60212",
   "metadata": {},
   "outputs": [],
   "source": [
    "colors = [\n",
    "        vector(1, 0, 0),\n",
    "        vector(0, 1, 0),\n",
    "        vector(0, 0, 1),\n",
    "        vector(1, 1, 0),\n",
    "        vector(1, 0, 1),\n",
    "        vector(0, 0, 0),\n",
    "        vector(1, 1, 1) ]\n",
    "\n",
    "class Block:\n",
    "    x = 0\n",
    "    y = 0\n",
    "    \n",
    "    # list of blocks. Each number represents a cell in an array that represent block type\n",
    "    blocks = [ [[1, 5, 9, 13], [4, 5, 6, 7]], [[4, 5, 9, 10], [2, 6, 5, 9]],\n",
    "                [[6, 7, 9, 10], [1, 5, 6, 10]],\n",
    "                [[1, 2, 5, 9], [0, 4, 5, 6], [1, 5, 9, 8], [4, 5, 6, 10]],\n",
    "                [[1, 2, 6, 10], [5, 6, 7, 9], [2, 6, 10, 11], [3, 5, 6, 7]],\n",
    "                [[1, 4, 5, 6], [1, 4, 5, 9], [4, 5, 6, 9], [1, 5, 6, 9]],\n",
    "                [[1, 2, 5, 6]] ]\n",
    "\n",
    "    def __init__(self, x, y):\n",
    "        self.x = x\n",
    "        self.y = y\n",
    "        self.type = random.randint(0, len(self.blocks) - 1) # randomly select a block type\n",
    "        self.color = random.randint(1, len(colors) - 1)\n",
    "        self.rotation = 0\n",
    "\n",
    "    def image(self):\n",
    "        return self.blocks[self.type][self.rotation]\n",
    "    \n",
    "    # rotate the block\n",
    "    def rotate(self):\n",
    "        self.rotation = (self.rotation + 1) % len(self.blocks[self.type])\n",
    "\n",
    "class Tetris:\n",
    "    level = 2\n",
    "    score = 0\n",
    "    state = \"start\" # signify state of game\n",
    "    board = []\n",
    "    height = 0 # height of board\n",
    "    width = 0 # width of board\n",
    "    x = 100\n",
    "    y = 60\n",
    "    zoom = 20\n",
    "    block = None\n",
    "    \n",
    "    # initialize game\n",
    "    def __init__(self, height, width):\n",
    "        self.height = height\n",
    "        self.width = width\n",
    "        self.board = []\n",
    "        self.score = 0\n",
    "        self.state = \"start\"\n",
    "        \n",
    "        for i in range(height):\n",
    "            new_line = []\n",
    "            for j in range(width):\n",
    "                new_line.append(0)\n",
    "            self.board.append(new_line)\n",
    "     \n",
    "    # create new block\n",
    "    def new_block(self):\n",
    "        self.block = Block(3, 0)\n",
    "        \n",
    "    # check if current block intersects with another block on the board\n",
    "    def intersects(self):\n",
    "        intersection = False\n",
    "        for i in range(4):\n",
    "            for j in range(4):\n",
    "                if i * 4 + j in self.block.image():\n",
    "                    if i + self.block.y > self.height - 1 or \\\n",
    "                            j + self.block.x > self.width - 1 or \\\n",
    "                            j + self.block.x < 0 or \\\n",
    "                            self.board[i + self.block.y][j + self.block.x] > 0:\n",
    "                        intersection = True\n",
    "        return intersection\n",
    "    \n",
    "    # function to remove line of blocks if valid\n",
    "    def break_lines(self):\n",
    "        lines = 0\n",
    "        for i in range(1, self.height):\n",
    "            zeros = 0\n",
    "            for j in range(self.width):\n",
    "                if self.board[i][j] == 0:\n",
    "                    zeros += 1\n",
    "            if zeros == 0:\n",
    "                lines += 1\n",
    "                for i1 in range(i, 1, -1):\n",
    "                    for j in range(self.width):\n",
    "                        self.board[i1][j] = self.board[i1 - 1][j]\n",
    "        self.score += lines ** 2\n",
    "\n",
    "    # stop block at end of board\n",
    "    def stop(self):\n",
    "        for i in range(4):\n",
    "            for j in range(4):\n",
    "                if i * 4 + j in self.block.image():\n",
    "                    self.board[i + self.block.y][j + self.block.x] = self.block.color\n",
    "        self.break_lines()\n",
    "        self.new_block()\n",
    "        if self.intersects():\n",
    "            self.state = \"end\"\n",
    "            \n",
    "    ## game controls ##         \n",
    "    def move_down(self):\n",
    "        self.block.y += 1\n",
    "        if self.intersects():\n",
    "            self.block.y -= 1\n",
    "            self.stop()\n",
    "    \n",
    "    # move left or right\n",
    "    def move_side(self, dx):\n",
    "        old_x = self.block.x\n",
    "        self.block.x += dx\n",
    "        if self.intersects():\n",
    "            self.block.x = old_x\n",
    "            \n",
    "    # rotate block\n",
    "    def rotate(self):\n",
    "        old_rotation = self.block.rotation\n",
    "        self.block.rotate()\n",
    "        if self.intersects():\n",
    "            self.block.rotation = old_rotation"
   ]
  },
  {
   "cell_type": "code",
   "execution_count": 3,
   "id": "9c6c7163",
   "metadata": {
    "scrolled": true
   },
   "outputs": [
    {
     "data": {
      "text/html": [
       "<div id=\"glowscript\" class=\"glowscript\"></div>"
      ],
      "text/plain": [
       "<IPython.core.display.HTML object>"
      ]
     },
     "metadata": {},
     "output_type": "display_data"
    },
    {
     "data": {
      "application/javascript": [
       "if (typeof Jupyter !== \"undefined\") { window.__context = { glowscript_container: $(\"#glowscript\").removeAttr(\"id\")};}else{ element.textContent = ' ';}"
      ],
      "text/plain": [
       "<IPython.core.display.Javascript object>"
      ]
     },
     "metadata": {},
     "output_type": "display_data"
    }
   ],
   "source": [
    "scene = canvas()"
   ]
  },
  {
   "cell_type": "code",
   "execution_count": 4,
   "id": "cc06c025",
   "metadata": {},
   "outputs": [
    {
     "data": {
      "application/javascript": [
       "if (typeof Jupyter !== \"undefined\") {require.undef(\"nbextensions/vpython_libraries/glow.min\");}else{element.textContent = ' ';}"
      ],
      "text/plain": [
       "<IPython.core.display.Javascript object>"
      ]
     },
     "metadata": {},
     "output_type": "display_data"
    },
    {
     "data": {
      "application/javascript": [
       "if (typeof Jupyter !== \"undefined\") {require.undef(\"nbextensions/vpython_libraries/glowcomm\");}else{element.textContent = ' ';}"
      ],
      "text/plain": [
       "<IPython.core.display.Javascript object>"
      ]
     },
     "metadata": {},
     "output_type": "display_data"
    },
    {
     "data": {
      "application/javascript": [
       "if (typeof Jupyter !== \"undefined\") {require.undef(\"nbextensions/vpython_libraries/jquery-ui.custom.min\");}else{element.textContent = ' ';}"
      ],
      "text/plain": [
       "<IPython.core.display.Javascript object>"
      ]
     },
     "metadata": {},
     "output_type": "display_data"
    },
    {
     "data": {
      "application/javascript": [
       "if (typeof Jupyter !== \"undefined\") {require([\"nbextensions/vpython_libraries/glow.min\"], function(){console.log(\"GLOW LOADED\");});}else{element.textContent = ' ';}"
      ],
      "text/plain": [
       "<IPython.core.display.Javascript object>"
      ]
     },
     "metadata": {},
     "output_type": "display_data"
    },
    {
     "data": {
      "application/javascript": [
       "if (typeof Jupyter !== \"undefined\") {require([\"nbextensions/vpython_libraries/glowcomm\"], function(){console.log(\"GLOWCOMM LOADED\");});}else{element.textContent = ' ';}"
      ],
      "text/plain": [
       "<IPython.core.display.Javascript object>"
      ]
     },
     "metadata": {},
     "output_type": "display_data"
    },
    {
     "data": {
      "application/javascript": [
       "if (typeof Jupyter !== \"undefined\") {require([\"nbextensions/vpython_libraries/jquery-ui.custom.min\"], function(){console.log(\"JQUERY LOADED\");});}else{element.textContent = ' ';}"
      ],
      "text/plain": [
       "<IPython.core.display.Javascript object>"
      ]
     },
     "metadata": {},
     "output_type": "display_data"
    }
   ],
   "source": [
    "cellSize = vector(19, 19, 1)\n",
    "game = Tetris(20,10)\n",
    "game.new_block()\n",
    "\n",
    "\n",
    "rotate = button(text=\"Rotate\", pos=scene.title_anchor, bind=game.rotate())\n",
    "down = button(text=\"Down\", pos=scene.title_anchor, bind=game.move_down())\n",
    "left = button(text=\"Left\", pos=scene.title_anchor, bind=game.move_side(-1))\n",
    "right = button(text=\"Right\", pos=scene.title_anchor, bind=game.move_side(1))\n",
    "\n",
    "\n",
    "while game.state != \"end\":\n",
    "    rate(2)\n",
    "    \n",
    "    if game.state == \"end\":\n",
    "        print(\"Game Over\\n\")\n",
    "    \n",
    "    if game.block is None:\n",
    "        game.new_block()\n",
    "    \n",
    "    if game.state == \"start\":\n",
    "        game.move_down()\n",
    "    \n",
    "    for i in range(game.height):\n",
    "        for j in range(game.width):\n",
    "            box(pos=vector(game.x + game.zoom * j, game.y + game.zoom * i, 0), color=color.cyan, size=cellSize)\n",
    "            if game.board[i][j] > 0:\n",
    "                box(pos=vector(game.x + game.zoom * j + 1, game.y + game.zoom * i + 1, 1), color=vector(colors[game.board[i][j]]), size=cellSize)\n",
    "    \n",
    "    if game.block is not None:\n",
    "        for i in range(4):\n",
    "            for j in range(4):\n",
    "                p = i * 4 + j\n",
    "                if p in game.block.image():\n",
    "                    box(pos=vector(game.x + game.zoom * (j + game.block.x),\n",
    "                                      game.y + game.zoom * (i + game.block.y), 0), color=vector(colors[game.block.color]), size=cellSize)\n"
   ]
  },
  {
   "cell_type": "code",
   "execution_count": null,
   "id": "3f07d717",
   "metadata": {},
   "outputs": [],
   "source": []
  }
 ],
 "metadata": {
  "kernelspec": {
   "display_name": "Python 3",
   "language": "python",
   "name": "python3"
  },
  "language_info": {
   "codemirror_mode": {
    "name": "ipython",
    "version": 3
   },
   "file_extension": ".py",
   "mimetype": "text/x-python",
   "name": "python",
   "nbconvert_exporter": "python",
   "pygments_lexer": "ipython3",
   "version": "3.7.11"
  }
 },
 "nbformat": 4,
 "nbformat_minor": 5
}
