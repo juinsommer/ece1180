{
 "cells": [
  {
   "cell_type": "code",
   "execution_count": 5,
   "id": "fb4815eb",
   "metadata": {},
   "outputs": [],
   "source": [
    "from vpython import*\n",
    "import numpy as np\n",
    "import math"
   ]
  },
  {
   "cell_type": "markdown",
   "id": "1dda43af",
   "metadata": {},
   "source": [
    "# RC filter circuit"
   ]
  },
  {
   "cell_type": "code",
   "execution_count": 15,
   "id": "1da2ed8b",
   "metadata": {},
   "outputs": [],
   "source": [
    "r = 1000 # ohms\n",
    "cap = 1e-6 # Farads\n",
    "amp = 5 # volts\n",
    "frequency = 1000 # Hz\n",
    "    \n",
    "class Source:\n",
    "    def __init__(self, v_amp, f):\n",
    "        self.amp = v_amp\n",
    "        self.freq = f\n",
    "        \n",
    "    def get_volt(self, time):\n",
    "        voltage = self.amp * sin(self.freq * time)\n",
    "        return voltage\n",
    "        \n",
    "# create RC filter "
   ]
  },
  {
   "cell_type": "code",
   "execution_count": 20,
   "id": "dbbaac89",
   "metadata": {
    "scrolled": false
   },
   "outputs": [
    {
     "data": {
      "text/html": [
       "<div id=\"glowscript\" class=\"glowscript\"></div>"
      ],
      "text/plain": [
       "<IPython.core.display.HTML object>"
      ]
     },
     "metadata": {},
     "output_type": "display_data"
    },
    {
     "data": {
      "application/javascript": [
       "if (typeof Jupyter !== \"undefined\") { window.__context = { glowscript_container: $(\"#glowscript\").removeAttr(\"id\")};}else{ element.textContent = ' ';}"
      ],
      "text/plain": [
       "<IPython.core.display.Javascript object>"
      ]
     },
     "metadata": {},
     "output_type": "display_data"
    }
   ],
   "source": [
    "scene1 = canvas()"
   ]
  },
  {
   "cell_type": "code",
   "execution_count": 21,
   "id": "bf56951b",
   "metadata": {},
   "outputs": [],
   "source": [
    "# RC filter simulation\n",
    "Va = 0\n",
    "Vb = 0\n",
    "I_vi = 0\n",
    "\n",
    "t = 0\n",
    "dt = 5e-5\n",
    "\n",
    "tau = r * cap\n",
    "ac_source = Source(amp, frequency)\n",
    "\n",
    "g1 = graph(title=\"Voltages\", xtitle='Time', ytitle='Volts', background=color.black)\n",
    "g2 = graph(title=\"Current\", xtitle='Time', ytitle='Amps', background=color.black)\n",
    "V1 = gcurve(graph=g1, color=color.red, width=2, label='Va')\n",
    "V2 = gcurve(graph=g1, color=color.green, width=2, label='Vb')\n",
    "I = gcurve(graph=g2, color=color.blue, width=2, label='I')\n",
    "\n",
    "\n",
    "\n",
    "# For every time step \n",
    "while(t <= 20*tau):\n",
    "    \n",
    "    # calculate new Vi = V0 * sin(wt)\n",
    "    V_i = ac_source.get_volt(t)\n",
    "    \n",
    "    # calculate new Ieq = -(C/dt)*v(t) from previous Vb\n",
    "    I_eq = -cap/dt * Vb\n",
    "    \n",
    "    # solve x = inv(A) * b\n",
    "    A = np.matrix([ [-1/r, 1/r, 1],[1/r, -1/r-cap/dt, 0],[1, 0, 0] ] )\n",
    "    b = np.matrix([ [0],[I_eq],[V_i] ])\n",
    "    x = np.linalg.solve(A,b)\n",
    "    \n",
    "    Va = x.item(0)\n",
    "    Vb = x.item(1)\n",
    "    I_vi = x.item(2)\n",
    "    \n",
    "    t += dt\n",
    "    \n",
    "    # plot\n",
    "    V1.plot(t, Va)\n",
    "    V2.plot(t, Vb)\n",
    "    I.plot(t, I_vi)\n",
    "    \n",
    "    \n",
    "    "
   ]
  },
  {
   "cell_type": "code",
   "execution_count": 22,
   "id": "714d287c",
   "metadata": {},
   "outputs": [
    {
     "data": {
      "text/html": [
       "<div id=\"glowscript\" class=\"glowscript\"></div>"
      ],
      "text/plain": [
       "<IPython.core.display.HTML object>"
      ]
     },
     "metadata": {},
     "output_type": "display_data"
    },
    {
     "data": {
      "application/javascript": [
       "if (typeof Jupyter !== \"undefined\") { window.__context = { glowscript_container: $(\"#glowscript\").removeAttr(\"id\")};}else{ element.textContent = ' ';}"
      ],
      "text/plain": [
       "<IPython.core.display.Javascript object>"
      ]
     },
     "metadata": {},
     "output_type": "display_data"
    }
   ],
   "source": [
    "scene2 = canvas()"
   ]
  },
  {
   "cell_type": "markdown",
   "id": "208178db",
   "metadata": {},
   "source": [
    "# Half Wave Rectifier"
   ]
  },
  {
   "cell_type": "code",
   "execution_count": 23,
   "id": "4bed0506",
   "metadata": {},
   "outputs": [],
   "source": [
    "g1 = graph(title=\"Voltages\", xtitle='Time', ytitle='Volts', background=color.black)\n",
    "g2 = graph(title=\"Current\", xtitle='Time', ytitle='Amps', background=color.black)\n",
    "V1 = gcurve(graph=g1, color=color.red, width=2, label='Va')\n",
    "V2 = gcurve(graph=g1, color=color.green, width=2, label='Vb')\n",
    "I = gcurve(graph=g2, color=color.blue, width=2, label='I')\n"
   ]
  },
  {
   "cell_type": "code",
   "execution_count": 32,
   "id": "e6baf26d",
   "metadata": {},
   "outputs": [
    {
     "data": {
      "text/html": [
       "<div id=\"glowscript\" class=\"glowscript\"></div>"
      ],
      "text/plain": [
       "<IPython.core.display.HTML object>"
      ]
     },
     "metadata": {},
     "output_type": "display_data"
    },
    {
     "data": {
      "application/javascript": [
       "if (typeof Jupyter !== \"undefined\") { window.__context = { glowscript_container: $(\"#glowscript\").removeAttr(\"id\")};}else{ element.textContent = ' ';}"
      ],
      "text/plain": [
       "<IPython.core.display.Javascript object>"
      ]
     },
     "metadata": {},
     "output_type": "display_data"
    }
   ],
   "source": [
    "scene3 = canvas()"
   ]
  },
  {
   "cell_type": "code",
   "execution_count": 33,
   "id": "659ac28f",
   "metadata": {},
   "outputs": [],
   "source": [
    "amp = 5\n",
    "frequency = 1000\n",
    "cap = 1e-6\n",
    "r = 1000\n",
    "\n",
    "Va = 0\n",
    "Vb = 0\n",
    "V_T = 25e-3\n",
    "I_vi = 0\n",
    "I_s = 1e-9\n",
    "n = 1\n",
    "\n",
    "t = 0\n",
    "dt = 1e-3\n",
    "dtn = 1e-3\n",
    "\n",
    "ac = Source(amp, frequency)\n",
    "\n",
    "while(t <= .5):\n",
    "    \n",
    "    V_D = Vb - Va\n",
    "    V_i = ac.get_volt(t)\n",
    "    \n",
    "    I_Ceq = -cap/dt * Vb\n",
    "    \n",
    "    G_Deq = I_s / (n * V_T) * math.exp(V_D / (n * V_T))\n",
    "    \n",
    "    I_D = I_s * (math.exp(V_D / (n * V_T)) - 1)\n",
    "    \n",
    "    I_Deq = I_D - G_Deq * V_D\n",
    "    \n",
    "    A = np.matrix([ [-G_Deq, G_Deq, 1], [G_Deq, -G_Deq - cap/dt - 1/r, 0], [1, 0, 0] ])\n",
    "    b = np.matrix([ [I_Deq], [I_Ceq - I_Deq], [V_i] ])\n",
    "    x = np.linalg.solve(A, b)\n",
    "    \n",
    "    Va = x.item(0)\n",
    "    Vb = x.item(1)\n",
    "    I_vi = x.item(2)\n",
    "    \n",
    "    VD_n = Vb - Va\n",
    "    \n",
    "    # Convergence Check\n",
    "    if(abs(VD_n - (V_D)) >= .001):\n",
    "        \n",
    "        if(dtn >= dt/10):\n",
    "            \n",
    "            dtn -= dt/10\n",
    "            continue    \n",
    "      \n",
    "    t += dtn\n",
    "    dtn = dt\n",
    "    \n",
    "    V1.plot(t, Vb)"
   ]
  }
 ],
 "metadata": {
  "kernelspec": {
   "display_name": "Python 3",
   "language": "python",
   "name": "python3"
  },
  "language_info": {
   "codemirror_mode": {
    "name": "ipython",
    "version": 3
   },
   "file_extension": ".py",
   "mimetype": "text/x-python",
   "name": "python",
   "nbconvert_exporter": "python",
   "pygments_lexer": "ipython3",
   "version": "3.7.11"
  }
 },
 "nbformat": 4,
 "nbformat_minor": 5
}
