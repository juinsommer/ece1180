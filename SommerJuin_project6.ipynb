{
 "cells": [
  {
   "cell_type": "code",
   "execution_count": 5,
   "id": "fb4815eb",
   "metadata": {},
   "outputs": [],
   "source": [
    "from vpython import*\n",
    "import numpy as np"
   ]
  },
  {
   "cell_type": "code",
   "execution_count": 6,
   "id": "1da2ed8b",
   "metadata": {},
   "outputs": [],
   "source": [
    "# create voltage source, resistor, capacitor, diode\n",
    "    # capacitor: v(t + dt) = v(t) + (i(t + dt)/C)*dt\n",
    "    #                      = Veq + i(t + dt) * Req\n",
    "    #            i(t + dt) = Ieq + v(t + dt) / Req\n",
    "    \n",
    "r_eq = 100 # ohms\n",
    "cap = 10e-6 # uF\n",
    "v_amp = 5 # volts\n",
    "frequency = 1000 # kHz\n",
    "    \n",
    "class Source:\n",
    "    def __init__(self, v_amp, f, t):\n",
    "        self.amp = v_amp\n",
    "        self.freq = f\n",
    "        self.time = t\n",
    "        self.voltage = self.amp * sin(self.freq * self.time)\n",
    "        \n",
    "    def set_source(self, amp, freq, time):\n",
    "        self.voltage = amp * sin(freq * time)\n",
    "        return self.voltage\n",
    "    \n",
    "    def get_source(self):\n",
    "        return self.voltage\n",
    "        \n",
    "        \n",
    "        \n",
    "# create RC filter "
   ]
  },
  {
   "cell_type": "code",
   "execution_count": 32,
   "id": "bf56951b",
   "metadata": {},
   "outputs": [
    {
     "ename": "TypeError",
     "evalue": "zeros() missing required argument 'shape' (pos 0)",
     "output_type": "error",
     "traceback": [
      "\u001b[0;31m---------------------------------------------------------------------------\u001b[0m",
      "\u001b[0;31mTypeError\u001b[0m                                 Traceback (most recent call last)",
      "\u001b[0;32m<ipython-input-32-9f6e32f88b86>\u001b[0m in \u001b[0;36m<module>\u001b[0;34m\u001b[0m\n\u001b[1;32m      7\u001b[0m \u001b[0mac_source\u001b[0m \u001b[0;34m=\u001b[0m \u001b[0mSource\u001b[0m\u001b[0;34m(\u001b[0m\u001b[0mv_amp\u001b[0m\u001b[0;34m,\u001b[0m \u001b[0mfrequency\u001b[0m\u001b[0;34m,\u001b[0m \u001b[0mt\u001b[0m\u001b[0;34m)\u001b[0m\u001b[0;34m\u001b[0m\u001b[0;34m\u001b[0m\u001b[0m\n\u001b[1;32m      8\u001b[0m \u001b[0mA\u001b[0m \u001b[0;34m=\u001b[0m \u001b[0mnp\u001b[0m\u001b[0;34m.\u001b[0m\u001b[0mmatrix\u001b[0m\u001b[0;34m(\u001b[0m\u001b[0;34m[\u001b[0m \u001b[0;34m[\u001b[0m\u001b[0;36m0\u001b[0m\u001b[0;34m,\u001b[0m \u001b[0;36m0\u001b[0m\u001b[0;34m,\u001b[0m \u001b[0;36m1\u001b[0m\u001b[0;34m]\u001b[0m\u001b[0;34m,\u001b[0m \u001b[0;34m[\u001b[0m\u001b[0;36m0\u001b[0m\u001b[0;34m,\u001b[0m \u001b[0;36m1\u001b[0m\u001b[0;34m,\u001b[0m \u001b[0;36m0\u001b[0m\u001b[0;34m]\u001b[0m\u001b[0;34m,\u001b[0m \u001b[0;34m[\u001b[0m\u001b[0;36m1\u001b[0m\u001b[0;34m,\u001b[0m \u001b[0;36m0\u001b[0m\u001b[0;34m,\u001b[0m \u001b[0;36m0\u001b[0m\u001b[0;34m]\u001b[0m \u001b[0;34m]\u001b[0m\u001b[0;34m)\u001b[0m\u001b[0;34m\u001b[0m\u001b[0;34m\u001b[0m\u001b[0m\n\u001b[0;32m----> 9\u001b[0;31m \u001b[0mx\u001b[0m \u001b[0;34m=\u001b[0m \u001b[0mnp\u001b[0m\u001b[0;34m.\u001b[0m\u001b[0mzeros\u001b[0m\u001b[0;34m(\u001b[0m\u001b[0;34m)\u001b[0m\u001b[0;34m\u001b[0m\u001b[0;34m\u001b[0m\u001b[0m\n\u001b[0m\u001b[1;32m     10\u001b[0m \u001b[0;34m\u001b[0m\u001b[0m\n\u001b[1;32m     11\u001b[0m \u001b[0;31m# For every time step (until steady state Tau = RC):\u001b[0m\u001b[0;34m\u001b[0m\u001b[0;34m\u001b[0m\u001b[0;34m\u001b[0m\u001b[0m\n",
      "\u001b[0;31mTypeError\u001b[0m: zeros() missing required argument 'shape' (pos 0)"
     ]
    }
   ],
   "source": [
    "# RC filter simulation\n",
    "t = 0\n",
    "dt = 0.1\n",
    "\n",
    "tau = r_eq * cap\n",
    "\n",
    "ac_source = Source(v_amp, frequency, t)\n",
    "A = np.matrix([ [0, 0, 1], [0, 1, 0], [1, 0, 0] ])\n",
    "x = np.zeros((3,1))\n",
    "\n",
    "# For every time step (until steady state Tau = RC):\n",
    "while(t <= tau):\n",
    "    V_eq = x[1]\n",
    "    # calculate new Vi = V0 * sin(wt)\n",
    "    V_i = ac_source.set_source(v_amp, frequency, t)\n",
    "    \n",
    "    # calculate new Ieq = -(C/dt)*v(t) from previous Vb\n",
    "    I_eq = -(cap/dt)*V_eq\n",
    "    \n",
    "    # solve x = inv(A) * b\n",
    "    A = np.matrix([ [-(1/r_eq), (1/r_eq), 1], [(1/r_eq), -(1/r_eq-(cap/dt)), 0], [1, 0, 0] ])\n",
    "    b = np.matrix([0, I_eq, V_i])\n",
    "    x = np.linalg.solve(A,b)\n",
    "    \n",
    "    t += dt\n",
    "\n",
    "    # plot"
   ]
  },
  {
   "cell_type": "code",
   "execution_count": null,
   "id": "f2ed368f",
   "metadata": {},
   "outputs": [],
   "source": []
  },
  {
   "cell_type": "code",
   "execution_count": null,
   "id": "8462d908",
   "metadata": {},
   "outputs": [],
   "source": []
  }
 ],
 "metadata": {
  "kernelspec": {
   "display_name": "Python 3",
   "language": "python",
   "name": "python3"
  },
  "language_info": {
   "codemirror_mode": {
    "name": "ipython",
    "version": 3
   },
   "file_extension": ".py",
   "mimetype": "text/x-python",
   "name": "python",
   "nbconvert_exporter": "python",
   "pygments_lexer": "ipython3",
   "version": "3.7.11"
  }
 },
 "nbformat": 4,
 "nbformat_minor": 5
}
