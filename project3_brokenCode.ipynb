{
 "cells": [
  {
   "cell_type": "code",
   "execution_count": null,
   "id": "9166879d",
   "metadata": {},
   "outputs": [],
   "source": [
    "N = 4 # N by N by N array of atoms\n",
    "k = 1\n",
    "m = 1\n",
    "spacing = 1\n",
    "atom_radius = 0.3*spacing\n",
    "L0 = spacing-1.8*atom_radius\n",
    "V0 = pi*(0.5*atom_radius)**2*L0 # initial volume of spring\n",
    "scene1.center = 0.5*(N-1)*vector(1,1,1)\n",
    "dt = 0.04*(2*pi*sqrt(m/k))\n",
    "axes = [vector(1,0,0), vector(0,1,0), vector(0,0,1)]\n",
    "\n",
    "class Lattice():\n",
    "    \n",
    "    def atomAt(self, np):\n",
    "        if (np.x>=0 and np.y>=0 and np.z>=0 and np.x<N and np.y<N and np.z<N):\n",
    "            return self.atoms[int(np.x + np.y*N + np.z*N*N)]\n",
    "        \n",
    "    def __init__(self, momentumRange, x, y, z):\n",
    "        self.atoms = []\n",
    "        self.springs = []\n",
    "        atom = sphere()\n",
    "        atom.pos = vector(x,y,z)*spacing\n",
    "        atom.radius = atom_radius\n",
    "        atom.color = vector(0,0.58,0.69)\n",
    "        atom.momentum = momentumRange*vec.random()\n",
    "        self.atoms.append(atom)\n",
    "              \n",
    "\n",
    "def make_spring(l : Lattice, x, y, z, d):\n",
    "        atom = l.atomAt(vector(x,y,z))\n",
    "        neighbor = l.atomAt(vector(x,y,z)+axes[d])\n",
    "        #if (atom.visible or neighbor.visible):\n",
    "        spring = helix()\n",
    "        #spring.visible = atom.visible and neighbor.visible\n",
    "        spring.thickness = 0.05\n",
    "        spring.radius = 0.5*atom_radius\n",
    "        spring.length = spacing\n",
    "        spring.atoms = [ atom, neighbor ]\n",
    "        spring.color = vector(1,0.5,0)\n",
    "        l.springs.append(spring)\n",
    "        \n",
    "lattice = np.array([[[Lattice(0.1*spacing*sqrt(k/m), x, y, z) for x in range(N)] \n",
    "                            for y in range(N)] for z in range(N)], dtype=object)\n",
    "\n",
    "[[[[make_spring(lattice[x,y,z], x, y, z, d) for d in range(3)] for z in range(-1,N)] \n",
    "                                            for y in range(-1,N)] for x in range(-1,N)]\n"
   ]
  }
 ],
 "metadata": {
  "kernelspec": {
   "display_name": "Python 3",
   "language": "python",
   "name": "python3"
  },
  "language_info": {
   "codemirror_mode": {
    "name": "ipython",
    "version": 3
   },
   "file_extension": ".py",
   "mimetype": "text/x-python",
   "name": "python",
   "nbconvert_exporter": "python",
   "pygments_lexer": "ipython3",
   "version": "3.7.11"
  }
 },
 "nbformat": 4,
 "nbformat_minor": 5
}
