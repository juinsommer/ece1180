{
 "cells": [
  {
   "cell_type": "code",
   "execution_count": 2,
   "id": "153af33f",
   "metadata": {},
   "outputs": [
    {
     "data": {
      "text/html": [
       "<div id=\"glowscript\" class=\"glowscript\"></div>"
      ],
      "text/plain": [
       "<IPython.core.display.HTML object>"
      ]
     },
     "metadata": {},
     "output_type": "display_data"
    },
    {
     "data": {
      "application/javascript": [
       "if (typeof Jupyter !== \"undefined\") { window.__context = { glowscript_container: $(\"#glowscript\").removeAttr(\"id\")};}else{ element.textContent = ' ';}"
      ],
      "text/plain": [
       "<IPython.core.display.Javascript object>"
      ]
     },
     "metadata": {},
     "output_type": "display_data"
    }
   ],
   "source": [
    "from vpython import*\n",
    "import numpy as np"
   ]
  },
  {
   "cell_type": "code",
   "execution_count": 14,
   "id": "b9a9b702",
   "metadata": {},
   "outputs": [
    {
     "data": {
      "text/html": [
       "<div id=\"glowscript\" class=\"glowscript\"></div>"
      ],
      "text/plain": [
       "<IPython.core.display.HTML object>"
      ]
     },
     "metadata": {},
     "output_type": "display_data"
    },
    {
     "data": {
      "application/javascript": [
       "if (typeof Jupyter !== \"undefined\") { window.__context = { glowscript_container: $(\"#glowscript\").removeAttr(\"id\")};}else{ element.textContent = ' ';}"
      ],
      "text/plain": [
       "<IPython.core.display.Javascript object>"
      ]
     },
     "metadata": {},
     "output_type": "display_data"
    }
   ],
   "source": [
    "scene1=canvas()"
   ]
  },
  {
   "cell_type": "code",
   "execution_count": 15,
   "id": "9166879d",
   "metadata": {
    "scrolled": true
   },
   "outputs": [
    {
     "data": {
      "text/plain": [
       "[[[[None, None, None],\n",
       "   [None, None, None],\n",
       "   [None, None, None],\n",
       "   [None, None, None]],\n",
       "  [[None, None, None],\n",
       "   [None, None, None],\n",
       "   [None, None, None],\n",
       "   [None, None, None]],\n",
       "  [[None, None, None],\n",
       "   [None, None, None],\n",
       "   [None, None, None],\n",
       "   [None, None, None]],\n",
       "  [[None, None, None],\n",
       "   [None, None, None],\n",
       "   [None, None, None],\n",
       "   [None, None, None]]],\n",
       " [[[None, None, None],\n",
       "   [None, None, None],\n",
       "   [None, None, None],\n",
       "   [None, None, None]],\n",
       "  [[None, None, None],\n",
       "   [None, None, None],\n",
       "   [None, None, None],\n",
       "   [None, None, None]],\n",
       "  [[None, None, None],\n",
       "   [None, None, None],\n",
       "   [None, None, None],\n",
       "   [None, None, None]],\n",
       "  [[None, None, None],\n",
       "   [None, None, None],\n",
       "   [None, None, None],\n",
       "   [None, None, None]]],\n",
       " [[[None, None, None],\n",
       "   [None, None, None],\n",
       "   [None, None, None],\n",
       "   [None, None, None]],\n",
       "  [[None, None, None],\n",
       "   [None, None, None],\n",
       "   [None, None, None],\n",
       "   [None, None, None]],\n",
       "  [[None, None, None],\n",
       "   [None, None, None],\n",
       "   [None, None, None],\n",
       "   [None, None, None]],\n",
       "  [[None, None, None],\n",
       "   [None, None, None],\n",
       "   [None, None, None],\n",
       "   [None, None, None]]],\n",
       " [[[None, None, None],\n",
       "   [None, None, None],\n",
       "   [None, None, None],\n",
       "   [None, None, None]],\n",
       "  [[None, None, None],\n",
       "   [None, None, None],\n",
       "   [None, None, None],\n",
       "   [None, None, None]],\n",
       "  [[None, None, None],\n",
       "   [None, None, None],\n",
       "   [None, None, None],\n",
       "   [None, None, None]],\n",
       "  [[None, None, None],\n",
       "   [None, None, None],\n",
       "   [None, None, None],\n",
       "   [None, None, None]]]]"
      ]
     },
     "execution_count": 15,
     "metadata": {},
     "output_type": "execute_result"
    }
   ],
   "source": [
    "N = 3 # N by N by N array of atoms\n",
    "k = 1\n",
    "m = 1\n",
    "spacing = 1\n",
    "atom_radius = 0.3*spacing\n",
    "L0 = spacing-1.8*atom_radius\n",
    "V0 = pi*(0.5*atom_radius)**2*L0 # initial volume of spring\n",
    "scene1.center = 0.5*(N-1)*vector(1,1,1)\n",
    "dt = 0.04*(2*pi*sqrt(m/k))\n",
    "axes = [vector(1,0,0), vector(0,1,0), vector(0,0,1)]\n",
    "\n",
    "atoms = []\n",
    "neighbors = []\n",
    "\n",
    "class Lattice():\n",
    "        \n",
    "    def __init__(self, momentumRange, x, y, z):\n",
    "        atom = sphere()\n",
    "        atom.pos = vector(x,y,z)*spacing\n",
    "        atom.radius = atom_radius\n",
    "        atom.color = vector(0,0.58,0.69)\n",
    "        atom.momentum = momentumRange*vec.random()\n",
    "        atoms.append(atom)\n",
    "              \n",
    "\n",
    "def getNeighbors(x, y, z, d):\n",
    "        atom = atomAt(vector(x,y,z))\n",
    "        neighbor = atomAt(vector(x,y,z)+axes[d])\n",
    "        #if atom.visible:\n",
    "        neighbors.append(neighbor)\n",
    "    \n",
    "def atomAt(np):\n",
    "        if (np.x>=0 and np.y>=0 and np.z>=0 and np.x<N and np.y<N and np.z<N):\n",
    "            return atoms[int(np.x + np.y*N + np.z*N*N)]\n",
    "        \n",
    "        \n",
    "lattice = np.array([[[Lattice(0.1*spacing*sqrt(k/m), x, y, z) for z in range(N)] \n",
    "                            for y in range(N)] for x in range(N)], dtype=object)\n",
    "\n",
    "[[[[getNeighbors(x,y,z,d) for d in range(3)] for z in range(-1,N)] for y in range(-1,N)] for x in range(-1,N)]"
   ]
  },
  {
   "cell_type": "code",
   "execution_count": null,
   "id": "81d6769e",
   "metadata": {},
   "outputs": [],
   "source": []
  }
 ],
 "metadata": {
  "kernelspec": {
   "display_name": "Python 3",
   "language": "python",
   "name": "python3"
  },
  "language_info": {
   "codemirror_mode": {
    "name": "ipython",
    "version": 3
   },
   "file_extension": ".py",
   "mimetype": "text/x-python",
   "name": "python",
   "nbconvert_exporter": "python",
   "pygments_lexer": "ipython3",
   "version": "3.7.11"
  }
 },
 "nbformat": 4,
 "nbformat_minor": 5
}
