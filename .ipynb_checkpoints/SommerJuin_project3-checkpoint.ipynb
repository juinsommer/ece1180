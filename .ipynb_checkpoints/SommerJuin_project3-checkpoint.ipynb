{
 "cells": [
  {
   "cell_type": "code",
   "execution_count": 1,
   "id": "50f58464",
   "metadata": {},
   "outputs": [
    {
     "data": {
      "text/html": [
       "<div id=\"glowscript\" class=\"glowscript\"></div>"
      ],
      "text/plain": [
       "<IPython.core.display.HTML object>"
      ]
     },
     "metadata": {},
     "output_type": "display_data"
    },
    {
     "data": {
      "application/javascript": [
       "if (typeof Jupyter !== \"undefined\") { window.__context = { glowscript_container: $(\"#glowscript\").removeAttr(\"id\")};}else{ element.textContent = ' ';}"
      ],
      "text/plain": [
       "<IPython.core.display.Javascript object>"
      ]
     },
     "metadata": {},
     "output_type": "display_data"
    }
   ],
   "source": [
    "from vpython import*\n",
    "import math\n",
    "import matplotlib.pyplot as plt\n",
    "import numpy as np"
   ]
  },
  {
   "cell_type": "code",
   "execution_count": 6,
   "id": "cbcc6e82",
   "metadata": {
    "scrolled": true
   },
   "outputs": [
    {
     "data": {
      "text/html": [
       "<div id=\"glowscript\" class=\"glowscript\"></div>"
      ],
      "text/plain": [
       "<IPython.core.display.HTML object>"
      ]
     },
     "metadata": {},
     "output_type": "display_data"
    },
    {
     "data": {
      "application/javascript": [
       "if (typeof Jupyter !== \"undefined\") { window.__context = { glowscript_container: $(\"#glowscript\").removeAttr(\"id\")};}else{ element.textContent = ' ';}"
      ],
      "text/plain": [
       "<IPython.core.display.Javascript object>"
      ]
     },
     "metadata": {},
     "output_type": "display_data"
    }
   ],
   "source": [
    "scene1=canvas()"
   ]
  },
  {
   "cell_type": "code",
   "execution_count": 7,
   "id": "2f25c581",
   "metadata": {},
   "outputs": [],
   "source": [
    "N = 4\n",
    "k = 1\n",
    "m = 1\n",
    "spacing = 1\n",
    "atom_radius = 0.3*spacing\n",
    "L0 = spacing-1.8*atom_radius\n",
    "V0 = pi*(0.5*atom_radius)**2*L0 # initial volume of spring\n",
    "scene1.center = 0.5*(N-1)*vector(1,1,1)\n",
    "dt = 0.04*(2*pi*sqrt(m/k))\n",
    "axes = [vector(1,0,0), vector(0,1,0), vector(0,0,1)]\n",
    "\n",
    "class Lattice:\n",
    "        \n",
    "    def __init__(self, momentumRange ):\n",
    "        self.atoms = []\n",
    "        self.springs = []\n",
    "        \n",
    "        for z in range(-1,N+1,1):\n",
    "            for y in range(-1,N+1,1):\n",
    "                for x in range(-1,N+1,1):\n",
    "                    atom = sphere()\n",
    "                    atom.pos = vector(x,y,z)*spacing\n",
    "                    atom.radius = atom_radius\n",
    "                    atom.color = vector(0,0.58,0.69)\n",
    "                    if (0 <= x < N and 0 <= y < N and 0 <= z < N):\n",
    "                        atom.momentum = momentumRange*vec.random()\n",
    "                    else:\n",
    "                        atom.visible = False\n",
    "                        atom.momentum = vec(0,0,0)\n",
    "                    atom.index = len(self.atoms)\n",
    "                    self.atoms.append( atom )\n",
    "                    \n",
    "        for atom in self.atoms:\n",
    "            if atom.visible:\n",
    "                if atom.pos.x == 0:\n",
    "                    self.make_spring(self.atoms[atom.index-1], atom, False)\n",
    "                    self.make_spring(atom, self.atoms[atom.index+1], True)\n",
    "                elif atom.pos.x == N-1:\n",
    "                    self.make_spring(atom, self.atoms[atom.index+1], False)\n",
    "                else:\n",
    "                    self.make_spring(atom, self.atoms[atom.index+1], True)\n",
    "\n",
    "                if atom.pos.y == 0:\n",
    "                    self.make_spring(self.atoms[atom.index-(N+2)], atom, False)\n",
    "                    self.make_spring(atom, self.atoms[atom.index+(N+2)], True)\n",
    "                elif atom.pos.y == N-1:\n",
    "                    self.make_spring(atom, self.atoms[atom.index+(N+2)], False)\n",
    "                else:\n",
    "                    self.make_spring(atom, self.atoms[atom.index+(N+2)], True)\n",
    "                    \n",
    "                if atom.pos.z == 0:\n",
    "                    self.make_spring(self.atoms[atom.index-(N+2)**2], atom, False)\n",
    "                    self.make_spring(atom, self.atoms[atom.index+(N+2)**2], True)\n",
    "                elif atom.pos.z == N-1:\n",
    "                    self.make_spring(atom, self.atoms[atom.index+(N+2)**2], False)\n",
    "                else:\n",
    "                    self.make_spring(atom, self.atoms[atom.index+(N+2)**2], True)\n",
    "    \n",
    "    \n",
    "    def make_spring(self, start, end, visible):\n",
    "        spring = helix()\n",
    "        spring.pos = start.pos\n",
    "        spring.axis = end.pos-start.pos\n",
    "        spring.visible = visible\n",
    "        spring.thickness = 0.05\n",
    "        spring.radius = 0.5*atom_radius\n",
    "        spring.length = spacing\n",
    "        spring.start = start\n",
    "        spring.end = end\n",
    "        spring.color = color.orange\n",
    "        self.springs.append(spring)\n",
    "\n",
    "l = Lattice(0.1*spacing*sqrt(k/m))"
   ]
  },
  {
   "cell_type": "code",
   "execution_count": null,
   "id": "4c72facb",
   "metadata": {},
   "outputs": [],
   "source": []
  }
 ],
 "metadata": {
  "kernelspec": {
   "display_name": "Python 3",
   "language": "python",
   "name": "python3"
  },
  "language_info": {
   "codemirror_mode": {
    "name": "ipython",
    "version": 3
   },
   "file_extension": ".py",
   "mimetype": "text/x-python",
   "name": "python",
   "nbconvert_exporter": "python",
   "pygments_lexer": "ipython3",
   "version": "3.7.11"
  }
 },
 "nbformat": 4,
 "nbformat_minor": 5
}
