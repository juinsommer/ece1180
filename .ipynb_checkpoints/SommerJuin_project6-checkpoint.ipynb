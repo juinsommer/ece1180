{
 "cells": [
  {
   "cell_type": "code",
   "execution_count": 3,
   "id": "fb4815eb",
   "metadata": {},
   "outputs": [
    {
     "data": {
      "text/html": [
       "<div id=\"glowscript\" class=\"glowscript\"></div>"
      ],
      "text/plain": [
       "<IPython.core.display.HTML object>"
      ]
     },
     "metadata": {},
     "output_type": "display_data"
    },
    {
     "data": {
      "application/javascript": [
       "if (typeof Jupyter !== \"undefined\") { window.__context = { glowscript_container: $(\"#glowscript\").removeAttr(\"id\")};}else{ element.textContent = ' ';}"
      ],
      "text/plain": [
       "<IPython.core.display.Javascript object>"
      ]
     },
     "metadata": {},
     "output_type": "display_data"
    }
   ],
   "source": [
    "from vpython import*"
   ]
  },
  {
   "cell_type": "code",
   "execution_count": null,
   "id": "1da2ed8b",
   "metadata": {},
   "outputs": [],
   "source": [
    "# create voltage source, resistor, capacitor, diode\n",
    "    # capacitor: v(t + dt) = v(t) + (i(t + dt)/C)*dt\n",
    "    #                      = Veq + i(t + dt) * Req\n",
    "    #            i(t + dt) = Ieq + v(t + dt) / Req\n",
    "    \n",
    "\n",
    "class Component:\n",
    "    \n",
    "    def ac_source(v_amp, freq ,t):\n",
    "        \n",
    "# create RC filter "
   ]
  },
  {
   "cell_type": "code",
   "execution_count": null,
   "id": "bf56951b",
   "metadata": {},
   "outputs": [],
   "source": [
    "# RC filter simulation\n",
    "\n",
    "    # For every time step (until steady state Tau = RC):\n",
    "    # calculate new Vi = V0 * sin(wt)\n",
    "    # calculate new Ieq = -(C/dt)*v(t) from previous Vb\n",
    "    # solve x = inv(A) * b\n",
    "    # plot"
   ]
  }
 ],
 "metadata": {
  "kernelspec": {
   "display_name": "Python 3",
   "language": "python",
   "name": "python3"
  },
  "language_info": {
   "codemirror_mode": {
    "name": "ipython",
    "version": 3
   },
   "file_extension": ".py",
   "mimetype": "text/x-python",
   "name": "python",
   "nbconvert_exporter": "python",
   "pygments_lexer": "ipython3",
   "version": "3.7.11"
  }
 },
 "nbformat": 4,
 "nbformat_minor": 5
}
