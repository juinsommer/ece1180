{
 "cells": [
  {
   "cell_type": "code",
   "execution_count": 1,
   "id": "b09ffcc5",
   "metadata": {
    "scrolled": false
   },
   "outputs": [
    {
     "data": {
      "text/html": [
       "<div id=\"glowscript\" class=\"glowscript\"></div>"
      ],
      "text/plain": [
       "<IPython.core.display.HTML object>"
      ]
     },
     "metadata": {},
     "output_type": "display_data"
    },
    {
     "data": {
      "application/javascript": [
       "if (typeof Jupyter !== \"undefined\") { window.__context = { glowscript_container: $(\"#glowscript\").removeAttr(\"id\")};}else{ element.textContent = ' ';}"
      ],
      "text/plain": [
       "<IPython.core.display.Javascript object>"
      ]
     },
     "metadata": {},
     "output_type": "display_data"
    }
   ],
   "source": [
    "from vpython import*\n",
    "from queue import PriorityQueue"
   ]
  },
  {
   "cell_type": "code",
   "execution_count": 2,
   "id": "9683f01c",
   "metadata": {},
   "outputs": [],
   "source": [
    "# class to instantiate nets for each module\n",
    "class Net:\n",
    "    def __init__(self, driver, instance, time, on=0):\n",
    "        self.value = None\n",
    "        self.instance = instance\n",
    "        self.driver = driver\n",
    "        self.receivers = []\n",
    "        self.on = on \n",
    "        self.time = time\n",
    "        \n",
    "    # function to connect each net to net of another module\n",
    "    def connect(self, inputs):\n",
    "        if not isinstance(inputs, list):\n",
    "            inputs = [inputs]\n",
    "            \n",
    "        for input in inputs:\n",
    "            self.receivers.append(input)\n",
    "\n",
    "    def set(self, value):\n",
    "        if self.value == value:\n",
    "            return \n",
    "        \n",
    "        self.value = value\n",
    "        \n",
    "        if self.on:\n",
    "            self.driver.evaluate()\n",
    "            \n",
    "        for c in self.receivers:\n",
    "            c.set(value)\n",
    "\n",
    "# helper class for evaluating logic for each gate\n",
    "class Logic:\n",
    "    def __init__(self, name):\n",
    "        self.name = name\n",
    "\n",
    "    def evaluate(self):\n",
    "        return\n",
    "\n",
    "# helper class for instantiating 3 nets for a 2 input gate \n",
    "class Gate(Logic):        \n",
    "    def __init__(self, name, instance, delay):\n",
    "        Logic.__init__(self, name)\n",
    "        self.instance = instance\n",
    "        self.A = Net(self, 0, time=0, on=1) # input 1\n",
    "        self.B = Net(self, 1, time=0, on=1) # input 2\n",
    "        self.C = Net(self, 2, time=delay, on=1) # output\n",
    "        \n",
    "# class to create a NAND gate     \n",
    "class Nand(Gate):       \n",
    "    def __init__(self, name, instance):\n",
    "        Gate.__init__(self, name, instance, 1)\n",
    "        \n",
    "    def evaluate(self):\n",
    "        result = not(self.A.value and self.B.value)\n",
    "        self.C.set(int(result))\n",
    "\n",
    "# class to create a NOR gate\n",
    "class Nor(Gate):         \n",
    "    def __init__(self, name, instance):\n",
    "        Gate.__init__(self, name, instance, 1)\n",
    "\n",
    "    def evaluate(self):\n",
    "        result = not(self.A.value or self.B.value)\n",
    "        self.C.set(int(result))\n",
    "\n",
    "# class to create an inverter \n",
    "class Not(Logic):     \n",
    "    def __init__(self, name, instance, delay):\n",
    "        Logic.__init__(self, name)\n",
    "        self.instance = instance\n",
    "        self.A = Net(self, 0, time=0, on=1) # input\n",
    "        self.B = Net(self, 2, time=delay, on=1) # output\n",
    "\n",
    "    def evaluate(self):\n",
    "        result = not self.A.value\n",
    "        self.B.set(int(result))\n",
    "\n",
    "# class to instantiate an event holding attributes of the net passed and overloaded comparison operators\n",
    "# for a priority queue to handle\n",
    "class Event:\n",
    "    \n",
    "    def __init__(self, net, t):\n",
    "        self.instance = net \n",
    "        self.value = net.value \n",
    "        self.time = net.time + t\n",
    "        self.type = net.instance\n",
    "        \n",
    "    def __lt__(self, other): return self.time < other.time\n",
    "    \n",
    "    def __le__(self, other): return self.time <= other.time\n",
    "        \n",
    "    def __eq__(self, other): return self.time == other.time\n",
    "    \n",
    "    def __gt__(self, other): return self.time > other.time\n",
    "    \n",
    "    def __ge__(self, other): return self.time >= other.time\n",
    "        \n",
    "    \n",
    "# function to set input values of a module       \n",
    "def set_input(gate, a, b):\n",
    "    gate.A.set(a)\n",
    "    gate.B.set(b)\n",
    "    \n",
    "def update_net(gate, input_values, index):\n",
    "    a,b = input_values[index]\n",
    "    set_input(gate, a, b)\n",
    "    \n",
    "def get_event(eq1, eq2, eq3):\n",
    "    e1 = eq1.get()\n",
    "    e2 = eq2.get()\n",
    "    e3 = eq3.get()\n",
    "    \n",
    "    return e1, e2, e3\n",
    "\n",
    "def setup_event(gate, values, time):\n",
    "    event_q1 = PriorityQueue()\n",
    "    event_q2 = PriorityQueue()\n",
    "    event_q3 = PriorityQueue()\n",
    "\n",
    "    update_net(gate, values, 0)\n",
    "\n",
    "    e1 = Event(gate.A, time)\n",
    "    e2 = Event(gate.B, time)\n",
    "    e3 = Event(gate.C, time)\n",
    "\n",
    "    event_q1.put(e1)\n",
    "    event_q2.put(e2)\n",
    "    event_q3.put(e3)\n",
    "    \n",
    "    return event_q1, event_q2, event_q3\n",
    "\n",
    "def setup_Net_event(gate, input1, input2, values, time):\n",
    "    event_q1 = PriorityQueue()\n",
    "    event_q2 = PriorityQueue()\n",
    "    event_q3 = PriorityQueue()\n",
    "\n",
    "    update_net(input1, values, 0)\n",
    "    update_net(input2, values, 0)\n",
    "\n",
    "    e1 = Event(gate.A, time)\n",
    "    e2 = Event(gate.B, time)\n",
    "    e3 = Event(gate.C, time)\n",
    "\n",
    "    event_q1.put(e1)\n",
    "    event_q2.put(e2)\n",
    "    event_q3.put(e3)\n",
    "    \n",
    "    return event_q1, event_q2, event_q3\n",
    "\n",
    "\n",
    "# function to run discrete event time simulation \n",
    "def simulate_net(t, clock, setup, values, gate, g1, g2, g3):\n",
    "    index = 1\n",
    "    eq1, eq2, eq3 = setup\n",
    "    while not (eq3.empty()):\n",
    "        # get next event\n",
    "        event1, event2, event3 = get_event(eq1, eq2, eq3)\n",
    "\n",
    "        # update time\n",
    "        t += event3.time - clock\n",
    "        clock = t\n",
    "\n",
    "        g1.plot(clock, event1.value)\n",
    "        g2.plot(clock, event2.value)\n",
    "        g3.plot(clock, event3.value)\n",
    "\n",
    "\n",
    "        if index < len(values):\n",
    "            # update_net(event)\n",
    "            update_net(gate, values, index)\n",
    "            index += 1\n",
    "\n",
    "            next_event1 = Event(event1.instance, clock)\n",
    "            next_event2 = Event(event2.instance, clock)\n",
    "            next_event3 = Event(event3.instance, clock)\n",
    "\n",
    "            # post new event\n",
    "            eq1.put(next_event1)\n",
    "            eq2.put(next_event2)\n",
    "            eq3.put(next_event3)\n",
    "\n",
    "            # update visualization\n",
    "            g1.plot(clock, next_event1.value)\n",
    "            g2.plot(clock, next_event2.value)\n",
    "            g3.plot(clock, next_event3.value)\n",
    "\n",
    "            \n",
    "def simulate_net2(t, clock, setup, values, gate, gate2, g1, g2, g3):\n",
    "    index = 1\n",
    "    eq1, eq2, eq3 = setup\n",
    "    while not (eq3.empty()):\n",
    "        # get next event\n",
    "        event1, event2, event3 = get_event(eq1, eq2, eq3)\n",
    "\n",
    "        # update time\n",
    "        t += event3.time - clock\n",
    "        clock = t\n",
    "\n",
    "        g1.plot(clock, event1.value)\n",
    "        g2.plot(clock, event2.value)\n",
    "        g3.plot(clock, event3.value)\n",
    "\n",
    "\n",
    "        if index < len(values):\n",
    "            # update_net(event)\n",
    "            update_net(gate, values, index)\n",
    "            update_net(gate2, values, index)\n",
    "            index += 1\n",
    "\n",
    "            next_event1 = Event(event1.instance, clock)\n",
    "            next_event2 = Event(event2.instance, clock)\n",
    "            next_event3 = Event(event3.instance, clock)\n",
    "\n",
    "            # post new event\n",
    "            eq1.put(next_event1)\n",
    "            eq2.put(next_event2)\n",
    "            eq3.put(next_event3)\n",
    "\n",
    "            # update visualization\n",
    "            g1.plot(clock, next_event1.value)\n",
    "            g2.plot(clock, next_event2.value)\n",
    "            g3.plot(clock, next_event3.value)\n"
   ]
  },
  {
   "cell_type": "code",
   "execution_count": 3,
   "id": "94dca3f2",
   "metadata": {},
   "outputs": [],
   "source": [
    "# set up Nand gate\n",
    "t = 0\n",
    "clock = 0\n",
    "\n",
    "truth_values = [(1,1), (0,0), (0,0), (0,1), (1,0), (1,1), (0,0), (0,1), (1,0), (1,1), (0,0), (0,1), (1,0), (1,1)]\n",
    "nand = Nand('nand1', 0)"
   ]
  },
  {
   "cell_type": "markdown",
   "id": "fbbcc6fa",
   "metadata": {},
   "source": [
    "# Verification of NAND nets (inputs and output)"
   ]
  },
  {
   "cell_type": "code",
   "execution_count": 4,
   "id": "c0f66624",
   "metadata": {
    "scrolled": false
   },
   "outputs": [
    {
     "data": {
      "text/html": [
       "<div id=\"glowscript\" class=\"glowscript\"></div>"
      ],
      "text/plain": [
       "<IPython.core.display.HTML object>"
      ]
     },
     "metadata": {},
     "output_type": "display_data"
    },
    {
     "data": {
      "application/javascript": [
       "if (typeof Jupyter !== \"undefined\") { window.__context = { glowscript_container: $(\"#glowscript\").removeAttr(\"id\")};}else{ element.textContent = ' ';}"
      ],
      "text/plain": [
       "<IPython.core.display.Javascript object>"
      ]
     },
     "metadata": {},
     "output_type": "display_data"
    }
   ],
   "source": [
    "scene1 = canvas()"
   ]
  },
  {
   "cell_type": "code",
   "execution_count": 5,
   "id": "32a817e5",
   "metadata": {},
   "outputs": [
    {
     "data": {
      "application/javascript": [
       "if (typeof Jupyter !== \"undefined\") {require.undef(\"nbextensions/vpython_libraries/glow.min\");}else{element.textContent = ' ';}"
      ],
      "text/plain": [
       "<IPython.core.display.Javascript object>"
      ]
     },
     "metadata": {},
     "output_type": "display_data"
    },
    {
     "data": {
      "application/javascript": [
       "if (typeof Jupyter !== \"undefined\") {require.undef(\"nbextensions/vpython_libraries/glowcomm\");}else{element.textContent = ' ';}"
      ],
      "text/plain": [
       "<IPython.core.display.Javascript object>"
      ]
     },
     "metadata": {},
     "output_type": "display_data"
    },
    {
     "data": {
      "application/javascript": [
       "if (typeof Jupyter !== \"undefined\") {require.undef(\"nbextensions/vpython_libraries/jquery-ui.custom.min\");}else{element.textContent = ' ';}"
      ],
      "text/plain": [
       "<IPython.core.display.Javascript object>"
      ]
     },
     "metadata": {},
     "output_type": "display_data"
    },
    {
     "data": {
      "application/javascript": [
       "if (typeof Jupyter !== \"undefined\") {require([\"nbextensions/vpython_libraries/glow.min\"], function(){console.log(\"GLOW LOADED\");});}else{element.textContent = ' ';}"
      ],
      "text/plain": [
       "<IPython.core.display.Javascript object>"
      ]
     },
     "metadata": {},
     "output_type": "display_data"
    },
    {
     "data": {
      "application/javascript": [
       "if (typeof Jupyter !== \"undefined\") {require([\"nbextensions/vpython_libraries/glowcomm\"], function(){console.log(\"GLOWCOMM LOADED\");});}else{element.textContent = ' ';}"
      ],
      "text/plain": [
       "<IPython.core.display.Javascript object>"
      ]
     },
     "metadata": {},
     "output_type": "display_data"
    },
    {
     "data": {
      "application/javascript": [
       "if (typeof Jupyter !== \"undefined\") {require([\"nbextensions/vpython_libraries/jquery-ui.custom.min\"], function(){console.log(\"JQUERY LOADED\");});}else{element.textContent = ' ';}"
      ],
      "text/plain": [
       "<IPython.core.display.Javascript object>"
      ]
     },
     "metadata": {},
     "output_type": "display_data"
    }
   ],
   "source": [
    "# define graphs and simulate values\n",
    "g1 = graph(title=\"Input1\", xtitle='time', ytitle='value', fast=False, width=800)\n",
    "g2 = graph(title=\"Input2\", xtitle='time', ytitle='value', fast=False, width=800)\n",
    "g3 = graph(title=\"Output\", xtitle='time', ytitle='value', fast=False, width=900)\n",
    "net1 = gcurve(graph=g1, color=color.blue, width=4, markers=True, marker_color=color.black, label='net1')\n",
    "net2 = gcurve(graph=g2, color=color.yellow, width=4, markers=True, marker_color=color.black, label='net2')\n",
    "net3 = gcurve(graph=g3, color=color.red, width=4, markers=True, marker_color=color.black, label='nand1')\n",
    "\n",
    "simulate_net(t, clock, setup_event(nand, truth_values, t), truth_values, nand, net1, net2, net3)"
   ]
  },
  {
   "cell_type": "markdown",
   "id": "5c26f522",
   "metadata": {},
   "source": [
    "**Output displays correct data for NAND gate where the input data is a truth table**"
   ]
  },
  {
   "cell_type": "markdown",
   "id": "15ac9349",
   "metadata": {},
   "source": [
    "# Verification of NOR nets (inputs and output)"
   ]
  },
  {
   "cell_type": "code",
   "execution_count": 9,
   "id": "4c37feb1",
   "metadata": {},
   "outputs": [
    {
     "data": {
      "text/html": [
       "<div id=\"glowscript\" class=\"glowscript\"></div>"
      ],
      "text/plain": [
       "<IPython.core.display.HTML object>"
      ]
     },
     "metadata": {},
     "output_type": "display_data"
    },
    {
     "data": {
      "application/javascript": [
       "if (typeof Jupyter !== \"undefined\") { window.__context = { glowscript_container: $(\"#glowscript\").removeAttr(\"id\")};}else{ element.textContent = ' ';}"
      ],
      "text/plain": [
       "<IPython.core.display.Javascript object>"
      ]
     },
     "metadata": {},
     "output_type": "display_data"
    }
   ],
   "source": [
    "scene2 = canvas()"
   ]
  },
  {
   "cell_type": "code",
   "execution_count": 10,
   "id": "e5daf823",
   "metadata": {},
   "outputs": [],
   "source": [
    "# define new graphs \n",
    "g4 = graph(title=\"Input1\", xtitle='time', ytitle='value', fast=False, width=800)\n",
    "g5 = graph(title=\"Input2\", xtitle='time', ytitle='value', fast=False, width=800)\n",
    "g6 = graph(title=\"Output\", xtitle='time', ytitle='value', fast=False, width=900)\n",
    "net4 = gcurve(graph=g4, color=color.blue, width=4, markers=True, marker_color=color.black, label='net1')\n",
    "net5 = gcurve(graph=g5, color=color.yellow, width=4, markers=True, marker_color=color.black, label='net2')\n",
    "net6 = gcurve(graph=g6, color=color.red, width=4, markers=True, marker_color=color.black, label='nor1')\n",
    "\n",
    "# set up NOR gate for simulation\n",
    "truth_table = [(0,1), (0,1), (0,0), (0,1), (1,0), (1,1), (0,0), (0,1), (1,0), (1,1), (0,0), (0,1), (1,0), (1,1)]\n",
    "t = 0\n",
    "clock = 0\n",
    "nor = Nor('nor1', 0)\n",
    "\n",
    "# run simulation\n",
    "simulate_net(t, clock, setup_event(nor, truth_table, t), truth_table, nor, net4, net5, net6)"
   ]
  },
  {
   "cell_type": "markdown",
   "id": "1767b820",
   "metadata": {},
   "source": [
    "**Output displays correct data for NOR gate where the input data is a truth table**"
   ]
  },
  {
   "cell_type": "markdown",
   "id": "88a7c89c",
   "metadata": {},
   "source": [
    "# Combinational NAND gate network"
   ]
  },
  {
   "cell_type": "code",
   "execution_count": 11,
   "id": "e18c3755",
   "metadata": {
    "scrolled": true
   },
   "outputs": [
    {
     "data": {
      "text/html": [
       "<div id=\"glowscript\" class=\"glowscript\"></div>"
      ],
      "text/plain": [
       "<IPython.core.display.HTML object>"
      ]
     },
     "metadata": {},
     "output_type": "display_data"
    },
    {
     "data": {
      "application/javascript": [
       "if (typeof Jupyter !== \"undefined\") { window.__context = { glowscript_container: $(\"#glowscript\").removeAttr(\"id\")};}else{ element.textContent = ' ';}"
      ],
      "text/plain": [
       "<IPython.core.display.Javascript object>"
      ]
     },
     "metadata": {},
     "output_type": "display_data"
    }
   ],
   "source": [
    "scene3 = canvas()"
   ]
  },
  {
   "cell_type": "code",
   "execution_count": 12,
   "id": "b870ea31",
   "metadata": {},
   "outputs": [],
   "source": [
    "g7 = graph(title=\"NAND1 Output\", xtitle='time', ytitle='value', fast=False, width=800)\n",
    "g8 = graph(title=\"NAND2 Output\", xtitle='time', ytitle='value', fast=False, width=800)\n",
    "g9 = graph(title=\"Network Output\", xtitle='time', ytitle='value', fast=False, width=900)\n",
    "net7 = gcurve(graph=g7, color=color.blue, width=4, markers=True, marker_color=color.black, label='net1')\n",
    "net8 = gcurve(graph=g8, color=color.yellow, width=4, markers=True, marker_color=color.black, label='net2')\n",
    "net9 = gcurve(graph=g9, color=color.red, width=4, markers=True, marker_color=color.black, label='Nand3')\n",
    "\n",
    "t = 0\n",
    "clock = 0\n",
    "\n",
    "nand1 = Nand('nand1', 0)\n",
    "nand2 = Nand('nand2', 1)\n",
    "nand3 = Nand('nand3', 2)\n",
    "\n",
    "nand1.C.connect([nand3.A])\n",
    "nand2.C.connect([nand3.B])\n",
    "\n",
    "simulate_net2(t, clock, setup_Net_event(nand3, nand1, nand2, truth_values, t), truth_values, nand1, nand2, net7, net8, net9)"
   ]
  },
  {
   "cell_type": "markdown",
   "id": "d2546efb",
   "metadata": {},
   "source": [
    "# Combinational NOR gate network "
   ]
  },
  {
   "cell_type": "code",
   "execution_count": 13,
   "id": "0418daf0",
   "metadata": {},
   "outputs": [
    {
     "data": {
      "text/html": [
       "<div id=\"glowscript\" class=\"glowscript\"></div>"
      ],
      "text/plain": [
       "<IPython.core.display.HTML object>"
      ]
     },
     "metadata": {},
     "output_type": "display_data"
    },
    {
     "data": {
      "application/javascript": [
       "if (typeof Jupyter !== \"undefined\") { window.__context = { glowscript_container: $(\"#glowscript\").removeAttr(\"id\")};}else{ element.textContent = ' ';}"
      ],
      "text/plain": [
       "<IPython.core.display.Javascript object>"
      ]
     },
     "metadata": {},
     "output_type": "display_data"
    }
   ],
   "source": [
    "scene4 = canvas()"
   ]
  },
  {
   "cell_type": "code",
   "execution_count": 14,
   "id": "cd5cd884",
   "metadata": {},
   "outputs": [],
   "source": [
    "g10 = graph(title=\"NOR1 Output\", xtitle='time', ytitle='value', fast=False, width=800)\n",
    "g11 = graph(title=\"NOR2 Output\", xtitle='time', ytitle='value', fast=False, width=800)\n",
    "g12 = graph(title=\"Network Output\", xtitle='time', ytitle='value', fast=False, width=900)\n",
    "net10 = gcurve(graph=g10, color=color.blue, width=4, markers=True, marker_color=color.black, label='net1')\n",
    "net11 = gcurve(graph=g11, color=color.yellow, width=4, markers=True, marker_color=color.black, label='net2')\n",
    "net12 = gcurve(graph=g12, color=color.red, width=4, markers=True, marker_color=color.black, label='NOR3')\n",
    "\n",
    "t = 0\n",
    "clock = 0\n",
    "\n",
    "nor1 = Nor('nor1', 0)\n",
    "nor2 = Nor('nor2', 1)\n",
    "nor3 = Nor('nor3', 2)\n",
    "\n",
    "nor1.C.connect([nor3.A])\n",
    "nor2.C.connect([nor3.B])\n",
    "\n",
    "simulate_net2(t, clock, setup_Net_event(nor3, nor1, nor2, truth_values, t), truth_values, nor1, nor2, net10, net11, net12)"
   ]
  },
  {
   "cell_type": "markdown",
   "id": "5cfb995e",
   "metadata": {},
   "source": [
    "# NAND-Gate D Latch"
   ]
  },
  {
   "cell_type": "code",
   "execution_count": 15,
   "id": "4be377bd",
   "metadata": {},
   "outputs": [],
   "source": [
    "# set up D latch network\n",
    "clk = 0\n",
    "sysClk = 0\n",
    "\n",
    "clock_values = [0,1,1,0,1,1,0,1,1,0,0]\n",
    "data_values =  [0,0,1,0,0,1,0,0,1,1,0]\n",
    "\n",
    "nand1 = Nand('nand1_S', 0)\n",
    "nand2 = Nand('nand2_R', 1)\n",
    "nand3 = Nand('nand3_Q', 2)\n",
    "nand4 = Nand('nand4_Qb', 3)\n",
    "not1 = Not('not1', 0, 1)\n",
    "\n",
    "nand1.B.connect([nand2.A])\n",
    "nand1.C.connect([nand3.A])\n",
    "nand1.A.connect([not1.A])\n",
    "not1.B.connect([nand2.B])\n",
    "nand4.C.connect([nand3.B])\n",
    "nand2.C.connect([nand4.B])\n",
    "nand3.C.connect([nand4.A])\n",
    "\n",
    "nand1.A.set(data_values[0])\n",
    "nand1.B.set(clock_values[0])\n",
    "\n",
    "eq_Q = PriorityQueue()\n",
    "eq_Qb = PriorityQueue()\n",
    "eq_D = PriorityQueue()\n",
    "eq_clk = PriorityQueue()\n",
    "\n",
    "ev_D = Event(nand1.A, clk)\n",
    "ev_clk = Event(nand2.A, clk)\n",
    "ev_Q = Event(nand3.C, clk)\n",
    "ev_Qb = Event(nand4.C, clk)\n",
    "\n",
    "eq_Q.put(ev_Q)\n",
    "eq_Qb.put(ev_Qb)\n",
    "eq_D.put(ev_D)\n",
    "eq_clk.put(ev_clk)\n",
    "\n",
    "gr1 = graph(title=\"Q\", xtitle='time', ytitle='value', fast=False, width=800)\n",
    "gr2 = graph(title=\"Qb\", xtitle='time', ytitle='value', fast=False, width=800)\n",
    "gr3 = graph(title=\"D\", xtitle='time', ytitle='value', fast=False, width=800)\n",
    "gr4 = graph(title=\"Clk\", xtitle='time', ytitle='value', fast=False, width=875)\n",
    "\n",
    "Qb_g = gcurve(graph=gr2, color=color.yellow, width=4, markers=True, marker_color=color.black, label='Qb')\n",
    "Q_g = gcurve(graph=gr1, color=color.blue, width=4, markers=True, marker_color=color.black, label='Q')\n",
    "D_g = gcurve(graph=gr3, color=color.cyan, width=4, markers=True, marker_color=color.black, label='Data')\n",
    "clk_g = gcurve(graph=gr4, color=color.red, width=4, markers=True, marker_color=color.black, label='Clk')"
   ]
  },
  {
   "cell_type": "code",
   "execution_count": 16,
   "id": "1321c5d7",
   "metadata": {
    "scrolled": true
   },
   "outputs": [
    {
     "data": {
      "text/html": [
       "<div id=\"glowscript\" class=\"glowscript\"></div>"
      ],
      "text/plain": [
       "<IPython.core.display.HTML object>"
      ]
     },
     "metadata": {},
     "output_type": "display_data"
    },
    {
     "data": {
      "application/javascript": [
       "if (typeof Jupyter !== \"undefined\") { window.__context = { glowscript_container: $(\"#glowscript\").removeAttr(\"id\")};}else{ element.textContent = ' ';}"
      ],
      "text/plain": [
       "<IPython.core.display.Javascript object>"
      ]
     },
     "metadata": {},
     "output_type": "display_data"
    }
   ],
   "source": [
    "scene5 = canvas()"
   ]
  },
  {
   "cell_type": "code",
   "execution_count": 17,
   "id": "08d4f902",
   "metadata": {},
   "outputs": [],
   "source": [
    "i = 1\n",
    "while not eq_Q.empty():\n",
    "    # get next event\n",
    "    e1 = eq_Q.get()\n",
    "    e2 = eq_Qb.get()\n",
    "    e3 = eq_D.get()\n",
    "    e4 = eq_clk.get()\n",
    "    \n",
    "    # update time\n",
    "    clk += e1.time - sysClk\n",
    "    sysClk = clk\n",
    "    \n",
    "    Q_g.plot(sysClk, e1.value)\n",
    "    Qb_g.plot(sysClk, e2.value)\n",
    "    D_g.plot(sysClk, e3.value)\n",
    "    clk_g.plot(sysClk, e4.value)\n",
    "    \n",
    "    if i < len(clock_values):\n",
    "        # update_net(event)\n",
    "        nand1.A.set(data_values[i])\n",
    "        nand1.B.set(clock_values[i])\n",
    "        i += 1\n",
    "        \n",
    "        next_e1 = Event(e1.instance, sysClk)\n",
    "        next_e2 = Event(e2.instance, sysClk)\n",
    "        next_e3 = Event(e3.instance, sysClk)\n",
    "        next_e4 = Event(e4.instance, sysClk)\n",
    "        \n",
    "        # post new event\n",
    "        eq_Q.put(next_e1)\n",
    "        eq_Qb.put(next_e2)\n",
    "        eq_D.put(next_e3)\n",
    "        eq_clk.put(next_e4)\n",
    "        \n",
    "        # update visualization\n",
    "        Q_g.plot(sysClk, next_e1.value)\n",
    "        Qb_g.plot(sysClk, next_e2.value)\n",
    "        D_g.plot(sysClk, next_e3.value)\n",
    "        clk_g.plot(sysClk, next_e4.value)"
   ]
  },
  {
   "cell_type": "markdown",
   "id": "2d15ba5c",
   "metadata": {},
   "source": [
    "# Verification \n",
    "\n",
    "Q output holds data from D only when clock is on.  When clock is off, Q retains data from D. Qb outputs complement of Q."
   ]
  }
 ],
 "metadata": {
  "kernelspec": {
   "display_name": "Python 3",
   "language": "python",
   "name": "python3"
  },
  "language_info": {
   "codemirror_mode": {
    "name": "ipython",
    "version": 3
   },
   "file_extension": ".py",
   "mimetype": "text/x-python",
   "name": "python",
   "nbconvert_exporter": "python",
   "pygments_lexer": "ipython3",
   "version": "3.7.11"
  }
 },
 "nbformat": 4,
 "nbformat_minor": 5
}
