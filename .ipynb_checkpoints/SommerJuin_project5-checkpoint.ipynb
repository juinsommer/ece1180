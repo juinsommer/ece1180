{
 "cells": [
  {
   "cell_type": "code",
   "execution_count": 1,
   "id": "b09ffcc5",
   "metadata": {
    "scrolled": true
   },
   "outputs": [
    {
     "data": {
      "text/html": [
       "<div id=\"glowscript\" class=\"glowscript\"></div>"
      ],
      "text/plain": [
       "<IPython.core.display.HTML object>"
      ]
     },
     "metadata": {},
     "output_type": "display_data"
    },
    {
     "data": {
      "application/javascript": [
       "if (typeof Jupyter !== \"undefined\") { window.__context = { glowscript_container: $(\"#glowscript\").removeAttr(\"id\")};}else{ element.textContent = ' ';}"
      ],
      "text/plain": [
       "<IPython.core.display.Javascript object>"
      ]
     },
     "metadata": {},
     "output_type": "display_data"
    }
   ],
   "source": [
    "from vpython import*\n",
    "from queue import PriorityQueue"
   ]
  },
  {
   "cell_type": "code",
   "execution_count": 2,
   "id": "02865a21",
   "metadata": {
    "scrolled": true
   },
   "outputs": [
    {
     "data": {
      "text/html": [
       "<div id=\"glowscript\" class=\"glowscript\"></div>"
      ],
      "text/plain": [
       "<IPython.core.display.HTML object>"
      ]
     },
     "metadata": {},
     "output_type": "display_data"
    },
    {
     "data": {
      "application/javascript": [
       "if (typeof Jupyter !== \"undefined\") { window.__context = { glowscript_container: $(\"#glowscript\").removeAttr(\"id\")};}else{ element.textContent = ' ';}"
      ],
      "text/plain": [
       "<IPython.core.display.Javascript object>"
      ]
     },
     "metadata": {},
     "output_type": "display_data"
    }
   ],
   "source": [
    "scene1 = canvas()"
   ]
  },
  {
   "cell_type": "code",
   "execution_count": 21,
   "id": "9683f01c",
   "metadata": {},
   "outputs": [],
   "source": [
    "netsID = 0\n",
    "\n",
    "class Net:\n",
    "    def __init__(self, driver, instance, time=0, on=0):\n",
    "        self.value = None\n",
    "        self.instance = instance\n",
    "        self.driver = driver\n",
    "        self.receivers = []\n",
    "        self.on = on \n",
    "\n",
    "    def connect(self, inputs):\n",
    "        if not isinstance(inputs, list):\n",
    "            inputs = [inputs]\n",
    "            \n",
    "        for input in inputs:\n",
    "            self.receivers.append(input)\n",
    "\n",
    "    def set(self, value):\n",
    "        if self.value == value:\n",
    "            return \n",
    "        \n",
    "        self.value = value\n",
    "        \n",
    "        if self.on:\n",
    "            self.driver.evaluate()\n",
    "            \n",
    "        for c in self.receivers:\n",
    "            c.set(value)\n",
    "        \n",
    "class Logic:\n",
    "    def __init__(self, name):\n",
    "        self.name = name\n",
    "\n",
    "    def evaluate(self):\n",
    "        return\n",
    "\n",
    "class Gate(Logic):        \n",
    "    def __init__(self, name, instance, delay):\n",
    "        Logic.__init__(self, name)\n",
    "        self.instance = instance\n",
    "        self.A = Net(self, instance, delay=0, on=1)\n",
    "        self.B = Net(self, instance+1, delay=0, on=1)\n",
    "        self.C = Net(self, instance+2, delay=delay, on=1)\n",
    "\n",
    "class Nand(Gate):       \n",
    "    def __init__(self, name, instance):\n",
    "        Gate.__init__(self, name, instance, 1)\n",
    "        \n",
    "    def evaluate(self):\n",
    "        result = not(self.A.value and self.B.value)\n",
    "        self.C.set(result)\n",
    "        \n",
    "class Nor(Gate):         \n",
    "    def __init__(self, name, instance):\n",
    "        Gate.__init__(self, name, instance, 1)\n",
    "\n",
    "    def evaluate(self):\n",
    "        result = not(self.A.value and self.B.value)\n",
    "        self.C.set(result)\n",
    "        \n",
    "class Event:\n",
    "    def __init__(self, net, t):\n",
    "        self.instance = net.instance # net ID\n",
    "        self.value = net.value # value/state of net\n",
    "        self.time = net.delay + t # time of event\n",
    "        \n",
    "    def __lt__(self, other): return self.time < other.time\n",
    "    \n",
    "    def __le__(self, other): return self.time <= other.time\n",
    "        \n",
    "    def __eq__(self, other): return self.time == other.time\n",
    "    \n",
    "    def __gt__(self, other): return self.time > other.time\n",
    "    \n",
    "    def __ge__(self, other): return self.time >= other.time\n",
    "        \n",
    "    \n",
    "        \n",
    "def set_input(gate, a, b):\n",
    "    gate.A.set(a)\n",
    "    gate.B.set(b)"
   ]
  },
  {
   "cell_type": "code",
   "execution_count": 18,
   "id": "94dca3f2",
   "metadata": {},
   "outputs": [
    {
     "name": "stdout",
     "output_type": "stream",
     "text": [
      "3\n"
     ]
    }
   ],
   "source": [
    "t = 0\n",
    "truth_values = [(0,0), (0,1), (1,0), (1,1)]\n",
    "\n",
    "event_q = PriorityQueue()\n",
    "\n",
    "nand1 = Nand('nand1', 1)\n",
    "nand2 = Nand('nand2', 2)\n",
    "\n",
    "nor = Nor('nor1', 3)\n",
    "nand1.C.connect([nor.A])\n",
    "nand2.C.connect([nor.B])\n",
    "\n",
    "for i in range(4):\n",
    "    a,b = truth_values[i]\n",
    "    set_input(nand1, a, b)\n",
    "    set_input(nand2, a, b)\n",
    "\n",
    "event_0 = Event(nand1.C, t)\n",
    "event_1 = Event(nand2.C, t)\n",
    "event_q.put(event_0)\n",
    "event_q.put(event_1)\n",
    "\n",
    "\n"
   ]
  },
  {
   "cell_type": "code",
   "execution_count": null,
   "id": "32a817e5",
   "metadata": {},
   "outputs": [],
   "source": [
    "while not event_q.empty():\n",
    "    \n",
    "    # get next event\n",
    "    event = event_q.get()\n",
    "    \n",
    "    # update time\n",
    "    t = event.time\n",
    "    \n",
    "    # update_net(event)\n",
    "    \n",
    "    \n",
    "    # post new event\n",
    "    event_q.put(event)\n",
    "    \n",
    "    \n",
    "    # update visualization"
   ]
  },
  {
   "cell_type": "code",
   "execution_count": 5,
   "id": "074f024f",
   "metadata": {},
   "outputs": [
    {
     "data": {
      "text/html": [
       "<div id=\"glowscript\" class=\"glowscript\"></div>"
      ],
      "text/plain": [
       "<IPython.core.display.HTML object>"
      ]
     },
     "metadata": {},
     "output_type": "display_data"
    },
    {
     "data": {
      "application/javascript": [
       "if (typeof Jupyter !== \"undefined\") { window.__context = { glowscript_container: $(\"#glowscript\").removeAttr(\"id\")};}else{ element.textContent = ' ';}"
      ],
      "text/plain": [
       "<IPython.core.display.Javascript object>"
      ]
     },
     "metadata": {},
     "output_type": "display_data"
    }
   ],
   "source": [
    "scene2 = canvas()"
   ]
  },
  {
   "cell_type": "code",
   "execution_count": 6,
   "id": "9959df02",
   "metadata": {},
   "outputs": [
    {
     "data": {
      "application/javascript": [
       "if (typeof Jupyter !== \"undefined\") {require.undef(\"nbextensions/vpython_libraries/glow.min\");}else{element.textContent = ' ';}"
      ],
      "text/plain": [
       "<IPython.core.display.Javascript object>"
      ]
     },
     "metadata": {},
     "output_type": "display_data"
    },
    {
     "data": {
      "application/javascript": [
       "if (typeof Jupyter !== \"undefined\") {require.undef(\"nbextensions/vpython_libraries/glowcomm\");}else{element.textContent = ' ';}"
      ],
      "text/plain": [
       "<IPython.core.display.Javascript object>"
      ]
     },
     "metadata": {},
     "output_type": "display_data"
    },
    {
     "data": {
      "application/javascript": [
       "if (typeof Jupyter !== \"undefined\") {require.undef(\"nbextensions/vpython_libraries/jquery-ui.custom.min\");}else{element.textContent = ' ';}"
      ],
      "text/plain": [
       "<IPython.core.display.Javascript object>"
      ]
     },
     "metadata": {},
     "output_type": "display_data"
    },
    {
     "data": {
      "application/javascript": [
       "if (typeof Jupyter !== \"undefined\") {require([\"nbextensions/vpython_libraries/glow.min\"], function(){console.log(\"GLOW LOADED\");});}else{element.textContent = ' ';}"
      ],
      "text/plain": [
       "<IPython.core.display.Javascript object>"
      ]
     },
     "metadata": {},
     "output_type": "display_data"
    },
    {
     "data": {
      "application/javascript": [
       "if (typeof Jupyter !== \"undefined\") {require([\"nbextensions/vpython_libraries/glowcomm\"], function(){console.log(\"GLOWCOMM LOADED\");});}else{element.textContent = ' ';}"
      ],
      "text/plain": [
       "<IPython.core.display.Javascript object>"
      ]
     },
     "metadata": {},
     "output_type": "display_data"
    },
    {
     "data": {
      "application/javascript": [
       "if (typeof Jupyter !== \"undefined\") {require([\"nbextensions/vpython_libraries/jquery-ui.custom.min\"], function(){console.log(\"JQUERY LOADED\");});}else{element.textContent = ' ';}"
      ],
      "text/plain": [
       "<IPython.core.display.Javascript object>"
      ]
     },
     "metadata": {},
     "output_type": "display_data"
    },
    {
     "ename": "IndexError",
     "evalue": "list index out of range",
     "output_type": "error",
     "traceback": [
      "\u001b[0;31m---------------------------------------------------------------------------\u001b[0m",
      "\u001b[0;31mIndexError\u001b[0m                                Traceback (most recent call last)",
      "\u001b[0;32m<ipython-input-6-9bffd0d5f639>\u001b[0m in \u001b[0;36m<module>\u001b[0;34m\u001b[0m\n\u001b[1;32m     12\u001b[0m \u001b[0;32mfor\u001b[0m \u001b[0mi\u001b[0m \u001b[0;32min\u001b[0m \u001b[0mrange\u001b[0m\u001b[0;34m(\u001b[0m\u001b[0;36m40\u001b[0m\u001b[0;34m)\u001b[0m\u001b[0;34m:\u001b[0m\u001b[0;34m\u001b[0m\u001b[0;34m\u001b[0m\u001b[0m\n\u001b[1;32m     13\u001b[0m     \u001b[0mrate\u001b[0m\u001b[0;34m(\u001b[0m\u001b[0;36m1\u001b[0m\u001b[0;34m)\u001b[0m\u001b[0;34m\u001b[0m\u001b[0;34m\u001b[0m\u001b[0m\n\u001b[0;32m---> 14\u001b[0;31m     \u001b[0ma\u001b[0m\u001b[0;34m,\u001b[0m\u001b[0mb\u001b[0m \u001b[0;34m=\u001b[0m \u001b[0mtruth_values\u001b[0m\u001b[0;34m[\u001b[0m\u001b[0mi\u001b[0m\u001b[0;34m]\u001b[0m\u001b[0;34m\u001b[0m\u001b[0;34m\u001b[0m\u001b[0m\n\u001b[0m\u001b[1;32m     15\u001b[0m     \u001b[0msetInputs\u001b[0m\u001b[0;34m(\u001b[0m\u001b[0mnand\u001b[0m\u001b[0;34m,\u001b[0m \u001b[0ma\u001b[0m\u001b[0;34m,\u001b[0m \u001b[0mb\u001b[0m\u001b[0;34m)\u001b[0m\u001b[0;34m\u001b[0m\u001b[0;34m\u001b[0m\u001b[0m\n\u001b[1;32m     16\u001b[0m     \u001b[0mgate1\u001b[0m\u001b[0;34m.\u001b[0m\u001b[0mplot\u001b[0m\u001b[0;34m(\u001b[0m\u001b[0mt\u001b[0m\u001b[0;34m[\u001b[0m\u001b[0mi\u001b[0m\u001b[0;34m]\u001b[0m\u001b[0;34m,\u001b[0m \u001b[0mnand\u001b[0m\u001b[0;34m.\u001b[0m\u001b[0mC\u001b[0m\u001b[0;34m.\u001b[0m\u001b[0mvalue\u001b[0m\u001b[0;34m)\u001b[0m\u001b[0;34m\u001b[0m\u001b[0;34m\u001b[0m\u001b[0m\n",
      "\u001b[0;31mIndexError\u001b[0m: list index out of range"
     ]
    }
   ],
   "source": [
    "\n",
    "\n",
    "gate_graph = graph(title=\"Nand Gate\", xtitle='time', ytitle='value', fast=False, width=800)\n",
    "gate1 = gcurve(color=color.blue, width=4, markers=True, marker_color=color.black, label='nand1')\n",
    "\n",
    "\n",
    "\n",
    "    gate1.plot(t[i], nand.C.value)"
   ]
  }
 ],
 "metadata": {
  "kernelspec": {
   "display_name": "Python 3",
   "language": "python",
   "name": "python3"
  },
  "language_info": {
   "codemirror_mode": {
    "name": "ipython",
    "version": 3
   },
   "file_extension": ".py",
   "mimetype": "text/x-python",
   "name": "python",
   "nbconvert_exporter": "python",
   "pygments_lexer": "ipython3",
   "version": "3.7.11"
  }
 },
 "nbformat": 4,
 "nbformat_minor": 5
}
