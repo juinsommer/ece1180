{
 "cells": [
  {
   "cell_type": "code",
   "execution_count": 1,
   "id": "b09ffcc5",
   "metadata": {
    "scrolled": false
   },
   "outputs": [
    {
     "data": {
      "text/html": [
       "<div id=\"glowscript\" class=\"glowscript\"></div>"
      ],
      "text/plain": [
       "<IPython.core.display.HTML object>"
      ]
     },
     "metadata": {},
     "output_type": "display_data"
    },
    {
     "data": {
      "application/javascript": [
       "if (typeof Jupyter !== \"undefined\") { window.__context = { glowscript_container: $(\"#glowscript\").removeAttr(\"id\")};}else{ element.textContent = ' ';}"
      ],
      "text/plain": [
       "<IPython.core.display.Javascript object>"
      ]
     },
     "metadata": {},
     "output_type": "display_data"
    }
   ],
   "source": [
    "from vpython import*\n",
    "from queue import PriorityQueue"
   ]
  },
  {
   "cell_type": "code",
   "execution_count": 2,
   "id": "9683f01c",
   "metadata": {},
   "outputs": [],
   "source": [
    "clock = 0\n",
    "\n",
    "class Net:\n",
    "    def __init__(self, driver, instance, time, on=0):\n",
    "        self.value = None\n",
    "        self.instance = instance\n",
    "        self.driver = driver\n",
    "        self.receivers = []\n",
    "        self.on = on \n",
    "        self.time = time\n",
    "\n",
    "    def connect(self, inputs):\n",
    "        if not isinstance(inputs, list):\n",
    "            inputs = [inputs]\n",
    "            \n",
    "        for input in inputs:\n",
    "            self.receivers.append(input)\n",
    "\n",
    "    def set(self, value):\n",
    "        if self.value == value:\n",
    "            return \n",
    "        \n",
    "        self.value = value\n",
    "        \n",
    "        if self.on:\n",
    "            self.driver.evaluate()\n",
    "            \n",
    "        for c in self.receivers:\n",
    "            c.set(value)\n",
    "        \n",
    "class Logic:\n",
    "    def __init__(self, name):\n",
    "        self.name = name\n",
    "\n",
    "    def evaluate(self):\n",
    "        return\n",
    "\n",
    "class Gate(Logic):        \n",
    "    def __init__(self, name, instance, delay):\n",
    "        Logic.__init__(self, name)\n",
    "        self.instance = instance\n",
    "        self.A = Net(self, 0, time=0, on=1)\n",
    "        self.B = Net(self, 1, time=0, on=1)\n",
    "        self.C = Net(self, 2, time=delay, on=1)\n",
    "        \n",
    "        \n",
    "class Nand(Gate):       \n",
    "    def __init__(self, name, instance):\n",
    "        Gate.__init__(self, name, instance, 1)\n",
    "        \n",
    "    def evaluate(self):\n",
    "        result = not(self.A.value and self.B.value)\n",
    "        self.C.set(int(result))\n",
    "        \n",
    "class Nor(Gate):         \n",
    "    def __init__(self, name, instance):\n",
    "        Gate.__init__(self, name, instance, 1)\n",
    "\n",
    "    def evaluate(self):\n",
    "        result = not(self.A.value and self.B.value)\n",
    "        self.C.set(int(result))\n",
    "        \n",
    "class Not(Logic):     \n",
    "    def __init__(self, name, instance, delay):\n",
    "        Logic.__init__(self, name)\n",
    "        self.instance = instance\n",
    "        self.A = Net(self, 0, time=0, on=1)\n",
    "        self.B = Net(self, 2, time=delay)\n",
    "\n",
    "    def evaluate(self):\n",
    "        self.B.set(not self.A.value)\n",
    "        \n",
    "class Event:\n",
    "    \n",
    "    def __init__(self, net, t):\n",
    "        self.instance = net \n",
    "        self.value = net.value \n",
    "        self.time = net.time + t\n",
    "        self.type = net.instance\n",
    "        \n",
    "    def __lt__(self, other): return self.time < other.time\n",
    "    \n",
    "    def __le__(self, other): return self.time <= other.time\n",
    "        \n",
    "    def __eq__(self, other): return self.time == other.time\n",
    "    \n",
    "    def __gt__(self, other): return self.time > other.time\n",
    "    \n",
    "    def __ge__(self, other): return self.time >= other.time\n",
    "        \n",
    "    \n",
    "        \n",
    "def set_input(gate, a, b):\n",
    "    gate.A.set(a)\n",
    "    gate.B.set(b)\n",
    "    \n",
    "def update_net(gate, input_values, index):\n",
    "    a,b = input_values[index]\n",
    "    set_input(gate, a, b)\n",
    "    \n",
    "def get_event(eq1, eq2, eq3):\n",
    "    e1 = eq1.get()\n",
    "    e2 = eq2.get()\n",
    "    e3 = eq3.get()\n",
    "    \n",
    "    return e1, e2, e3"
   ]
  },
  {
   "cell_type": "code",
   "execution_count": 3,
   "id": "94dca3f2",
   "metadata": {},
   "outputs": [],
   "source": [
    "t = 0\n",
    "truth_values = [(0,0), (0,1), (1,0), (1,1), (0,0), (0,1), (1,0), (1,1), (0,0), (0,1), (1,0), (1,1)]\n",
    "\n",
    "event_q1 = PriorityQueue()\n",
    "event_q2 = PriorityQueue()\n",
    "event_q3 = PriorityQueue()\n",
    "\n",
    "nand = Nand('nand', 0)\n",
    "\n",
    "update_net(nand, truth_values, 0)\n",
    "\n",
    "e1 = Event(nand.A, t)\n",
    "e2 = Event(nand.B, t)\n",
    "e3 = Event(nand.C, t - 1)\n",
    "\n",
    "event_q1.put(e1)\n",
    "event_q2.put(e2)\n",
    "event_q3.put(e3)\n"
   ]
  },
  {
   "cell_type": "markdown",
   "id": "fbbcc6fa",
   "metadata": {},
   "source": [
    "# Verification of NAND nets (inputs and output)"
   ]
  },
  {
   "cell_type": "code",
   "execution_count": 3,
   "id": "c0f66624",
   "metadata": {
    "scrolled": true
   },
   "outputs": [
    {
     "data": {
      "text/html": [
       "<div id=\"glowscript\" class=\"glowscript\"></div>"
      ],
      "text/plain": [
       "<IPython.core.display.HTML object>"
      ]
     },
     "metadata": {},
     "output_type": "display_data"
    },
    {
     "data": {
      "application/javascript": [
       "if (typeof Jupyter !== \"undefined\") { window.__context = { glowscript_container: $(\"#glowscript\").removeAttr(\"id\")};}else{ element.textContent = ' ';}"
      ],
      "text/plain": [
       "<IPython.core.display.Javascript object>"
      ]
     },
     "metadata": {},
     "output_type": "display_data"
    }
   ],
   "source": [
    "scene2 = canvas()"
   ]
  },
  {
   "cell_type": "code",
   "execution_count": 3,
   "id": "32a817e5",
   "metadata": {},
   "outputs": [
    {
     "data": {
      "application/javascript": [
       "if (typeof Jupyter !== \"undefined\") {require.undef(\"nbextensions/vpython_libraries/glow.min\");}else{element.textContent = ' ';}"
      ],
      "text/plain": [
       "<IPython.core.display.Javascript object>"
      ]
     },
     "metadata": {},
     "output_type": "display_data"
    },
    {
     "data": {
      "application/javascript": [
       "if (typeof Jupyter !== \"undefined\") {require.undef(\"nbextensions/vpython_libraries/glowcomm\");}else{element.textContent = ' ';}"
      ],
      "text/plain": [
       "<IPython.core.display.Javascript object>"
      ]
     },
     "metadata": {},
     "output_type": "display_data"
    },
    {
     "data": {
      "application/javascript": [
       "if (typeof Jupyter !== \"undefined\") {require.undef(\"nbextensions/vpython_libraries/jquery-ui.custom.min\");}else{element.textContent = ' ';}"
      ],
      "text/plain": [
       "<IPython.core.display.Javascript object>"
      ]
     },
     "metadata": {},
     "output_type": "display_data"
    },
    {
     "data": {
      "application/javascript": [
       "if (typeof Jupyter !== \"undefined\") {require([\"nbextensions/vpython_libraries/glow.min\"], function(){console.log(\"GLOW LOADED\");});}else{element.textContent = ' ';}"
      ],
      "text/plain": [
       "<IPython.core.display.Javascript object>"
      ]
     },
     "metadata": {},
     "output_type": "display_data"
    },
    {
     "data": {
      "application/javascript": [
       "if (typeof Jupyter !== \"undefined\") {require([\"nbextensions/vpython_libraries/glowcomm\"], function(){console.log(\"GLOWCOMM LOADED\");});}else{element.textContent = ' ';}"
      ],
      "text/plain": [
       "<IPython.core.display.Javascript object>"
      ]
     },
     "metadata": {},
     "output_type": "display_data"
    },
    {
     "data": {
      "application/javascript": [
       "if (typeof Jupyter !== \"undefined\") {require([\"nbextensions/vpython_libraries/jquery-ui.custom.min\"], function(){console.log(\"JQUERY LOADED\");});}else{element.textContent = ' ';}"
      ],
      "text/plain": [
       "<IPython.core.display.Javascript object>"
      ]
     },
     "metadata": {},
     "output_type": "display_data"
    },
    {
     "ename": "NameError",
     "evalue": "name 'event_q1' is not defined",
     "output_type": "error",
     "traceback": [
      "\u001b[0;31m---------------------------------------------------------------------------\u001b[0m",
      "\u001b[0;31mNameError\u001b[0m                                 Traceback (most recent call last)",
      "\u001b[0;32m<ipython-input-3-618f9eebcdba>\u001b[0m in \u001b[0;36m<module>\u001b[0;34m\u001b[0m\n\u001b[1;32m      7\u001b[0m \u001b[0;34m\u001b[0m\u001b[0m\n\u001b[1;32m      8\u001b[0m \u001b[0mindex\u001b[0m \u001b[0;34m=\u001b[0m \u001b[0;36m1\u001b[0m\u001b[0;34m\u001b[0m\u001b[0;34m\u001b[0m\u001b[0m\n\u001b[0;32m----> 9\u001b[0;31m \u001b[0;32mwhile\u001b[0m \u001b[0;32mnot\u001b[0m \u001b[0;34m(\u001b[0m\u001b[0mevent_q1\u001b[0m\u001b[0;34m.\u001b[0m\u001b[0mempty\u001b[0m\u001b[0;34m(\u001b[0m\u001b[0;34m)\u001b[0m \u001b[0;32mand\u001b[0m \u001b[0mevent_q2\u001b[0m\u001b[0;34m.\u001b[0m\u001b[0mempty\u001b[0m\u001b[0;34m(\u001b[0m\u001b[0;34m)\u001b[0m \u001b[0;32mand\u001b[0m \u001b[0mevent_q3\u001b[0m\u001b[0;34m.\u001b[0m\u001b[0mempty\u001b[0m\u001b[0;34m(\u001b[0m\u001b[0;34m)\u001b[0m\u001b[0;34m)\u001b[0m\u001b[0;34m:\u001b[0m\u001b[0;34m\u001b[0m\u001b[0;34m\u001b[0m\u001b[0m\n\u001b[0m\u001b[1;32m     10\u001b[0m     \u001b[0;31m# get next event\u001b[0m\u001b[0;34m\u001b[0m\u001b[0;34m\u001b[0m\u001b[0;34m\u001b[0m\u001b[0m\n\u001b[1;32m     11\u001b[0m     \u001b[0mevent1\u001b[0m\u001b[0;34m,\u001b[0m \u001b[0mevent2\u001b[0m\u001b[0;34m,\u001b[0m \u001b[0mevent3\u001b[0m \u001b[0;34m=\u001b[0m \u001b[0mget_event\u001b[0m\u001b[0;34m(\u001b[0m\u001b[0mevent_q1\u001b[0m\u001b[0;34m,\u001b[0m \u001b[0mevent_q2\u001b[0m\u001b[0;34m,\u001b[0m \u001b[0mevent_q3\u001b[0m\u001b[0;34m)\u001b[0m\u001b[0;34m\u001b[0m\u001b[0;34m\u001b[0m\u001b[0m\n",
      "\u001b[0;31mNameError\u001b[0m: name 'event_q1' is not defined"
     ]
    }
   ],
   "source": [
    "g1 = graph(title=\"net1\", xtitle='time', ytitle='value', fast=False, width=800)\n",
    "g2 = graph(title=\"net2\", xtitle='time', ytitle='value', fast=False, width=800)\n",
    "g3 = graph(title=\"net3\", xtitle='time', ytitle='value', fast=False, width=800)\n",
    "net1 = gcurve(graph=g1, color=color.blue, width=4, markers=True, marker_color=color.black, label='net1')\n",
    "net2 = gcurve(graph=g2, color=color.yellow, width=4, markers=True, marker_color=color.black, label='net2')\n",
    "net3 = gcurve(graph=g3, color=color.red, width=4, markers=True, marker_color=color.black, label='nand1')\n",
    "\n",
    "index = 1\n",
    "while not (event_q1.empty() and event_q2.empty() and event_q3.empty()):\n",
    "    # get next event\n",
    "    event1, event2, event3 = get_event(event_q1, event_q2, event_q3)\n",
    "    \n",
    "    # update time\n",
    "    t += event3.time - clock\n",
    "    clock = t\n",
    "    \n",
    "    net1.plot(clock, event1.value)\n",
    "    net2.plot(clock, event2.value)\n",
    "    net3.plot(clock, event3.value)\n",
    "    \n",
    "    \n",
    "    if index < len(truth_values):\n",
    "        # update_net(event)\n",
    "        update_net(nand, truth_values, index)\n",
    "        index += 1\n",
    "        \n",
    "        next_event1 = Event(event1.instance, clock)\n",
    "        next_event2 = Event(event2.instance, clock)\n",
    "        next_event3 = Event(event3.instance, clock)\n",
    "        \n",
    "        # post new event\n",
    "        event_q1.put(next_event1)\n",
    "        event_q2.put(next_event2)\n",
    "        event_q3.put(next_event3)\n",
    "\n",
    "        # update visualization\n",
    "        net1.plot(clock, next_event1.value)\n",
    "        net2.plot(clock, next_event2.value)\n",
    "        net3.plot(clock, next_event3.value)"
   ]
  },
  {
   "cell_type": "markdown",
   "id": "5cfb995e",
   "metadata": {},
   "source": [
    "# NAND-Gate D Latch"
   ]
  },
  {
   "cell_type": "code",
   "execution_count": 4,
   "id": "4be377bd",
   "metadata": {},
   "outputs": [
    {
     "name": "stdout",
     "output_type": "stream",
     "text": [
      "0\n"
     ]
    }
   ],
   "source": [
    "clk = 0\n",
    "sysClk = 0\n",
    "\n",
    "clock_values = [0,1,0,1,0,1,0,1,0,1,0]\n",
    "data_values = [1,1,1,0,0,0,0,0,0,0,0]\n",
    "\n",
    "nand1 = Nand('nand1_S', 0)\n",
    "nand2 = Nand('nand2_R', 1)\n",
    "nand3 = Nand('nand3_Q', 2)\n",
    "nand4 = Nand('nand4_Qb', 3)\n",
    "not1 = Not('not1', 0, .5)\n",
    "\n",
    "nand1.B.connect([nand2.A])\n",
    "nand2.B.connect([not1.B])\n",
    "not1.A.connect([nand1.A])\n",
    "nand1.C.connect([nand3.A])\n",
    "nand4.C.connect([nand3.B])\n",
    "nand2.C.connect([nand4.B])\n",
    "nand3.C.connect([nand4.A])\n",
    "\n",
    "nand1.A.set(data_values[0])\n",
    "nand1.B.set(clock_values[0])\n",
    "\n",
    "eq_Q = PriorityQueue()\n",
    "eq_Qb = PriorityQueue()\n",
    "eq_D = PriorityQueue()\n",
    "eq_clk = PriorityQueue()\n",
    "\n",
    "ev_D = Event(nand1.A, clk)\n",
    "ev_clk = Event(nand1.B, clk)\n",
    "ev_Q = Event(nand4.A, clk)\n",
    "ev_Qb = Event(nand3.B, clk)\n",
    "\n",
    "eq_Q.put(ev_Q)\n",
    "eq_Qb.put(ev_Qb)\n",
    "eq_D.put(ev_D)\n",
    "eq_clk.put(ev_clk)\n",
    "\n"
   ]
  },
  {
   "cell_type": "code",
   "execution_count": 5,
   "id": "1321c5d7",
   "metadata": {},
   "outputs": [
    {
     "data": {
      "text/html": [
       "<div id=\"glowscript\" class=\"glowscript\"></div>"
      ],
      "text/plain": [
       "<IPython.core.display.HTML object>"
      ]
     },
     "metadata": {},
     "output_type": "display_data"
    },
    {
     "data": {
      "application/javascript": [
       "if (typeof Jupyter !== \"undefined\") { window.__context = { glowscript_container: $(\"#glowscript\").removeAttr(\"id\")};}else{ element.textContent = ' ';}"
      ],
      "text/plain": [
       "<IPython.core.display.Javascript object>"
      ]
     },
     "metadata": {},
     "output_type": "display_data"
    }
   ],
   "source": [
    "scene3 = canvas()"
   ]
  },
  {
   "cell_type": "code",
   "execution_count": 6,
   "id": "08d4f902",
   "metadata": {},
   "outputs": [
    {
     "data": {
      "application/javascript": [
       "if (typeof Jupyter !== \"undefined\") {require.undef(\"nbextensions/vpython_libraries/glow.min\");}else{element.textContent = ' ';}"
      ],
      "text/plain": [
       "<IPython.core.display.Javascript object>"
      ]
     },
     "metadata": {},
     "output_type": "display_data"
    },
    {
     "data": {
      "application/javascript": [
       "if (typeof Jupyter !== \"undefined\") {require.undef(\"nbextensions/vpython_libraries/glowcomm\");}else{element.textContent = ' ';}"
      ],
      "text/plain": [
       "<IPython.core.display.Javascript object>"
      ]
     },
     "metadata": {},
     "output_type": "display_data"
    },
    {
     "data": {
      "application/javascript": [
       "if (typeof Jupyter !== \"undefined\") {require.undef(\"nbextensions/vpython_libraries/jquery-ui.custom.min\");}else{element.textContent = ' ';}"
      ],
      "text/plain": [
       "<IPython.core.display.Javascript object>"
      ]
     },
     "metadata": {},
     "output_type": "display_data"
    },
    {
     "data": {
      "application/javascript": [
       "if (typeof Jupyter !== \"undefined\") {require([\"nbextensions/vpython_libraries/glow.min\"], function(){console.log(\"GLOW LOADED\");});}else{element.textContent = ' ';}"
      ],
      "text/plain": [
       "<IPython.core.display.Javascript object>"
      ]
     },
     "metadata": {},
     "output_type": "display_data"
    },
    {
     "data": {
      "application/javascript": [
       "if (typeof Jupyter !== \"undefined\") {require([\"nbextensions/vpython_libraries/glowcomm\"], function(){console.log(\"GLOWCOMM LOADED\");});}else{element.textContent = ' ';}"
      ],
      "text/plain": [
       "<IPython.core.display.Javascript object>"
      ]
     },
     "metadata": {},
     "output_type": "display_data"
    },
    {
     "data": {
      "application/javascript": [
       "if (typeof Jupyter !== \"undefined\") {require([\"nbextensions/vpython_libraries/jquery-ui.custom.min\"], function(){console.log(\"JQUERY LOADED\");});}else{element.textContent = ' ';}"
      ],
      "text/plain": [
       "<IPython.core.display.Javascript object>"
      ]
     },
     "metadata": {},
     "output_type": "display_data"
    }
   ],
   "source": [
    "gr1 = graph(title=\"net1\", xtitle='time', ytitle='value', fast=False, width=800)\n",
    "gr2 = graph(title=\"net2\", xtitle='time', ytitle='value', fast=False, width=800)\n",
    "gr3 = graph(title=\"net3\", xtitle='time', ytitle='value', fast=False, width=800)\n",
    "gr4 = graph(title=\"net3\", xtitle='time', ytitle='value', fast=False, width=800)\n",
    "\n",
    "Q_g = gcurve(graph=gr1, color=color.blue, width=4, markers=True, marker_color=color.black, label='Q')\n",
    "Qb_g = gcurve(graph=gr2, color=color.yellow, width=4, markers=True, marker_color=color.black, label='Qb')\n",
    "D_g = gcurve(graph=gr3, color=color.red, width=4, markers=True, marker_color=color.black, label='Data')\n",
    "clk_g = gcurve(graph=gr4, color=color.red, width=4, markers=True, marker_color=color.black, label='Clk')\n",
    "\n",
    "i = 1\n",
    "while not eq_Q.empty():\n",
    "    # get next event\n",
    "    e1 = eq_Q.get()\n",
    "    e2 = eq_Qb.get()\n",
    "    e3 = eq_D.get()\n",
    "    e4 = eq_clk.get()\n",
    "    \n",
    "    # update time\n",
    "    clk += 1 - sysClk\n",
    "    sysClk = clk\n",
    "    \n",
    "    Q_g.plot(sysClk, e1.value)\n",
    "    Qb_g.plot(sysClk, e2.value)\n",
    "    D_g.plot(sysClk, e3.value)\n",
    "    clk_g.plot(sysClk, e4.value)\n",
    "    \n",
    "    if i < len(clock_values):\n",
    "        # update_net(event)\n",
    "        nand1.A.set(data_values[i])\n",
    "        nand1.B.set(clock_values[i])\n",
    "        i += 1\n",
    "        \n",
    "        next_e1 = Event(e1.instance, sysClk)\n",
    "        next_e2 = Event(e2.instance, sysClk)\n",
    "        next_e3 = Event(e3.instance, sysClk)\n",
    "        next_e4 = Event(e4.instance, sysClk)\n",
    "        \n",
    "        # post new event\n",
    "        eq_Q.put(next_e1)\n",
    "        eq_Qb.put(next_e2)\n",
    "        eq_D.put(next_e3)\n",
    "        eq_clk.put(next_e4)\n",
    "        \n",
    "        # update visualization\n",
    "        Q_g.plot(sysClk, next_e1.value)\n",
    "        Qb_g.plot(sysClk, next_e2.value)\n",
    "        D_g.plot(sysClk, next_e3.value)\n",
    "        clk_g.plot(sysClk, next_e4.value)"
   ]
  },
  {
   "cell_type": "code",
   "execution_count": null,
   "id": "c8d62f3c",
   "metadata": {},
   "outputs": [],
   "source": []
  }
 ],
 "metadata": {
  "kernelspec": {
   "display_name": "Python 3",
   "language": "python",
   "name": "python3"
  },
  "language_info": {
   "codemirror_mode": {
    "name": "ipython",
    "version": 3
   },
   "file_extension": ".py",
   "mimetype": "text/x-python",
   "name": "python",
   "nbconvert_exporter": "python",
   "pygments_lexer": "ipython3",
   "version": "3.7.11"
  }
 },
 "nbformat": 4,
 "nbformat_minor": 5
}
