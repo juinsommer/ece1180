{
 "cells": [
  {
   "cell_type": "code",
   "execution_count": 1,
   "id": "98ab8a62",
   "metadata": {},
   "outputs": [
    {
     "data": {
      "text/html": [
       "<div id=\"glowscript\" class=\"glowscript\"></div>"
      ],
      "text/plain": [
       "<IPython.core.display.HTML object>"
      ]
     },
     "metadata": {},
     "output_type": "display_data"
    },
    {
     "data": {
      "application/javascript": [
       "if (typeof Jupyter !== \"undefined\") { window.__context = { glowscript_container: $(\"#glowscript\").removeAttr(\"id\")};}else{ element.textContent = ' ';}"
      ],
      "text/plain": [
       "<IPython.core.display.Javascript object>"
      ]
     },
     "metadata": {},
     "output_type": "display_data"
    }
   ],
   "source": [
    "from vpython import*\n",
    "import matplotlib.pyplot as plt\n",
    "import matplotlib.animation as animation\n",
    "import numpy as np"
   ]
  },
  {
   "cell_type": "markdown",
   "id": "1537e5e2",
   "metadata": {},
   "source": [
    "# Random generator uniformity confirmation"
   ]
  },
  {
   "cell_type": "code",
   "execution_count": 2,
   "id": "1e476f21",
   "metadata": {
    "scrolled": true
   },
   "outputs": [
    {
     "data": {
      "image/png": "[encoded data removed]",
      "text/plain": [
       "<Figure size 432x288 with 1 Axes>"
      ]
     },
     "metadata": {
      "needs_background": "light"
     },
     "output_type": "display_data"
    }
   ],
   "source": [
    "x = 10000\n",
    "numList = []\n",
    "a = np.random.randint(10000, size=10000)\n",
    "\n",
    "[numList.append(i) for i in range(x)]\n",
    " \n",
    "plt.hist(a, bins = 100)\n",
    "\n",
    "plt.show()"
   ]
  },
  {
   "cell_type": "markdown",
   "id": "da583a86",
   "metadata": {},
   "source": [
    "# 1a.) Random Walker"
   ]
  },
  {
   "cell_type": "code",
   "execution_count": 3,
   "id": "4221a5a8",
   "metadata": {
    "scrolled": true
   },
   "outputs": [
    {
     "data": {
      "text/html": [
       "<div id=\"glowscript\" class=\"glowscript\"></div>"
      ],
      "text/plain": [
       "<IPython.core.display.HTML object>"
      ]
     },
     "metadata": {},
     "output_type": "display_data"
    },
    {
     "data": {
      "application/javascript": [
       "if (typeof Jupyter !== \"undefined\") { window.__context = { glowscript_container: $(\"#glowscript\").removeAttr(\"id\")};}else{ element.textContent = ' ';}"
      ],
      "text/plain": [
       "<IPython.core.display.Javascript object>"
      ]
     },
     "metadata": {},
     "output_type": "display_data"
    }
   ],
   "source": [
    "scene1 = canvas()"
   ]
  },
  {
   "cell_type": "code",
   "execution_count": 2,
   "id": "39f58119",
   "metadata": {},
   "outputs": [
    {
     "data": {
      "application/javascript": [
       "if (typeof Jupyter !== \"undefined\") {require.undef(\"nbextensions/vpython_libraries/glow.min\");}else{element.textContent = ' ';}"
      ],
      "text/plain": [
       "<IPython.core.display.Javascript object>"
      ]
     },
     "metadata": {},
     "output_type": "display_data"
    },
    {
     "data": {
      "application/javascript": [
       "if (typeof Jupyter !== \"undefined\") {require.undef(\"nbextensions/vpython_libraries/glowcomm\");}else{element.textContent = ' ';}"
      ],
      "text/plain": [
       "<IPython.core.display.Javascript object>"
      ]
     },
     "metadata": {},
     "output_type": "display_data"
    },
    {
     "data": {
      "application/javascript": [
       "if (typeof Jupyter !== \"undefined\") {require.undef(\"nbextensions/vpython_libraries/jquery-ui.custom.min\");}else{element.textContent = ' ';}"
      ],
      "text/plain": [
       "<IPython.core.display.Javascript object>"
      ]
     },
     "metadata": {},
     "output_type": "display_data"
    },
    {
     "data": {
      "application/javascript": [
       "if (typeof Jupyter !== \"undefined\") {require([\"nbextensions/vpython_libraries/glow.min\"], function(){console.log(\"GLOW LOADED\");});}else{element.textContent = ' ';}"
      ],
      "text/plain": [
       "<IPython.core.display.Javascript object>"
      ]
     },
     "metadata": {},
     "output_type": "display_data"
    },
    {
     "data": {
      "application/javascript": [
       "if (typeof Jupyter !== \"undefined\") {require([\"nbextensions/vpython_libraries/glowcomm\"], function(){console.log(\"GLOWCOMM LOADED\");});}else{element.textContent = ' ';}"
      ],
      "text/plain": [
       "<IPython.core.display.Javascript object>"
      ]
     },
     "metadata": {},
     "output_type": "display_data"
    },
    {
     "data": {
      "application/javascript": [
       "if (typeof Jupyter !== \"undefined\") {require([\"nbextensions/vpython_libraries/jquery-ui.custom.min\"], function(){console.log(\"JQUERY LOADED\");});}else{element.textContent = ' ';}"
      ],
      "text/plain": [
       "<IPython.core.display.Javascript object>"
      ]
     },
     "metadata": {},
     "output_type": "display_data"
    }
   ],
   "source": [
    "N = 10000 # number of samples \n",
    "t = 0\n",
    "dt = 100./N\n",
    "walker = sphere(pos=vector(0,0,0), make_trail=True)\n",
    "\n",
    "# function to move walker based on random values from [-1, 1]\n",
    "def walk(thing):\n",
    "    \n",
    "    positions = np.array([1, -1]) # set bounds of random values\n",
    "    direction = np.random.choice(positions, size=2) # returns an integer array of 2 values\n",
    "    \n",
    "    # walker's position is updated as a sum of its previous position and newly generated position\n",
    "    thing.pos += vector(direction[0], direction[1], 0) \n",
    "    \n",
    "    \n",
    "    return thing.pos"
   ]
  },
  {
   "cell_type": "code",
   "execution_count": 5,
   "id": "a2e8d2b8",
   "metadata": {},
   "outputs": [],
   "source": [
    "while(t <= N/1000):\n",
    "    rate(20)\n",
    "    walk(walker)\n",
    "    t += dt"
   ]
  },
  {
   "cell_type": "markdown",
   "id": "0ddaa38b",
   "metadata": {},
   "source": [
    "# Expected distance"
   ]
  },
  {
   "cell_type": "code",
   "execution_count": 4,
   "id": "b301ce52",
   "metadata": {},
   "outputs": [
    {
     "name": "stdout",
     "output_type": "stream",
     "text": [
      "Average Distance:  124.89632126346774\n",
      "Expected Disctance:  100.0\n"
     ]
    }
   ],
   "source": [
    "# no visualization\n",
    "iterations = 20 # number of interations to run \n",
    "deltaX = [] # list to store each iteration's last position\n",
    "dist = 0\n",
    "\n",
    "# function to run multiple iterations of walk\n",
    "def testRun(arr):\n",
    "    walker_temp = sphere(visible=False, pos=vector(0,0,0))\n",
    "    for j in range(N):\n",
    "        x = walk(walker_temp)\n",
    "        \n",
    "    arr.append(x)\n",
    "\n",
    "[testRun(deltaX) for i in range(iterations)]\n",
    "\n",
    "# add the magnitude of each vector \n",
    "for x in deltaX:\n",
    "    dist += mag(x)\n",
    "    \n",
    "avgDist = dist/iterations\n",
    "\n",
    "print(\"Average Distance: \", avgDist)\n",
    "print(\"Expected Disctance: \", sqrt(N))"
   ]
  },
  {
   "cell_type": "markdown",
   "id": "3d30b769",
   "metadata": {},
   "source": [
    "# 1D Cellular Automaton"
   ]
  },
  {
   "cell_type": "code",
   "execution_count": 5,
   "id": "8bb12e5b",
   "metadata": {},
   "outputs": [],
   "source": [
    "binary = np.array([[4], [2], [1]])\n",
    "\n",
    "def step(x, rule):\n",
    "    x_right = np.roll(x, 1)  \n",
    "    x_left = np.roll(x, -1)\n",
    "    y = np.vstack((x_right, x, x_left)).astype(np.int8) \n",
    "    z = np.sum(binary * y, axis=0).astype(np.int8)\n",
    "\n",
    "    return rule[7 - z]"
   ]
  },
  {
   "cell_type": "code",
   "execution_count": 13,
   "id": "4982dcd2",
   "metadata": {},
   "outputs": [],
   "source": [
    "def cellular_automaton(rule_number, size, steps,\n",
    "                       init_cond='random', impulse_pos='center'):\n",
    "    \n",
    "    assert 0 <= rule_number <= 255/*\n",
    "    assert init_cond in ['random', 'impulse']\n",
    "    assert impulse_pos in ['left', 'center', 'right']\n",
    "    \n",
    "    rule_binary_str = np.binary_repr(rule_number, width=8)\n",
    "    rule_binary = np.array([int(ch) for ch in rule_binary_str], dtype=np.int8)\n",
    "    x = np.zeros((steps, size), dtype=np.int8)\n",
    "    \n",
    "    if init_cond == 'random':  \n",
    "        x[0, :] = np.array(np.random.rand(size) < 0.5, dtype=np.int8)\n",
    "\n",
    "    if init_cond == 'impulse':\n",
    "        if impulse_pos == 'left':\n",
    "            x[0, 0] = 1\n",
    "        elif impulse_pos == 'right':\n",
    "            x[0, size - 1] = 1\n",
    "        else:\n",
    "            x[0, size // 2] = 1\n",
    "    \n",
    "    for i in range(steps - 1):\n",
    "        x[i + 1, :] = step(x[i, :], rule_binary)\n",
    "    \n",
    "    return x"
   ]
  },
  {
   "cell_type": "code",
   "execution_count": 14,
   "id": "5cf65e21",
   "metadata": {},
   "outputs": [
    {
     "name": "stderr",
     "output_type": "stream",
     "text": [
      "MovieWriter ffmpeg unavailable; using Pillow instead.\n"
     ]
    },
    {
     "data": {
      "image/png": "[encoded data removed]",
      "text/plain": [
       "<Figure size 720x720 with 1 Axes>"
      ]
     },
     "metadata": {
      "needs_background": "light"
     },
     "output_type": "display_data"
    }
   ],
   "source": [
    "rule = 129\n",
    "size = 100  \n",
    "steps = 500 \n",
    "init_cond='impulse' \n",
    "impulse_pos='center'\n",
    "\n",
    "x = cellular_automaton(rule, size, steps, init_cond, impulse_pos)\n",
    "\n",
    "steps_to_show = 100    \n",
    "frames = int(steps)  \n",
    "interval=50  \n",
    "\n",
    "fig = plt.figure(figsize=(10, 10))\n",
    "\n",
    "ax = plt.axes()\n",
    "ax.set_axis_off()\n",
    "\n",
    "def animate(i):\n",
    "    ax.clear()  \n",
    "    ax.set_axis_off()  \n",
    "    \n",
    "    Y = np.zeros((steps_to_show, size), dtype=np.int8)  \n",
    "    upper_boundary = (i + 1) * iterations_per_frame  \n",
    "    lower_boundary = 0 if upper_boundary <= steps_to_show else upper_boundary - steps_to_show \n",
    "    for t in range(lower_boundary, upper_boundary):  \n",
    "        Y[t - lower_boundary, :] = x[t, :]\n",
    "    \n",
    "    img = ax.imshow(Y, interpolation='none',cmap='RdPu')\n",
    "    return [img]\n",
    "    \n",
    "\n",
    "anim = animation.FuncAnimation(fig, animate, frames=frames, interval=50, blit=True)\n",
    "anim.save('elementary_cellular_automaton.gif') "
   ]
  },
  {
   "cell_type": "code",
   "execution_count": null,
   "id": "b2816e19",
   "metadata": {},
   "outputs": [],
   "source": []
  }
 ],
 "metadata": {
  "kernelspec": {
   "display_name": "Python 3",
   "language": "python",
   "name": "python3"
  },
  "language_info": {
   "codemirror_mode": {
    "name": "ipython",
    "version": 3
   },
   "file_extension": ".py",
   "mimetype": "text/x-python",
   "name": "python",
   "nbconvert_exporter": "python",
   "pygments_lexer": "ipython3",
   "version": "3.7.11"
  }
 },
 "nbformat": 4,
 "nbformat_minor": 5
}
