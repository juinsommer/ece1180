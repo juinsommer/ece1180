{
 "cells": [
  {
   "cell_type": "code",
   "execution_count": 1,
   "id": "e2fa2e31",
   "metadata": {
    "scrolled": true
   },
   "outputs": [
    {
     "data": {
      "text/html": [
       "<div id=\"glowscript\" class=\"glowscript\"></div>"
      ],
      "text/plain": [
       "<IPython.core.display.HTML object>"
      ]
     },
     "metadata": {},
     "output_type": "display_data"
    },
    {
     "data": {
      "application/javascript": [
       "if (typeof Jupyter !== \"undefined\") { window.__context = { glowscript_container: $(\"#glowscript\").removeAttr(\"id\")};}else{ element.textContent = ' ';}"
      ],
      "text/plain": [
       "<IPython.core.display.Javascript object>"
      ]
     },
     "metadata": {},
     "output_type": "display_data"
    }
   ],
   "source": [
    "from vpython import*\n",
    "import math\n",
    "import matplotlib.pyplot as plt\n",
    "%matplotlib inline\n",
    "\n",
    "# plot position vs time\n",
    "def plotH(x, y, i):\n",
    "    plt.plot(x,y,label=\"H\" + str(i + 1))\n",
    "    plt.xlabel(\"Time(s)\")\n",
    "    plt.legend()\n",
    "    \n",
    "# plot velocity vs time   \n",
    "def plotV(x, y, i):  \n",
    "    plt.plot(x, y, label=\"V\" + str(i + 1))\n",
    "    plt.xlabel(\"Time\")\n",
    "    plt.legend()\n",
    "\n",
    "# update ball velocity and position\n",
    "def updateBall():\n",
    "    ball.velocity.y = ball.velocity.y + g * dt\n",
    "    ball.pos = ball.pos + ball.velocity * dt\n",
    "\n",
    "g = -9.8"
   ]
  },
  {
   "cell_type": "markdown",
   "id": "0b4ec32d",
   "metadata": {},
   "source": [
    "# Comments for all simulations\n",
    "\n",
    "1. Time step *dt* is .01 with a *rate* of 100 to execute 100 times per 1 second\n",
    "2. Units are: seconds, $m/s$, $m/s^{2}$, kilograms, and meters\n",
    "3. $t_{0} = 0s$\n",
    "4. $g = 9.8 m/s^{2}$\n",
    "\n"
   ]
  },
  {
   "cell_type": "markdown",
   "id": "63ee4590",
   "metadata": {},
   "source": [
    "\n",
    "# a.) Ball falling at acceleration due to gravity\n",
    "\n",
    "**Assumptions**\n",
    "\n",
    "1. No external forces acting upon the ball.\n",
    "2. *Initial height* $h_{0}$ is 50m.\n",
    "3. Executed for 3.19s (time for ball to reach y = 0m)."
   ]
  },
  {
   "cell_type": "code",
   "execution_count": 2,
   "id": "fb1d4662",
   "metadata": {
    "scrolled": true
   },
   "outputs": [
    {
     "data": {
      "text/html": [
       "<div id=\"glowscript\" class=\"glowscript\"></div>"
      ],
      "text/plain": [
       "<IPython.core.display.HTML object>"
      ]
     },
     "metadata": {},
     "output_type": "display_data"
    },
    {
     "data": {
      "application/javascript": [
       "if (typeof Jupyter !== \"undefined\") { window.__context = { glowscript_container: $(\"#glowscript\").removeAttr(\"id\")};}else{ element.textContent = ' ';}"
      ],
      "text/plain": [
       "<IPython.core.display.Javascript object>"
      ]
     },
     "metadata": {},
     "output_type": "display_data"
    }
   ],
   "source": [
    "scene=canvas()"
   ]
  },
  {
   "cell_type": "code",
   "execution_count": 3,
   "id": "0471277f",
   "metadata": {},
   "outputs": [
    {
     "data": {
      "application/javascript": [
       "if (typeof Jupyter !== \"undefined\") {require.undef(\"nbextensions/vpython_libraries/glow.min\");}else{element.textContent = ' ';}"
      ],
      "text/plain": [
       "<IPython.core.display.Javascript object>"
      ]
     },
     "metadata": {},
     "output_type": "display_data"
    },
    {
     "data": {
      "application/javascript": [
       "if (typeof Jupyter !== \"undefined\") {require.undef(\"nbextensions/vpython_libraries/glowcomm\");}else{element.textContent = ' ';}"
      ],
      "text/plain": [
       "<IPython.core.display.Javascript object>"
      ]
     },
     "metadata": {},
     "output_type": "display_data"
    },
    {
     "data": {
      "application/javascript": [
       "if (typeof Jupyter !== \"undefined\") {require.undef(\"nbextensions/vpython_libraries/jquery-ui.custom.min\");}else{element.textContent = ' ';}"
      ],
      "text/plain": [
       "<IPython.core.display.Javascript object>"
      ]
     },
     "metadata": {},
     "output_type": "display_data"
    },
    {
     "data": {
      "application/javascript": [
       "if (typeof Jupyter !== \"undefined\") {require([\"nbextensions/vpython_libraries/glow.min\"], function(){console.log(\"GLOW LOADED\");});}else{element.textContent = ' ';}"
      ],
      "text/plain": [
       "<IPython.core.display.Javascript object>"
      ]
     },
     "metadata": {},
     "output_type": "display_data"
    },
    {
     "data": {
      "application/javascript": [
       "if (typeof Jupyter !== \"undefined\") {require([\"nbextensions/vpython_libraries/glowcomm\"], function(){console.log(\"GLOWCOMM LOADED\");});}else{element.textContent = ' ';}"
      ],
      "text/plain": [
       "<IPython.core.display.Javascript object>"
      ]
     },
     "metadata": {},
     "output_type": "display_data"
    },
    {
     "data": {
      "application/javascript": [
       "if (typeof Jupyter !== \"undefined\") {require([\"nbextensions/vpython_libraries/jquery-ui.custom.min\"], function(){console.log(\"JQUERY LOADED\");});}else{element.textContent = ' ';}"
      ],
      "text/plain": [
       "<IPython.core.display.Javascript object>"
      ]
     },
     "metadata": {},
     "output_type": "display_data"
    },
    {
     "data": {
      "text/plain": [
       "Text(0, 0.5, 'Velocity(m/s) or Height(m)')"
      ]
     },
     "execution_count": 3,
     "metadata": {},
     "output_type": "execute_result"
    },
    {
     "data": {
      "image/png": "[encoded data removed]",
      "text/plain": [
       "<Figure size 432x288 with 1 Axes>"
      ]
     },
     "metadata": {
      "needs_background": "light"
     },
     "output_type": "display_data"
    }
   ],
   "source": [
    "sphere(pos=vector(0,0,0),texture=\"https://i.imgur.com/1nVWbbd.jpg\",radius=125,shininess=1)\n",
    "scene.range = 50\n",
    "\n",
    "scene.camera.pos=vector(-45.8483, 66.8704, 59.0219)\n",
    "scene.camera.axis=vector(50.2367, -37.6691, -59.6432)\n",
    "\n",
    "ball = sphere(pos=vector(0,50,0), radius=1, color=color.yellow) #initial height is set to 50m\n",
    "ball.velocity=vector(0, 0, 0)\n",
    "floor = box(pos=vector(0, -1, 0), size=vector(10, 0.5, 10), color=color.red)\n",
    "\n",
    "# lists to store values of time, velocity, and position each timestep to graph\n",
    "vel = [] \n",
    "time = []\n",
    "pos = []\n",
    "\n",
    "dt = 0.01\n",
    "t = 0\n",
    "\n",
    "while (t < 3.19):\n",
    "    rate(100)\n",
    "    vel.append(abs(ball.velocity.y)) # update velocity list\n",
    "    time.append(t) # update time list\n",
    "    pos.append(ball.pos.y) # update position list\n",
    "    \n",
    "    # after 100 time steps ball's velocity increases 9.8m/s per 100 time steps\n",
    "    updateBall()\n",
    "    t += dt\n",
    "\n",
    "plotV(time, vel, 0)\n",
    "plotH(time, pos, 0)\n",
    "plt.ylabel(\"Velocity(m/s) or Height(m)\")\n"
   ]
  },
  {
   "cell_type": "markdown",
   "id": "702a0efc",
   "metadata": {},
   "source": [
    "# Results\n",
    "\n",
    "The line for velocity is linear with a slope of 9.8 which aligns with our expectations considering the slope on a velocity vs time graph represents acceleration.  The slope of the position as a function of time is non linear is consistent with our expectations considering that the ball's velocity is increasing an additional 9.8 $m/s$ every second."
   ]
  },
  {
   "cell_type": "markdown",
   "id": "bac3d86c",
   "metadata": {},
   "source": [
    "# b.) Ball bouncing \n",
    "\n",
    "**Assumptions**\n",
    "1. falling at acceleration due to gravity\n",
    "2. elastic collision\n",
    "3. initial height at y = 10m"
   ]
  },
  {
   "cell_type": "code",
   "execution_count": 4,
   "id": "d37eb9b7",
   "metadata": {
    "scrolled": true
   },
   "outputs": [
    {
     "data": {
      "text/html": [
       "<div id=\"glowscript\" class=\"glowscript\"></div>"
      ],
      "text/plain": [
       "<IPython.core.display.HTML object>"
      ]
     },
     "metadata": {},
     "output_type": "display_data"
    },
    {
     "data": {
      "application/javascript": [
       "if (typeof Jupyter !== \"undefined\") { window.__context = { glowscript_container: $(\"#glowscript\").removeAttr(\"id\")};}else{ element.textContent = ' ';}"
      ],
      "text/plain": [
       "<IPython.core.display.Javascript object>"
      ]
     },
     "metadata": {},
     "output_type": "display_data"
    }
   ],
   "source": [
    "scene2 = canvas(background=color.cyan)"
   ]
  },
  {
   "cell_type": "code",
   "execution_count": 5,
   "id": "fc5335e3",
   "metadata": {},
   "outputs": [
    {
     "data": {
      "image/png": "[encoded data removed]",
      "text/plain": [
       "<Figure size 432x288 with 1 Axes>"
      ]
     },
     "metadata": {
      "needs_background": "light"
     },
     "output_type": "display_data"
    }
   ],
   "source": [
    "scene2.camera.pos=vector(9.11524, 14.5809, 15.5572)\n",
    "scene2.camera.axis=vector(-9.11524, -14.5809, -15.5572)\n",
    "\n",
    "ball = sphere(pos=vector(0,10,0), radius=1, color=color.yellow)\n",
    "ball.velocity=vector(0, 0, 0)\n",
    "floor = box(pos=vector(0,0,0), size = vector(10,0.25,10), color=color.blue)\n",
    "\n",
    "t = 0\n",
    "dt = 0.01\n",
    "\n",
    "h = []\n",
    "time = []\n",
    "\n",
    "while t<10 :\n",
    "    rate(100)\n",
    "    h.append(ball.pos.y)\n",
    "    time.append(t)\n",
    "    \n",
    "    updateBall()\n",
    "    \n",
    "    if (ball.pos.y < floor.pos.y):\n",
    "        ball.velocity.y = -ball.velocity.y - g * dt # convert kinetic energy back to gravitational potential energy\n",
    "\n",
    "    t += dt\n",
    "    \n",
    "plotH(time, h, 0)"
   ]
  },
  {
   "cell_type": "markdown",
   "id": "83492893",
   "metadata": {},
   "source": [
    "# Results\n",
    "\n",
    "This simulation demonstrates conservation of energy, where the ball starts with gravitational potential energy, converts that into kinetic energy, and back into gravitational potential energy gradually as the ball bounces off the floor and returns to its original height; assuming no other forces are acting on the ball.  Verification was done by plotting the height with respect to time and observing that the ball returns to its initial height at each bounce."
   ]
  },
  {
   "cell_type": "markdown",
   "id": "d57ac8b7",
   "metadata": {},
   "source": [
    "\n",
    "# c.) Ball Launced from Cannon \n",
    "\n",
    "**Comments**\n",
    "1. $x = v_{0x}t$\n",
    "2. $y = v_{0y}t - 1/2gt^{2}$\n",
    "3. $R_{x} = \\frac{V^{2}sin(2\\theta)}{g}$\n",
    "4. $V = \\sqrt{v_{0x}^{2} + v_{0y}^{2}}$\n",
    "5. $h_{max} = \\frac{V^{2}sin(2\\theta)^{2}}{2g}$\n",
    "6. $t_{f} = \\frac{2Vsin(\\theta)}{g}$\n",
    "\n",
    "**Assumptions**\n",
    "1. Acceleration in Y direction is accerlation due to gravity.\n",
    "2. No external forces acting on the ball.\n",
    "3. $v_{x0}$ and $v_{y0}$ are 40$m/s$."
   ]
  },
  {
   "cell_type": "code",
   "execution_count": 6,
   "id": "a1d3776d",
   "metadata": {},
   "outputs": [
    {
     "data": {
      "text/html": [
       "<div id=\"glowscript\" class=\"glowscript\"></div>"
      ],
      "text/plain": [
       "<IPython.core.display.HTML object>"
      ]
     },
     "metadata": {},
     "output_type": "display_data"
    },
    {
     "data": {
      "application/javascript": [
       "if (typeof Jupyter !== \"undefined\") { window.__context = { glowscript_container: $(\"#glowscript\").removeAttr(\"id\")};}else{ element.textContent = ' ';}"
      ],
      "text/plain": [
       "<IPython.core.display.Javascript object>"
      ]
     },
     "metadata": {},
     "output_type": "display_data"
    }
   ],
   "source": [
    "scene3=canvas(title=\"Shooting Balls\")"
   ]
  },
  {
   "cell_type": "code",
   "execution_count": 7,
   "id": "52aeb071",
   "metadata": {},
   "outputs": [
    {
     "name": "stdout",
     "output_type": "stream",
     "text": [
      "Time: 8.16326530612245 s\n",
      "\n",
      "Range: 326.530612244898 m\n",
      "\n",
      "Max height: 163.265306122449 m\n",
      "\n"
     ]
    }
   ],
   "source": [
    "scene3.camera.pos=vector(349.885, 65.0822, 104.874)\n",
    "scene3.camera.axis=vector(-279.441, -152.656, -212.783)\n",
    "\n",
    "init_Vx = 40\n",
    "init_Vy = 40\n",
    "v_mag = sqrt(init_Vx**2 + init_Vy**2) # magnitude of velocity\n",
    "theta = atan(init_Vy / init_Vx) # angle of trajectory in radians\n",
    "rx = (v_mag**2 *sin(2*theta)) / 9.8 # x range of ball\n",
    "h = (v_mag**2 *(sin(2*theta)**2)) / 19.6 # max height of ball trajectory\n",
    "\n",
    "# create cannon\n",
    "cannon = extrusion(path=[vector(init_Vx/2, init_Vy/2, 0), vector(0, 0, 0)], pos=vector(0, 0, 0), \n",
    "                   shape=shapes.circle(pos=(0, 0), radius=4), color=color.blue)\n",
    "wheel1 = cylinder(pos=vector(-3, -5, 4), axis=vector(0,0,5), radius=8)\n",
    "wheel2 = cylinder(pos=vector(-3, -5, -9), axis=vector(0,0,5), radius=8)\n",
    "\n",
    "# floor's size is dependent on the range of ball calculated from initial velocities\n",
    "floor = box(pos=vector(0, -init_Vy/3, 0), size = vector(2*rx,1,rx/2), color=color.cyan)\n",
    "t = 0\n",
    "dt = 0.01\n",
    "\n",
    "# function to update ball's position every time step\n",
    "def position(t):\n",
    "    x = init_Vx * t # x = V_0x*t\n",
    "    y = init_Vy * t - 0.5 * 9.8 * t ** 2 # y = V_0y*t-(1/2)g*t^2\n",
    "    ball.pos = vector(x, y, 0)\n",
    "\n",
    "ball = sphere(pos=vector(0, 0, 0), radius=2.5, color=color.yellow, make_trail=True)\n",
    "\n",
    "endTime = (2 * v_mag * sin(theta)) / 9.8\n",
    "\n",
    "#run loop for duration of calculated time\n",
    "while t < endTime:\n",
    "    rate(100)\n",
    "    position(t)\n",
    "    t += dt\n",
    "        \n",
    "print(\"Time: \" + str(endTime) + \" s\\n\")\n",
    "print(\"Range: \" + str(rx) + \" m\\n\")\n",
    "print(\"Max height: \" + str(h) + \" m\\n\")\n",
    "    "
   ]
  },
  {
   "cell_type": "markdown",
   "id": "ab5bd712",
   "metadata": {},
   "source": [
    "# Results\n",
    "\n",
    "The basic principles of projectile motion are demonstrated in this simulation.  In this example where the angle of the cannon is $45^{\\circ}$ (The ratio of the initial velocity components is 1) is the maximum height in which the projectile can reach.  Verification of the accuracy for this simulation was done by comparing the program's calculated values for $t_{f}$, $R_{x}$, and $h_{max}$.  Other values for velocities were tested and also validated."
   ]
  },
  {
   "cell_type": "markdown",
   "id": "04a75f45",
   "metadata": {},
   "source": [
    "# d.) Ball falling at accerlation due to gravity\n",
    "\n",
    "**Assumptions**\n",
    "1. Same assumptions as a.).\n",
    "\n",
    "**Info**\n",
    "1. Simulation runs 3 times using different values for initial height (10m, 50m, and 100m).\n",
    "2. Each simulation is plotted as Velocity vs Time and Height vs Time.\n",
    "3. The maximum velocity is printed for each simulation.\n"
   ]
  },
  {
   "cell_type": "code",
   "execution_count": 8,
   "id": "b63eb520",
   "metadata": {},
   "outputs": [
    {
     "data": {
      "text/html": [
       "<div id=\"glowscript\" class=\"glowscript\"></div>"
      ],
      "text/plain": [
       "<IPython.core.display.HTML object>"
      ]
     },
     "metadata": {},
     "output_type": "display_data"
    },
    {
     "data": {
      "application/javascript": [
       "if (typeof Jupyter !== \"undefined\") { window.__context = { glowscript_container: $(\"#glowscript\").removeAttr(\"id\")};}else{ element.textContent = ' ';}"
      ],
      "text/plain": [
       "<IPython.core.display.Javascript object>"
      ]
     },
     "metadata": {},
     "output_type": "display_data"
    }
   ],
   "source": [
    "scene4=canvas()"
   ]
  },
  {
   "cell_type": "code",
   "execution_count": 9,
   "id": "74ed7e07",
   "metadata": {},
   "outputs": [
    {
     "name": "stdout",
     "output_type": "stream",
     "text": [
      "Max velocity 1: 13.916000000000038 m/s\n",
      "Max velocity 2: 31.261999999999894 m/s\n",
      "Max velocity 3: 44.19799999999976 m/s\n"
     ]
    },
    {
     "data": {
      "image/png": "[encoded data removed]",
      "text/plain": [
       "<Figure size 432x288 with 1 Axes>"
      ]
     },
     "metadata": {
      "needs_background": "light"
     },
     "output_type": "display_data"
    }
   ],
   "source": [
    "sphere(pos=vector(0,0,0),texture=\"https://i.imgur.com/1nVWbbd.jpg\",radius=250,shininess=1)\n",
    "scene4.range = 50\n",
    "\n",
    "\n",
    "h = [10, 50, 100]\n",
    "for i in range(3) :\n",
    "    ball = sphere(pos=vector(0, int(h[i]), 0), radius=1, color=color.yellow) #initial height is set to 50m\n",
    "    ball.velocity=vector(0, 0, 0)\n",
    "    floor = box(pos=vector(0, -1, 0), size=vector(10, 0.5, 10), color=color.red)\n",
    "    scene4.camera.follow(ball)\n",
    "    \n",
    "    dt = 0.01 \n",
    "    t = 0 \n",
    "\n",
    "    # lists to store values of time, velocity, and position each timestep to graph\n",
    "    vel = [] \n",
    "    time = []\n",
    "    pos = []\n",
    "\n",
    "    runTime = sqrt((2 * int(h[i])) / 9.8) # calculate time the ball takes to reach y = 0m\n",
    "\n",
    "    while (t < runTime):\n",
    "        rate(100)\n",
    "        vel.append(abs(ball.velocity.y)) # update velocity list\n",
    "        time.append(t) # update time list\n",
    "        pos.append(ball.pos.y) # update position list\n",
    "\n",
    "        updateBall()\n",
    "        t += dt\n",
    "        \n",
    "    maxVel = max(vel)\n",
    "    print(\"Max velocity \" + str(i + 1) + \": \" + str(maxVel) + \" m/s\")\n",
    "\n",
    "    plotV(time, vel, i)\n",
    "    plotH(time, pos, i)\n",
    "    plt.ylabel(\"Velocity(m/s) or Height(m)\")\n",
    "    \n",
    "    ball.visible=False\n",
    "    floor.visible=False\n"
   ]
  },
  {
   "cell_type": "markdown",
   "id": "aa030114",
   "metadata": {},
   "source": [
    "# d.) Ball falling at accerlation due to gravity with air resistance\n",
    "\n",
    "**Comments**\n",
    "\n",
    "1. $F_{drag} = \\frac{C_{d}pV^{2}A}{2}$\n",
    "2. Using Newton's second law: $F = ma$\n",
    "3. $a = \\frac{F_{drag}}{m} = \\frac{mg - F_{drag}}{m}$\n",
    "\n",
    "**Assumptions**\n",
    "1. mass of ball = 50kg\n",
    "2. $C_{d} = 0.5$ (typical Coefficient of drag for a sphere)\n",
    "3. $p = 1.225 kg/m^{3}$ (typical density for air)\n",
    "4. $Area = 4\\pi r^{2}$ (area of a sphere)"
   ]
  },
  {
   "cell_type": "code",
   "execution_count": 12,
   "id": "54d72c20",
   "metadata": {},
   "outputs": [
    {
     "data": {
      "text/html": [
       "<div id=\"glowscript\" class=\"glowscript\"></div>"
      ],
      "text/plain": [
       "<IPython.core.display.HTML object>"
      ]
     },
     "metadata": {},
     "output_type": "display_data"
    },
    {
     "data": {
      "application/javascript": [
       "if (typeof Jupyter !== \"undefined\") { window.__context = { glowscript_container: $(\"#glowscript\").removeAttr(\"id\")};}else{ element.textContent = ' ';}"
      ],
      "text/plain": [
       "<IPython.core.display.Javascript object>"
      ]
     },
     "metadata": {},
     "output_type": "display_data"
    }
   ],
   "source": [
    "scene5=canvas(background=color.cyan)"
   ]
  },
  {
   "cell_type": "code",
   "execution_count": 13,
   "id": "d0571ff7",
   "metadata": {
    "scrolled": true
   },
   "outputs": [
    {
     "name": "stdout",
     "output_type": "stream",
     "text": [
      "Max velocity 1: 10.023215191330422 m/s\n",
      "Max velocity 2: 11.281399922971618 m/s\n",
      "Max velocity 3: 11.283790653462257 m/s\n"
     ]
    },
    {
     "data": {
      "image/png": "[encoded data removed]",
      "text/plain": [
       "<Figure size 432x288 with 1 Axes>"
      ]
     },
     "metadata": {
      "needs_background": "light"
     },
     "output_type": "display_data"
    }
   ],
   "source": [
    "h = [10, 50, 100]\n",
    "for i in range(3) :\n",
    "    ball = sphere(pos=vector(0, int(h[i]), 0), radius=1, color=color.yellow) #initial height is set to 50m\n",
    "    ball.velocity=vector(0, 0, 0)\n",
    "    floor = box(pos=vector(0, 0, 0), size=vector(10, 0.25, 10), color=color.red)\n",
    "\n",
    "    dt = 0.01\n",
    "    t = 0\n",
    "    ball.acceleration = vector(0,g,0)\n",
    "    drag_coef = 0.5\n",
    "    rho = 1.225\n",
    "    mass = 50\n",
    "    area = 4 * 3.14 * ball.radius **2\n",
    "    \n",
    "    vel = [] \n",
    "    time = []\n",
    "    pos = []\n",
    "\n",
    "    while (ball.pos.y > 0):\n",
    "        rate(100)\n",
    "        vel.append(abs(ball.velocity.y)) # update velocity list\n",
    "        time.append(t) # update time list\n",
    "        pos.append(ball.pos.y) # update position list\n",
    "        \n",
    "        # update the ball's position and velocity at each time step\n",
    "        ball.pos = ball.pos + ball.velocity * dt\n",
    "        ball.velocity.y = ball.velocity.y + ball.acceleration.y * dt\n",
    "        \n",
    "        # solving for acceleration from equation 3 under comments and changing sign appropriately for force direction\n",
    "        ball.acceleration.y = -(mass * 9.8 - (2 * math.pi * drag_coef * rho * ball.velocity.y ** 2)) / mass\n",
    "        t += dt\n",
    "        \n",
    "    maxVel = max(vel)\n",
    "    print(\"Max velocity \" + str(i + 1) + \": \" + str(maxVel) + \" m/s\")\n",
    "\n",
    "    plotV(time, vel, i)\n",
    "    plotH(time, pos, i)\n",
    "    plt.ylabel(\"Velocity(m/s) or Height(m)\")\n",
    "    \n",
    "    ball.visible=False\n",
    "    floor.visible=False"
   ]
  },
  {
   "cell_type": "markdown",
   "id": "56d42b3a",
   "metadata": {},
   "source": [
    "# Results\n",
    "\n",
    "In the first simulation without air resistance, for each iteration with increasing height, the velocity increases and would increase without limitation with no external forces acting on the ball.  We observe from the graph that velocity continues to increase linearly.  In the second simulation that factors in air resistance, we can observe from the graph that for velocity increases linearly then becomes constant when $F_{drag}$ equals $mg$ making acceleration 0 and velocity constant (Terminal Velocity).  Observing height as a function of time, we see a similar curve at the start and then a linearly decreasing line consistent with our expectations considering the that derivative of position vs time is velocity.  Where height intersects velocity on each graph is the maximum velocity at its respective height."
   ]
  },
  {
   "cell_type": "markdown",
   "id": "5f21a075",
   "metadata": {},
   "source": [
    "# e.) Ball bouncing inelastically\n",
    "\n",
    "**Comments**\n",
    "1. Coefficient of Restitution = $\\frac{v_{after}}{v_{before}}$ \n",
    "    1. Velocities before and after collision\n",
    "2. $v_{after} = v_{before}COR$\n",
    "3. Where $COR = 1$ is perfectly elastic and $COR = 0$ is perfectly inelastic.\n",
    "  \n",
    "**Assumptions**\n",
    "1. COR = 0.8\n",
    "2. $h_{0} = 20m$\n",
    "3. Ball falls at $9.8m/s^{2}$\n",
    "4. No other forces acting on the ball \n"
   ]
  },
  {
   "cell_type": "code",
   "execution_count": 14,
   "id": "7211b476",
   "metadata": {
    "scrolled": true
   },
   "outputs": [
    {
     "data": {
      "text/html": [
       "<div id=\"glowscript\" class=\"glowscript\"></div>"
      ],
      "text/plain": [
       "<IPython.core.display.HTML object>"
      ]
     },
     "metadata": {},
     "output_type": "display_data"
    },
    {
     "data": {
      "application/javascript": [
       "if (typeof Jupyter !== \"undefined\") { window.__context = { glowscript_container: $(\"#glowscript\").removeAttr(\"id\")};}else{ element.textContent = ' ';}"
      ],
      "text/plain": [
       "<IPython.core.display.Javascript object>"
      ]
     },
     "metadata": {},
     "output_type": "display_data"
    }
   ],
   "source": [
    "scene6=canvas()"
   ]
  },
  {
   "cell_type": "code",
   "execution_count": 15,
   "id": "9dc81b52",
   "metadata": {},
   "outputs": [
    {
     "data": {
      "image/png": "[encoded data removed]",
      "text/plain": [
       "<Figure size 432x288 with 1 Axes>"
      ]
     },
     "metadata": {
      "needs_background": "light"
     },
     "output_type": "display_data"
    }
   ],
   "source": [
    "sphere(pos=vector(0,0,0),texture=\"https://i.imgur.com/1nVWbbd.jpg\",radius=75,shininess=1)\n",
    "scene6.range = 45\n",
    "\n",
    "\n",
    "ball = sphere(pos=vector(0,20,0), radius=1, color=color.yellow)\n",
    "ball.velocity=vector(0, 0, 0)\n",
    "floor = box(pos=vector(0,0,0), size = vector(10,0.25,10), color=color.cyan)\n",
    "\n",
    "dt = 0.01\n",
    "t = 0\n",
    "cor = 0.8\n",
    "\n",
    "h = []\n",
    "time = []\n",
    "\n",
    "while (t<13):\n",
    "    rate(100)\n",
    "    h.append(ball.pos.y)\n",
    "    time.append(t)\n",
    "    \n",
    "    scene6.camera.pos=vector(17.6062, 14.1214 , 16.5177 - 4*t)\n",
    "    scene6.camera.axis=vector(-19.6865, -9.09437, -19.1198 + 5*t)\n",
    "    \n",
    "    updateBall()\n",
    "\n",
    "    if (ball.pos.y < floor.pos.y):\n",
    "        v2 = cor * abs(ball.velocity.y) # calculate velocity after collision from COR\n",
    "        ball.velocity.y = v2\n",
    "    t += dt\n",
    "    \n",
    "plotH(time, h, 0)"
   ]
  },
  {
   "cell_type": "markdown",
   "id": "c96c9ba6",
   "metadata": {},
   "source": [
    "# Results\n",
    "\n",
    "This simulation demonstrates conservation of energy factoring in the losses from internal forces (elasticity of the ball) using a coefficient of restitution *e* of 0.8, where 1 would be perfectly elastic and 0 would be perfectly inelastic.  This was verified by plotting the ball's position with respect to time and observing the consistency of the next height $h_{1} = e^{2}h_{0}$ at each bounce.  In this case, $e = 0.8$ so after the first bounce the ball should reach $h_{1} = 12.8m$.  "
   ]
  }
 ],
 "metadata": {
  "kernelspec": {
   "display_name": "Python 3",
   "language": "python",
   "name": "python3"
  },
  "language_info": {
   "codemirror_mode": {
    "name": "ipython",
    "version": 3
   },
   "file_extension": ".py",
   "mimetype": "text/x-python",
   "name": "python",
   "nbconvert_exporter": "python",
   "pygments_lexer": "ipython3",
   "version": "3.7.11"
  }
 },
 "nbformat": 4,
 "nbformat_minor": 5
}
