{
 "cells": [
  {
   "cell_type": "code",
   "execution_count": 1,
   "id": "feae06bc",
   "metadata": {
    "scrolled": false
   },
   "outputs": [
    {
     "data": {
      "text/html": [
       "<div id=\"glowscript\" class=\"glowscript\"></div>"
      ],
      "text/plain": [
       "<IPython.core.display.HTML object>"
      ]
     },
     "metadata": {},
     "output_type": "display_data"
    },
    {
     "data": {
      "application/javascript": [
       "if (typeof Jupyter !== \"undefined\") { window.__context = { glowscript_container: $(\"#glowscript\").removeAttr(\"id\")};}else{ element.textContent = ' ';}"
      ],
      "text/plain": [
       "<IPython.core.display.Javascript object>"
      ]
     },
     "metadata": {},
     "output_type": "display_data"
    }
   ],
   "source": [
    "from vpython import*\n",
    "import numpy as np\n",
    "import random"
   ]
  },
  {
   "cell_type": "markdown",
   "id": "b8a13f3f",
   "metadata": {},
   "source": [
    "# Introduction\n",
    "\n",
    "**The is simulation of the game Tetris. Designed and programmed by Alexey Pajitnov and released June 6th,1984, the game randomly generates a block(Tetromino) consisting of 4 squares that floats to the bottom of the screen and the player must orient the block in a way that a whole row of blocks can be eliminated. If blocks cannot be cleared, they will build up until they reach the top of the board in which you lose. An interesting note is that the game is unbeatable. I chose this system because I like to play games like this and Conway's Game of Life reminded me of games similar to Tetris (and I had no other ideas).**"
   ]
  },
  {
   "cell_type": "markdown",
   "id": "880b232c",
   "metadata": {},
   "source": [
    "# Motivation\n",
    "\n",
    "**Many games that are even popular now (i.e., Candy Crush) use the same or similar basis of operation.  Every game that has some sort of block or shape that need to be arranged in some way to match or elimate a group of these objects uses an algorithm that performs some sort matrix operations and a set of rules for a cell or group of cells to follow under different conditions.  At a higher level, modern gaming components like GPU's are specifically designed to deal with matrix operations to model a 3D environment.  Familiarizing with game implementation and design has a wide range of application.  From a different perspective, research has show that games like Tetris stimulate the brain in a way that helps train your brain to problem solve efficienty and have faster decision making skills because of the increasing speed of the game and puzzle format.**"
   ]
  },
  {
   "cell_type": "markdown",
   "id": "e93a2f3f",
   "metadata": {},
   "source": [
    "# Background \n",
    "\n",
    "**Similarly to Conway's Game of Life, there are a set of rules for each cell on the board to follow. However, in Tetris, there are a set of fixed block shapes that are to be generated in a random order. The Tetrominos only have to continously move down the board remain in a fixed position once it has reached either another block or the bottom of the board, and clear a row if a row has been successfully fixed with 10 cells.  The player must orient each block that generates in such a way that you clear rows more often then not.**\n",
    "\n",
    "**In the class Block, a list is created to store the different block configurations. Each Element contains an array of integers, each being an index to represent the blocks to create the shape. The inner lists contains each Tetrominos rotations. A random integer is generated to determine the Tetromino shape and color. The 2D list representing the Tetromino's shape and orientation is returned by the member function block() to be used by the Tetris class. The rotate member function simply returns index of the list for the next orientation specific to the current type.**\n",
    "\n",
    "**The Tetris class creates an array to represent the board, member functions to: create a new Tetromino, check if a Tetromino hits another Tetromino, break a row if the player has filled a valid row (and incrementing score), stop a Tetromino if it has reached the bottom, and to controls to move an active Tetromino.**\n",
    "\n",
    "**The game loop executes until the game state has been changed to \"end\", which is when the top of the board is reached by a Tetrimino or when the player quits.  A Tetromino is generated at the beginning of a game and the member function is called to move it down. The active Tetromino will continuously fall until it has reached the bottom or reached another.  Then, board is created visually checking the state of the board.  If there is a stationary Tetromino, the colors of the cells are changed accordingly by checking the Block objects attribute, \"color\".  The next loop adjusts the visibility of the currently falling Tetromino by simply moving the previous position of the Tetromino underneath the visible board since the Tetromino is technically being generated every movement.**\n",
    "\n",
    "**The commands are issued by a separate function called keyInput. Where it reads a keyboard event and determines which of the arrow keys are hit and executing a specific command for each arrow key. Each case calls a member function from the Tetris class to move the Tetromino. KeyInput is bound to the scene with scene.bind() so that any keyboard event of pressing down a key will be read throughout the duration of the program.**\n",
    "\n",
    "**The relevant concept to this project is Conway's Game of Life.  I used a very similar logic for the game loop as I did in that project. Additionally, creating rules in which the cells had to follow were modulated into functions in a similar manner; albeit, not automously. Other necessary knowledge was the game rules for Tetris. The board is a standard of 20, 10 cells.  Each Tetromino consists of 4 cells.  Each level increases in speed which I did not add for ease of validation (it's already kind of hard to play). A full row is to be removed and adds to the score and then moving the cells above it down.  The game is over when the Tetrominos reach the top of the board.**\n",
    "\n",
    "# Note: game is flipped upside down\n",
    "\n",
    "**I could not find a tangible solution to using an array to represent the board but also have it oriented the correct way visually, so the game appears upside down. However, the game plays exactly as it should.**\n"
   ]
  },
  {
   "cell_type": "markdown",
   "id": "aa54ed26",
   "metadata": {},
   "source": [
    "# The following shell command will execute my file assuming .py file is in same directory as .ipynb file.\n",
    "\n",
    "**Controls: Arrow keys\n",
    "    Up - Rotate\n",
    "    Left - Move left\n",
    "    Right - Move right\n",
    "    Down - Move faster down\n",
    "    ESC - Quit game**\n",
    "\n",
    "**Jupyter Notebook has limitations on using keyboard events because certain keys are built into the Jupyter Notebook interface, so I wrote a python script to execute my program so that the controls will work properly.**\n",
    "\n",
    "**If there are technical difficulties running the script, the code is provided below but it will be hard to actually play and verify.**"
   ]
  },
  {
   "cell_type": "code",
   "execution_count": 2,
   "id": "4c1a2569",
   "metadata": {},
   "outputs": [],
   "source": [
    "!python3 SommerJuin_final.py"
   ]
  },
  {
   "cell_type": "markdown",
   "id": "636c6bff",
   "metadata": {},
   "source": [
    "# In case of technical difficulties and for reference"
   ]
  },
  {
   "cell_type": "code",
   "execution_count": null,
   "id": "c3d059f1",
   "metadata": {},
   "outputs": [],
   "source": [
    "from vpython import*\n",
    "import numpy as np\n",
    "import random\n",
    "\n",
    "# list of colors to be randomly chosen for each random block type generated\n",
    "colors = [ vector(1, 0, 0), vector(0, 1, 0), vector(0, 0, 1), vector(1, 1, 0),\n",
    "           vector(1, 0, 1), vector(0, 0, 0), vector(1, 1, 1) ]\n",
    "\n",
    "# class to create blocks\n",
    "class Block:\n",
    "    x = 0\n",
    "    y = 0\n",
    "    \n",
    "    # list of Tetrominos and their rotations. Each number represents a cell in an array that represent block type\n",
    "    blocks = [ [[1, 5, 9, 13], [4, 5, 6, 7]], [[4, 5, 9, 10], [2, 6, 5, 9]],\n",
    "                [[6, 7, 9, 10], [1, 5, 6, 10]],\n",
    "                [[1, 2, 5, 9], [0, 4, 5, 6], [1, 5, 9, 8], [4, 5, 6, 10]],\n",
    "                [[1, 2, 6, 10], [5, 6, 7, 9], [2, 6, 10, 11], [3, 5, 6, 7]],\n",
    "                [[1, 4, 5, 6], [1, 4, 5, 9], [4, 5, 6, 9], [1, 5, 6, 9]],\n",
    "                [[1, 2, 5, 6]] ]\n",
    "\n",
    "    def __init__(self, x, y):\n",
    "        self.x = x\n",
    "        self.y = y\n",
    "        self.type = random.randint(0, len(self.blocks) - 1) # randomly select a block type\n",
    "        self.color = random.randint(1, len(colors) - 1) # randomly select a color\n",
    "        self.rotation = 0\n",
    "    \n",
    "    # returns block type and its current orientation\n",
    "    def block(self):\n",
    "        return self.blocks[self.type][self.rotation]\n",
    "    \n",
    "    # rotate the block\n",
    "    def rotate(self):\n",
    "        self.rotation = (self.rotation + 1) % len(self.blocks[self.type])\n",
    "\n",
    "class Tetris:\n",
    "    score = 0\n",
    "    state = \"start\" # signify state of game\n",
    "    board = [] \n",
    "    x = 100 \n",
    "    y = 60\n",
    "    zoom = 20\n",
    "    block = None\n",
    "    \n",
    "    # initialize game\n",
    "    def __init__(self):\n",
    "        self.board = []\n",
    "        self.score = 0\n",
    "        self.state = \"start\"\n",
    "        self.height = 20 # height of board\n",
    "        self.width = 10 # width of board\n",
    "        \n",
    "        for i in range(self.height):\n",
    "            new_line = []\n",
    "            for j in range(self.width):\n",
    "                new_line.append(0)\n",
    "            self.board.append(new_line)\n",
    "     \n",
    "    # create new block\n",
    "    def new_block(self):\n",
    "        self.block = Block(3, 0)\n",
    "        \n",
    "    # check if current block touches another block on the board\n",
    "    def hit_block(self):\n",
    "        hit = False\n",
    "        for i in range(4):\n",
    "            for j in range(4):\n",
    "                if i * 4 + j in self.block.block():\n",
    "                    if i + self.block.y > self.height - 1 or \\\n",
    "                            j + self.block.x > self.width - 1 or \\\n",
    "                            j + self.block.x < 0 or \\\n",
    "                            self.board[i + self.block.y][j + self.block.x] > 0:\n",
    "                        hit = True\n",
    "        return hit\n",
    "    \n",
    "    # function to remove line of blocks if valid and increment score\n",
    "    def break_lines(self):\n",
    "        lines = 0\n",
    "        for i in range(1, self.height):\n",
    "            zeros = 0\n",
    "            for j in range(self.width):\n",
    "                if self.board[i][j] == 0:\n",
    "                    zeros += 1\n",
    "            if zeros == 0:\n",
    "                lines += 1\n",
    "                for i1 in range(i, 1, -1):\n",
    "                    for j in range(self.width):\n",
    "                        self.board[i1][j] = self.board[i1 - 1][j]\n",
    "        self.score += lines ** 2\n",
    "\n",
    "    # stop block at end of board\n",
    "    def stop(self):\n",
    "        for i in range(4):\n",
    "            for j in range(4):\n",
    "                if i * 4 + j in self.block.block():\n",
    "                    self.board[i + self.block.y][j + self.block.x] = self.block.color\n",
    "        # checks for a row\n",
    "        self.break_lines()\n",
    "        self.new_block()\n",
    "        if self.hit_block():\n",
    "            self.state = \"end\"\n",
    "            \n",
    "    ## game controls ##         \n",
    "    def move_down(self):\n",
    "        self.block.y += 1\n",
    "        if self.hit_block():\n",
    "            self.block.y -= 1\n",
    "            self.stop()\n",
    "    \n",
    "    # move left or right\n",
    "    def move_side(self, dx):\n",
    "        old_x = self.block.x\n",
    "        self.block.x += dx\n",
    "        if self.hit_block():\n",
    "            self.block.x = old_x\n",
    "            \n",
    "    # rotate block\n",
    "    def rotate(self):\n",
    "        old_rotation = self.block.rotation\n",
    "        self.block.rotate()\n",
    "        if self.hit_block():\n",
    "            self.block.rotation = old_rotation\n",
    "\n",
    "# function to receive keyboard input for controls\n",
    "def keyInput(evt):\n",
    "    k = evt.key\n",
    "    if 'left' in k: game.move_side(-1)\n",
    "    if 'right' in k: game.move_side(1)\n",
    "    if 'down' in k: game.move_down()\n",
    "    if 'up' in k: game.rotate()\n",
    "    if 'esc' in k: game.state = \"end\"\n",
    "\n",
    "\n",
    "# set up game #\n",
    "scene = canvas()\n",
    "cellSize = vector(19, 19, .5)\n",
    "cells = np.zeros((20,10), object)\n",
    "scene.center = 0.5 * 300 * vector(1,1,-10)\n",
    "scene.bind('keydown', keyInput)\n",
    "game = Tetris()\n",
    "\n",
    "# loop until game is finished\n",
    "while game.state != \"end\":\n",
    "    rate(2)\n",
    "\n",
    "    # generate new block at start of game or when previous block is stationary\n",
    "    if game.block is None:\n",
    "        game.new_block()\n",
    "    \n",
    "    # continuously fall down\n",
    "    game.move_down()\n",
    "\n",
    "    # create board with cyan color cells\n",
    "    for i in range(game.height):\n",
    "        for j in range(game.width):\n",
    "            cells[i,j] = box(pos=vector(game.x + game.zoom * j, game.y + game.zoom * i, 0), color=color.cyan, size=cellSize)\n",
    "            # stores visibility of blocks that are stationary at bottom of board\n",
    "            if game.board[i][j] > 0:\n",
    "                cells[i,j].color = vector(colors[game.board[i][j]])\n",
    "                \n",
    "               \n",
    "    # if there's a block in play on the board\n",
    "    if game.block is not None:\n",
    "        for i in range(4):\n",
    "            for j in range(4):\n",
    "                p = i * 4 + j\n",
    "                if p in game.block.block():\n",
    "                    # adjust visibility of block as its moving down board\n",
    "                    box(pos=vector(game.x + game.zoom * (j + game.block.x), game.y + game.zoom * (i + game.block.y), 0), color=vector(colors[game.block.color]), size=cellSize)\n",
    "\n",
    "print(\"Game Over\\n\")\n",
    "print(\"Score: \", game.score)"
   ]
  },
  {
   "cell_type": "markdown",
   "id": "39ce7275",
   "metadata": {},
   "source": [
    "# Verfication\n",
    "\n",
    "**I didn't have any values or graphs that had to be compared to verify the simulation.  All that was needed was to play the game and verify that it obeyed the canonical rules of Tetris. I played it enough times to verify that when rows were completed, the row was broken and all cells above that row were moved accordingly and the score was incremented. I inevitably verfied that you lose the game when a Tetromino touches the top (or bottom in my case). I verified that when the Tetrominos reached the bottom, their state was saved and they remain stationary from a visual perspective. Verfication of controls was necessary beforehand and was annoying because it had to be more than barely playable using vpython and not something like pygame.**\n",
    "\n",
    "**Unfortunately, there isn't really a way to show that it works besides actually playing it, so there aren't graphs or data to showcase.**"
   ]
  },
  {
   "cell_type": "markdown",
   "id": "2bf97b97",
   "metadata": {},
   "source": [
    "# Scenarios\n",
    "\n",
    "**Again, there aren't any specific scenarios with different initial conditions to test other than in game\n",
    "situations.**"
   ]
  },
  {
   "cell_type": "markdown",
   "id": "4e60ede3",
   "metadata": {},
   "source": [
    "# Results\n",
    "\n",
    "**The game works lol**\n",
    "\n",
    "**There's some latency from the controls to when it happens in the game and is pretty garbage but the game works completely. These sections are worth so many points but there isn't really anything for me to say....**"
   ]
  },
  {
   "cell_type": "markdown",
   "id": "10a323f3",
   "metadata": {},
   "source": [
    "# Evaluation\n",
    "\n",
    "**The game was most playable with using rate(2). Tracking time and using a time step was not necessary. However if I wanted make the game harder then I would add some small increment to rate after each new Tetromino. The biggest challenge was getting the game to be playable in vpython. I tried using buttons because of the limitations of jupyter notebook using keyboard events and it did not work well at all. It basically didn't work. To fix that I just copied the program into a python script and used a jupyter notebook command \"!\" to run it as a shell command so that the game would be executed in a separate window and the keyboard commands would not interfere with the jupyter notebook interface.  If you played the game in a jupyter notebook cell, you'd know what I'm talking about. It's super annoying.  Another challenge was getting the game to look right in vpython. Scaling the boxes and generating different colors specific to vpython was pretty annoying too. Please have mercy on me.**"
   ]
  },
  {
   "cell_type": "markdown",
   "id": "ba2478fd",
   "metadata": {},
   "source": [
    "# Conclusions and future work\n",
    "\n",
    "**Making Tetris in using Python was kinda cool. It would've been easier just to make it playable in pygame. If there was more time, I would've made the game interface look more like an actual game. Had the score displayed, widgets to start and quit the game, maybe some garbage music to listen to while you play. Thanks for being a TA, Shuda. Bye!! :D**"
   ]
  }
 ],
 "metadata": {
  "kernelspec": {
   "display_name": "Python 3",
   "language": "python",
   "name": "python3"
  },
  "language_info": {
   "codemirror_mode": {
    "name": "ipython",
    "version": 3
   },
   "file_extension": ".py",
   "mimetype": "text/x-python",
   "name": "python",
   "nbconvert_exporter": "python",
   "pygments_lexer": "ipython3",
   "version": "3.7.11"
  }
 },
 "nbformat": 4,
 "nbformat_minor": 5
}
