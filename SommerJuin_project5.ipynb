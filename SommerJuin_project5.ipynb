{
 "cells": [
  {
   "cell_type": "code",
   "execution_count": 1,
   "id": "b09ffcc5",
   "metadata": {
    "scrolled": true
   },
   "outputs": [
    {
     "data": {
      "text/html": [
       "<div id=\"glowscript\" class=\"glowscript\"></div>"
      ],
      "text/plain": [
       "<IPython.core.display.HTML object>"
      ]
     },
     "metadata": {},
     "output_type": "display_data"
    },
    {
     "data": {
      "application/javascript": [
       "if (typeof Jupyter !== \"undefined\") { window.__context = { glowscript_container: $(\"#glowscript\").removeAttr(\"id\")};}else{ element.textContent = ' ';}"
      ],
      "text/plain": [
       "<IPython.core.display.Javascript object>"
      ]
     },
     "metadata": {},
     "output_type": "display_data"
    }
   ],
   "source": [
    "from vpython import*\n",
    "from queue import PriorityQueue"
   ]
  },
  {
   "cell_type": "code",
   "execution_count": 2,
   "id": "9683f01c",
   "metadata": {},
   "outputs": [],
   "source": [
    "clock = 0\n",
    "\n",
    "class Net:\n",
    "    def __init__(self, driver, instance, time, on=0):\n",
    "        self.value = None\n",
    "        self.instance = instance\n",
    "        self.driver = driver\n",
    "        self.receivers = []\n",
    "        self.on = on \n",
    "        self.time = time\n",
    "\n",
    "    def connect(self, inputs):\n",
    "        if not isinstance(inputs, list):\n",
    "            inputs = [inputs]\n",
    "            \n",
    "        for input in inputs:\n",
    "            self.receivers.append(input)\n",
    "\n",
    "    def set(self, value):\n",
    "        if self.value == value:\n",
    "            return \n",
    "        \n",
    "        self.value = value\n",
    "        \n",
    "        if self.on:\n",
    "            self.driver.evaluate()\n",
    "            \n",
    "        for c in self.receivers:\n",
    "            c.set(value)\n",
    "        \n",
    "class Logic:\n",
    "    def __init__(self, name):\n",
    "        self.name = name\n",
    "\n",
    "    def evaluate(self):\n",
    "        return\n",
    "\n",
    "class Gate(Logic):        \n",
    "    def __init__(self, name, instance, delay):\n",
    "        Logic.__init__(self, name)\n",
    "        self.instance = instance\n",
    "        self.A = Net(self, instance, time=0, on=1)\n",
    "        self.B = Net(self, instance+1, time=0, on=1)\n",
    "        self.C = Net(self, instance+2, time=delay, on=1)\n",
    "        \n",
    "class Nand(Gate):       \n",
    "    def __init__(self, name, instance):\n",
    "        Gate.__init__(self, name, instance, 1)\n",
    "        \n",
    "    def evaluate(self):\n",
    "        result = not(self.A.value and self.B.value)\n",
    "        self.C.set(int(result))\n",
    "        \n",
    "class Nor(Gate):         \n",
    "    def __init__(self, name, instance):\n",
    "        Gate.__init__(self, name, instance, 1)\n",
    "\n",
    "    def evaluate(self):\n",
    "        result = not(self.A.value and self.B.value)\n",
    "        self.C.set(int(result))\n",
    "        \n",
    "class Event:\n",
    "    \n",
    "    def __init__(self, net, t):\n",
    "        self.instance = net.instance \n",
    "        self.value = net.value \n",
    "        self.time = net.time + t\n",
    "        \n",
    "    def __lt__(self, other): return self.time < other.time\n",
    "    \n",
    "    def __le__(self, other): return self.time <= other.time\n",
    "        \n",
    "    def __eq__(self, other): return self.time == other.time\n",
    "    \n",
    "    def __gt__(self, other): return self.time > other.time\n",
    "    \n",
    "    def __ge__(self, other): return self.time >= other.time\n",
    "        \n",
    "    \n",
    "        \n",
    "def set_input(gate, a, b):\n",
    "    gate.A.set(a)\n",
    "    gate.B.set(b)"
   ]
  },
  {
   "cell_type": "code",
   "execution_count": 3,
   "id": "94dca3f2",
   "metadata": {},
   "outputs": [],
   "source": [
    "t = 0\n",
    "truth_values = [(0,0), (0,1), (1,0), (1,1)]\n",
    "\n",
    "event_q = PriorityQueue()\n",
    "\n",
    "nand1 = Nand('nand1', 0)\n",
    "nand2 = Nand('nand2', 1)\n",
    "    \n",
    "nor = Nor('nor1', 2)\n",
    "nand1.C.connect([nor.A])\n",
    "nand2.C.connect([nor.B])\n",
    "\n",
    "for i in range(4):\n",
    "    a,b = truth_values[i]\n",
    "    set_input(nand1, a, b)\n",
    "    set_input(nand2, a, b)\n",
    "\n",
    "e1 = Event(, t)\n",
    "event_q.put(e1)"
   ]
  },
  {
   "cell_type": "code",
   "execution_count": 4,
   "id": "c0f66624",
   "metadata": {},
   "outputs": [
    {
     "data": {
      "text/html": [
       "<div id=\"glowscript\" class=\"glowscript\"></div>"
      ],
      "text/plain": [
       "<IPython.core.display.HTML object>"
      ]
     },
     "metadata": {},
     "output_type": "display_data"
    },
    {
     "data": {
      "application/javascript": [
       "if (typeof Jupyter !== \"undefined\") { window.__context = { glowscript_container: $(\"#glowscript\").removeAttr(\"id\")};}else{ element.textContent = ' ';}"
      ],
      "text/plain": [
       "<IPython.core.display.Javascript object>"
      ]
     },
     "metadata": {},
     "output_type": "display_data"
    }
   ],
   "source": [
    "scene2 = canvas()"
   ]
  },
  {
   "cell_type": "code",
   "execution_count": 5,
   "id": "32a817e5",
   "metadata": {},
   "outputs": [
    {
     "data": {
      "application/javascript": [
       "if (typeof Jupyter !== \"undefined\") {require.undef(\"nbextensions/vpython_libraries/glow.min\");}else{element.textContent = ' ';}"
      ],
      "text/plain": [
       "<IPython.core.display.Javascript object>"
      ]
     },
     "metadata": {},
     "output_type": "display_data"
    },
    {
     "data": {
      "application/javascript": [
       "if (typeof Jupyter !== \"undefined\") {require.undef(\"nbextensions/vpython_libraries/glowcomm\");}else{element.textContent = ' ';}"
      ],
      "text/plain": [
       "<IPython.core.display.Javascript object>"
      ]
     },
     "metadata": {},
     "output_type": "display_data"
    },
    {
     "data": {
      "application/javascript": [
       "if (typeof Jupyter !== \"undefined\") {require.undef(\"nbextensions/vpython_libraries/jquery-ui.custom.min\");}else{element.textContent = ' ';}"
      ],
      "text/plain": [
       "<IPython.core.display.Javascript object>"
      ]
     },
     "metadata": {},
     "output_type": "display_data"
    },
    {
     "data": {
      "application/javascript": [
       "if (typeof Jupyter !== \"undefined\") {require([\"nbextensions/vpython_libraries/glow.min\"], function(){console.log(\"GLOW LOADED\");});}else{element.textContent = ' ';}"
      ],
      "text/plain": [
       "<IPython.core.display.Javascript object>"
      ]
     },
     "metadata": {},
     "output_type": "display_data"
    },
    {
     "data": {
      "application/javascript": [
       "if (typeof Jupyter !== \"undefined\") {require([\"nbextensions/vpython_libraries/glowcomm\"], function(){console.log(\"GLOWCOMM LOADED\");});}else{element.textContent = ' ';}"
      ],
      "text/plain": [
       "<IPython.core.display.Javascript object>"
      ]
     },
     "metadata": {},
     "output_type": "display_data"
    },
    {
     "data": {
      "application/javascript": [
       "if (typeof Jupyter !== \"undefined\") {require([\"nbextensions/vpython_libraries/jquery-ui.custom.min\"], function(){console.log(\"JQUERY LOADED\");});}else{element.textContent = ' ';}"
      ],
      "text/plain": [
       "<IPython.core.display.Javascript object>"
      ]
     },
     "metadata": {},
     "output_type": "display_data"
    },
    {
     "ename": "NameError",
     "evalue": "name 'nets' is not defined",
     "output_type": "error",
     "traceback": [
      "\u001b[0;31m---------------------------------------------------------------------------\u001b[0m",
      "\u001b[0;31mNameError\u001b[0m                                 Traceback (most recent call last)",
      "\u001b[0;32m<ipython-input-5-a6451a4ded73>\u001b[0m in \u001b[0;36m<module>\u001b[0;34m\u001b[0m\n\u001b[1;32m     12\u001b[0m \u001b[0;34m\u001b[0m\u001b[0m\n\u001b[1;32m     13\u001b[0m     \u001b[0;31m# update_net(event)\u001b[0m\u001b[0;34m\u001b[0m\u001b[0;34m\u001b[0m\u001b[0;34m\u001b[0m\u001b[0m\n\u001b[0;32m---> 14\u001b[0;31m     \u001b[0;32mif\u001b[0m \u001b[0mindex\u001b[0m \u001b[0;34m<\u001b[0m \u001b[0mlen\u001b[0m\u001b[0;34m(\u001b[0m\u001b[0mnets\u001b[0m\u001b[0;34m)\u001b[0m\u001b[0;34m:\u001b[0m\u001b[0;34m\u001b[0m\u001b[0;34m\u001b[0m\u001b[0m\n\u001b[0m\u001b[1;32m     15\u001b[0m         \u001b[0mnext_event\u001b[0m \u001b[0;34m=\u001b[0m \u001b[0mEvent\u001b[0m\u001b[0;34m(\u001b[0m\u001b[0mnetA\u001b[0m\u001b[0;34m[\u001b[0m\u001b[0mindex\u001b[0m\u001b[0;34m]\u001b[0m\u001b[0;34m,\u001b[0m \u001b[0mt\u001b[0m\u001b[0;34m)\u001b[0m\u001b[0;34m\u001b[0m\u001b[0;34m\u001b[0m\u001b[0m\n\u001b[1;32m     16\u001b[0m         \u001b[0mindex\u001b[0m \u001b[0;34m+=\u001b[0m \u001b[0;36m1\u001b[0m\u001b[0;34m\u001b[0m\u001b[0;34m\u001b[0m\u001b[0m\n",
      "\u001b[0;31mNameError\u001b[0m: name 'nets' is not defined"
     ]
    }
   ],
   "source": [
    "network1 = graph(title=\"Nand Gate\", xtitle='time', ytitle='value', fast=False, width=800)\n",
    "gate1 = gcurve(color=color.blue, width=4, markers=True, marker_color=color.black, label='nand1')\n",
    "\n",
    "while not event_q.empty():\n",
    "    # get next event\n",
    "    event = event_q.get()\n",
    "    \n",
    "    # update time\n",
    "    t += event.time - clock\n",
    "    clock = t\n",
    "    gate1.plot(clock, event.value)\n",
    "    \n",
    "    # update_net(event)\n",
    "    if index < len(nets):\n",
    "        next_event = Event(, t)\n",
    "        index += 1\n",
    "    \n",
    "        # post new event\n",
    "        event_q.put(next_event)\n",
    "    \n",
    "    # update visualization\n",
    "    gate1.plot(clock, next_event.value)"
   ]
  },
  {
   "cell_type": "code",
   "execution_count": null,
   "id": "60595a6f",
   "metadata": {},
   "outputs": [],
   "source": []
  }
 ],
 "metadata": {
  "kernelspec": {
   "display_name": "Python 3",
   "language": "python",
   "name": "python3"
  },
  "language_info": {
   "codemirror_mode": {
    "name": "ipython",
    "version": 3
   },
   "file_extension": ".py",
   "mimetype": "text/x-python",
   "name": "python",
   "nbconvert_exporter": "python",
   "pygments_lexer": "ipython3",
   "version": "3.7.11"
  }
 },
 "nbformat": 4,
 "nbformat_minor": 5
}
